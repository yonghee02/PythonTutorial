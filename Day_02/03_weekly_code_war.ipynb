{
 "cells": [
  {
   "cell_type": "markdown",
   "metadata": {},
   "source": [
    "#### 1. Sum of the first nth term of Series\n",
    "\n",
    " - Task\n",
    " \n",
    "     * Your task is to write a function which returns the sum of following series upto nth term(parameter).\n",
    "\n",
    " > Series: 1 + 1/4 + 1/7 + 1/10 + 1/13 + 1/16 +...\n",
    "\n",
    " - Rules: \n",
    " \n",
    "     * You need to round the answer to 2 decimal places and return it as String.\n",
    "\n",
    "     * If the given value is 0 then it should return 0.00\n",
    "\n",
    "     * You will only be given Natural Numbers as arguments.\n",
    "\n",
    " - Examples:\n",
    " \n",
    " > SeriesSum(1) => 1 = \"1.00\"\n",
    " >  \n",
    " > SeriesSum(2) => 1 + 1/4 = \"1.25\"\n",
    " >  \n",
    " > SeriesSum(5) => 1 + 1/4 + 1/7 + 1/10 + 1/13 = \"1.57\"\n",
    " \n",
    " - NOTE: In PHP the function is called series_sum()."
   ]
  },
  {
   "cell_type": "code",
   "execution_count": null,
   "metadata": {},
   "outputs": [],
   "source": []
  },
  {
   "cell_type": "markdown",
   "metadata": {},
   "source": [
    "#### 2. Powers of 3\n",
    "\n",
    " - Given a positive integer N, return the largest integer k such that 3^k < N.\n",
    "\n",
    " - For example,\n",
    "\n",
    " > largestPower(3) = 0\n",
    " > \n",
    " > largestPower(4) = 1\n",
    " \n",
    " - You may assume that the input to your function is always a positive integer."
   ]
  },
  {
   "cell_type": "code",
   "execution_count": null,
   "metadata": {},
   "outputs": [],
   "source": []
  },
  {
   "cell_type": "code",
   "execution_count": null,
   "metadata": {},
   "outputs": [],
   "source": []
  },
  {
   "cell_type": "code",
   "execution_count": null,
   "metadata": {},
   "outputs": [],
   "source": []
  },
  {
   "cell_type": "code",
   "execution_count": null,
   "metadata": {},
   "outputs": [],
   "source": []
  },
  {
   "cell_type": "markdown",
   "metadata": {},
   "source": [
    "#### 1번 정답"
   ]
  },
  {
   "cell_type": "code",
   "execution_count": 33,
   "metadata": {},
   "outputs": [],
   "source": [
    "def series_sum(n):\n",
    "    series_sum_data = 0\n",
    "    \n",
    "    for i in range(n):\n",
    "        series_sum_data += 1/(i*3+1)\n",
    "    \n",
    "    return str(\"%.2f\" % round(series_sum_data, 2))"
   ]
  },
  {
   "cell_type": "code",
   "execution_count": 35,
   "metadata": {},
   "outputs": [],
   "source": [
    "def series_sum(n):\n",
    "    return '{:.2f}'.format(sum(1.0/(3 * i + 1) for i in range(n)))"
   ]
  },
  {
   "cell_type": "markdown",
   "metadata": {},
   "source": [
    "#### 2번 정답"
   ]
  },
  {
   "cell_type": "code",
   "execution_count": 45,
   "metadata": {},
   "outputs": [],
   "source": [
    "import math\n",
    "\n",
    "def largestPower(N):\n",
    "    k = 0\n",
    "    \n",
    "    while(True):\n",
    "        if(math.pow(3,k) < N):\n",
    "            k = k + 1\n",
    "        else:\n",
    "            k = k - 1\n",
    "            break\n",
    "            \n",
    "    return k"
   ]
  },
  {
   "cell_type": "code",
   "execution_count": 47,
   "metadata": {},
   "outputs": [
    {
     "data": {
      "text/plain": [
       "1"
      ]
     },
     "execution_count": 47,
     "metadata": {},
     "output_type": "execute_result"
    }
   ],
   "source": [
    "from math import ceil, log\n",
    "\n",
    "def largestPower(n):\n",
    "    return ceil(log(n, 3)) - 1"
   ]
  },
  {
   "cell_type": "code",
   "execution_count": null,
   "metadata": {},
   "outputs": [],
   "source": []
  }
 ],
 "metadata": {
  "kernelspec": {
   "display_name": "Python 3",
   "language": "python",
   "name": "python3"
  },
  "language_info": {
   "codemirror_mode": {
    "name": "ipython",
    "version": 3
   },
   "file_extension": ".py",
   "mimetype": "text/x-python",
   "name": "python",
   "nbconvert_exporter": "python",
   "pygments_lexer": "ipython3",
   "version": "3.6.8"
  }
 },
 "nbformat": 4,
 "nbformat_minor": 2
}
