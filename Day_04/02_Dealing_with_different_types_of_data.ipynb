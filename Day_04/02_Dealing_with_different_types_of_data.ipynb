{
 "cells": [
  {
   "cell_type": "markdown",
   "metadata": {},
   "source": [
    "### 텍스트\n",
    "\n",
    " - 컴퓨터가 텍스트 데이터를 취급하는 방법?"
   ]
  },
  {
   "cell_type": "markdown",
   "metadata": {},
   "source": [
    "### 아스키 코드(ASCII code)와 유니코드 (Unicode)\n",
    "\n",
    " - 텍스트를 컴퓨터에서 사용하는 방법은 숫자에 텍스트를 하나하나 매칭하여 불러서 사용\n",
    " \n",
    " - 예를 들면 ...\n",
    " \n",
    " > 가 = 1, 져 = 2, 라 = 3\n",
    " >\n",
    " > 가져가라가져가 = 1213121\n",
    " \n",
    " - 여러 컴퓨터와 여러 언어에 이러한 매칭을 여러 나라가 모여서 정함 --> 아스키 코드, 유니코드\n",
    " \n",
    " - 아스키 코드 : 숫자, 알파벳, 대소문자, 기호를 128가지로 표현\n",
    " \n",
    " - 유니코드 : 한글, 한자, 아랍어, 그리스어 등등 모든 문자를 매칭!\n",
    " \n",
    " > 물 water = H2O"
   ]
  },
  {
   "cell_type": "markdown",
   "metadata": {},
   "source": [
    "### 문자열 string\n",
    "\n",
    " - python은 텍스트 데이터를 처리하기 위해 string 문자열, 줄여서 str을 제공\n",
    " \n",
    " - 문자열은 문자들을 나열한 것\n",
    " \n",
    " - 문자열 표기 방법\n",
    " \n",
    " > '안녕'\n",
    " >\n",
    " > \"안녕\""
   ]
  },
  {
   "cell_type": "code",
   "execution_count": 1,
   "metadata": {},
   "outputs": [
    {
     "data": {
      "text/plain": [
       "\"Today's coffee\""
      ]
     },
     "execution_count": 1,
     "metadata": {},
     "output_type": "execute_result"
    }
   ],
   "source": [
    "\"Today's coffee\"   # 큰따옴표로 감쌀 때는 OK"
   ]
  },
  {
   "cell_type": "code",
   "execution_count": 2,
   "metadata": {},
   "outputs": [
    {
     "ename": "SyntaxError",
     "evalue": "invalid syntax (<ipython-input-2-64132898987a>, line 1)",
     "output_type": "error",
     "traceback": [
      "\u001b[1;36m  File \u001b[1;32m\"<ipython-input-2-64132898987a>\"\u001b[1;36m, line \u001b[1;32m1\u001b[0m\n\u001b[1;33m    'Today's coffee'   # 작은따옴표로 감싸면 오류가 발생한다\u001b[0m\n\u001b[1;37m           ^\u001b[0m\n\u001b[1;31mSyntaxError\u001b[0m\u001b[1;31m:\u001b[0m invalid syntax\n"
     ]
    }
   ],
   "source": [
    "'Today's coffee'   # 작은따옴표로 감싸면 오류가 발생한다"
   ]
  },
  {
   "cell_type": "code",
   "execution_count": 3,
   "metadata": {},
   "outputs": [
    {
     "data": {
      "text/plain": [
       "\"Today's coffee\""
      ]
     },
     "execution_count": 3,
     "metadata": {},
     "output_type": "execute_result"
    }
   ],
   "source": [
    "'Today\\'s coffee'  # 작은따옴표를 이스케이프(\\) 해주면 된다"
   ]
  },
  {
   "cell_type": "markdown",
   "metadata": {},
   "source": [
    "### 이스케이프로 특별한 문자 입력하기\n",
    "\n",
    " - \\ : 이스케이프\n",
    " \n",
    " - 입력하기 어려운 특별한 문제를 입력하는 방법\n",
    " \n",
    " - 아래와 같은 것들이 있다\n",
    " \n",
    " > \\\\: 백슬래시\n",
    " >\n",
    " > \\': 작은따옴표 (작은따옴표 안에서)\n",
    " >\n",
    " > \\\": 큰따옴표 (큰따옴표 안에서)\n",
    " >\n",
    " > \\n: 개행 문자 (라인 피드. 다음 행으로 바꿈)\n",
    " >\n",
    " > \\r: 개행 문자 (캐리지 리턴. 커서를 행의 앞으로 이동. 잘 사용하지 않는다.)\n",
    " >\n",
    " > \\t: 탭 문자"
   ]
  },
  {
   "cell_type": "code",
   "execution_count": 4,
   "metadata": {},
   "outputs": [
    {
     "name": "stdout",
     "output_type": "stream",
     "text": [
      "Today's coffee:\n",
      "\"카페 라테\"\n",
      "\"아메리카노\"\n"
     ]
    }
   ],
   "source": [
    "text = 'Today\\'s coffee:\\n\"카페 라테\"\\n\"아메리카노\"'\n",
    "print(text)"
   ]
  },
  {
   "cell_type": "code",
   "execution_count": 5,
   "metadata": {},
   "outputs": [
    {
     "name": "stdout",
     "output_type": "stream",
     "text": [
      "다음 행으로 넘어갈 때는 개행 문자(\\n)을 쓰세요.\n"
     ]
    }
   ],
   "source": [
    "# \\ 자체를 문제열로 사용하고 싶다면! ... r = raw\n",
    "print(r'다음 행으로 넘어갈 때는 개행 문자(\\n)을 쓰세요.')"
   ]
  },
  {
   "cell_type": "code",
   "execution_count": 7,
   "metadata": {},
   "outputs": [
    {
     "data": {
      "text/plain": [
       "'죽는 날까지 하늘을 우러러\\n한 점 부끄럼이 없기를,\\n잎새에 이는 바람에도\\n나는 괴로워했다.\\n별을 노래하는 마음으로\\n모든 죽어 가는 것을 사랑해야지\\n그리고 나한테 주어진 길을\\n걸어가야겠다.\\n오늘밤에도 별에 바람이 스치운다.'"
      ]
     },
     "execution_count": 7,
     "metadata": {},
     "output_type": "execute_result"
    }
   ],
   "source": [
    "# 이스케이프를 사용하면 단점이 있는데....\n",
    "poem = '죽는 날까지 하늘을 우러러\\n한 점 부끄럼이 없기를,\\n잎새에 이는 바람에도\\n나는 괴로워했다.\\n별을 노래하는 마음으로\\n모든 죽어 가는 것을 사랑해야지\\n그리고 나한테 주어진 길을\\n걸어가야겠다.\\n오늘밤에도 별에 바람이 스치운다.'\n",
    "poem"
   ]
  },
  {
   "cell_type": "code",
   "execution_count": 9,
   "metadata": {},
   "outputs": [
    {
     "data": {
      "text/plain": [
       "'죽는 날까지 하늘을 우러러\\n한 점 부끄럼이 없기를,\\n잎새에 이는 바람에도\\n나는 괴로워했다.\\n별을 노래하는 마음으로\\n모든 죽어 가는 것을 사랑해야지\\n그리고 나한테 주어진 길을\\n걸어가야겠다.\\n오늘밤에도 별에 바람이 스치운다.'"
      ]
     },
     "execution_count": 9,
     "metadata": {},
     "output_type": "execute_result"
    }
   ],
   "source": [
    "poem = \"\"\"죽는 날까지 하늘을 우러러\n",
    "한 점 부끄럼이 없기를,\n",
    "잎새에 이는 바람에도\n",
    "나는 괴로워했다.\n",
    "별을 노래하는 마음으로\n",
    "모든 죽어 가는 것을 사랑해야지\n",
    "그리고 나한테 주어진 길을\n",
    "걸어가야겠다.\n",
    "오늘밤에도 별에 바람이 스치운다.\"\"\"\n",
    "poem"
   ]
  },
  {
   "cell_type": "markdown",
   "metadata": {},
   "source": [
    "### 문자열의 연산\n",
    "\n",
    " - 문자열에도 연산을 할 수 있다!"
   ]
  },
  {
   "cell_type": "code",
   "execution_count": 10,
   "metadata": {},
   "outputs": [
    {
     "data": {
      "text/plain": [
       "'아메리카노'"
      ]
     },
     "execution_count": 10,
     "metadata": {},
     "output_type": "execute_result"
    }
   ],
   "source": [
    "'아메' + '리카노'  # 문자열을 서로 더하면 연결된다"
   ]
  },
  {
   "cell_type": "code",
   "execution_count": 11,
   "metadata": {},
   "outputs": [
    {
     "data": {
      "text/plain": [
       "'아메아메아메'"
      ]
     },
     "execution_count": 11,
     "metadata": {},
     "output_type": "execute_result"
    }
   ],
   "source": [
    "'아메' * 3  # 문자열에 수를 곱하면 문자열이 수만큼 반복된다"
   ]
  },
  {
   "cell_type": "code",
   "execution_count": 12,
   "metadata": {},
   "outputs": [
    {
     "data": {
      "text/plain": [
       "5"
      ]
     },
     "execution_count": 12,
     "metadata": {},
     "output_type": "execute_result"
    }
   ],
   "source": [
    "len('아메리카노')"
   ]
  },
  {
   "cell_type": "code",
   "execution_count": 13,
   "metadata": {},
   "outputs": [],
   "source": [
    "text = '카페 라테'"
   ]
  },
  {
   "cell_type": "code",
   "execution_count": 14,
   "metadata": {},
   "outputs": [
    {
     "data": {
      "text/plain": [
       "'카'"
      ]
     },
     "execution_count": 14,
     "metadata": {},
     "output_type": "execute_result"
    }
   ],
   "source": [
    "text[0]"
   ]
  },
  {
   "cell_type": "markdown",
   "metadata": {},
   "source": [
    "### 문자열의 함수"
   ]
  },
  {
   "cell_type": "code",
   "execution_count": 15,
   "metadata": {},
   "outputs": [
    {
     "data": {
      "text/plain": [
       "\"TODAY'S COFFEE\""
      ]
     },
     "execution_count": 15,
     "metadata": {},
     "output_type": "execute_result"
    }
   ],
   "source": [
    "'Today\\'s coffee'.upper()  # 문자열을 대문자로"
   ]
  },
  {
   "cell_type": "code",
   "execution_count": 16,
   "metadata": {},
   "outputs": [],
   "source": [
    "from IPython.display import Image"
   ]
  },
  {
   "cell_type": "code",
   "execution_count": 17,
   "metadata": {},
   "outputs": [
    {
     "data": {
      "image/png": "[encoded data removed]",
      "text/plain": [
       "<IPython.core.display.Image object>"
      ]
     },
     "execution_count": 17,
     "metadata": {},
     "output_type": "execute_result"
    }
   ],
   "source": [
    "Image(\"img/05_img.png\")"
   ]
  },
  {
   "cell_type": "code",
   "execution_count": 18,
   "metadata": {},
   "outputs": [],
   "source": [
    "book = '안나 카레니나, Leo Tolstoy'"
   ]
  },
  {
   "cell_type": "code",
   "execution_count": 19,
   "metadata": {},
   "outputs": [
    {
     "data": {
      "text/plain": [
       "2"
      ]
     },
     "execution_count": 19,
     "metadata": {},
     "output_type": "execute_result"
    }
   ],
   "source": [
    "book.count('나')          # '나'가 몇 번 나오는가?"
   ]
  },
  {
   "cell_type": "code",
   "execution_count": 20,
   "metadata": {},
   "outputs": [
    {
     "data": {
      "text/plain": [
       "3"
      ]
     },
     "execution_count": 20,
     "metadata": {},
     "output_type": "execute_result"
    }
   ],
   "source": [
    "book.find('카레')         # '카레'가 처음 등장하는 위치를 찾음"
   ]
  },
  {
   "cell_type": "code",
   "execution_count": 21,
   "metadata": {},
   "outputs": [
    {
     "data": {
      "text/plain": [
       "-1"
      ]
     },
     "execution_count": 21,
     "metadata": {},
     "output_type": "execute_result"
    }
   ],
   "source": [
    "book.find('카레라이스')   # 찾는 문자열이 없을 때는 -1이 반환"
   ]
  },
  {
   "cell_type": "code",
   "execution_count": 22,
   "metadata": {},
   "outputs": [
    {
     "data": {
      "text/plain": [
       "6"
      ]
     },
     "execution_count": 22,
     "metadata": {},
     "output_type": "execute_result"
    }
   ],
   "source": [
    "book.rfind('나')          # '나'가 마지막에 등장하는 위치를 찾음"
   ]
  },
  {
   "cell_type": "code",
   "execution_count": 23,
   "metadata": {},
   "outputs": [
    {
     "data": {
      "text/plain": [
       "'안나 카레니나, leo tolstoy'"
      ]
     },
     "execution_count": 23,
     "metadata": {},
     "output_type": "execute_result"
    }
   ],
   "source": [
    "book.lower()              # 알파벳을 소문자로"
   ]
  },
  {
   "cell_type": "code",
   "execution_count": 24,
   "metadata": {},
   "outputs": [
    {
     "data": {
      "text/plain": [
       "'안나 카레니나, LEO TOLSTOY'"
      ]
     },
     "execution_count": 24,
     "metadata": {},
     "output_type": "execute_result"
    }
   ],
   "source": [
    "book.upper()              # 알파벳을 대문자로"
   ]
  },
  {
   "cell_type": "code",
   "execution_count": 25,
   "metadata": {},
   "outputs": [
    {
     "data": {
      "text/plain": [
       "'안나-카레니나,-Leo-Tolstoy'"
      ]
     },
     "execution_count": 25,
     "metadata": {},
     "output_type": "execute_result"
    }
   ],
   "source": [
    "book.replace(' ', '-')    # 공백 문자를 - 기호로 치환"
   ]
  },
  {
   "cell_type": "code",
   "execution_count": 26,
   "metadata": {},
   "outputs": [
    {
     "data": {
      "text/plain": [
       "'안나 카레라이스 먹나, Leo Tolstoy'"
      ]
     },
     "execution_count": 26,
     "metadata": {},
     "output_type": "execute_result"
    }
   ],
   "source": [
    "book.replace('니', '라이스 먹')  # '니'를 '라이스 먹'으로 치환"
   ]
  },
  {
   "cell_type": "code",
   "execution_count": 27,
   "metadata": {},
   "outputs": [],
   "source": [
    "text = ' 카페 라테  '"
   ]
  },
  {
   "cell_type": "code",
   "execution_count": 28,
   "metadata": {},
   "outputs": [
    {
     "data": {
      "text/plain": [
       "'카페 라테'"
      ]
     },
     "execution_count": 28,
     "metadata": {},
     "output_type": "execute_result"
    }
   ],
   "source": [
    "text.strip()   # 양쪽의 공백 문자 제거"
   ]
  },
  {
   "cell_type": "code",
   "execution_count": 29,
   "metadata": {},
   "outputs": [
    {
     "data": {
      "text/plain": [
       "'카페 라테  '"
      ]
     },
     "execution_count": 29,
     "metadata": {},
     "output_type": "execute_result"
    }
   ],
   "source": [
    "text.lstrip()  # 왼쪽의 공백 문자만 제거"
   ]
  },
  {
   "cell_type": "code",
   "execution_count": 30,
   "metadata": {},
   "outputs": [
    {
     "data": {
      "text/plain": [
       "' 카페 라테'"
      ]
     },
     "execution_count": 30,
     "metadata": {},
     "output_type": "execute_result"
    }
   ],
   "source": [
    "text.rstrip()  # 오른쪽의 공백 문자만 제거"
   ]
  },
  {
   "cell_type": "code",
   "execution_count": 32,
   "metadata": {},
   "outputs": [
    {
     "data": {
      "text/plain": [
       "['안나 카레니나', ' Leo Tolstoy']"
      ]
     },
     "execution_count": 32,
     "metadata": {},
     "output_type": "execute_result"
    }
   ],
   "source": [
    "book.split(',')  # ','를 기준으로 문자열을 나눈다"
   ]
  },
  {
   "cell_type": "code",
   "execution_count": 33,
   "metadata": {},
   "outputs": [
    {
     "data": {
      "text/plain": [
       "['죽는 날까지 하늘을 우러러', '한 점 부끄럼이 없기를,', '잎새에 이는 바람에도', '나는 괴로워했다.']"
      ]
     },
     "execution_count": 33,
     "metadata": {},
     "output_type": "execute_result"
    }
   ],
   "source": [
    "poem = \"\"\"죽는 날까지 하늘을 우러러\n",
    "한 점 부끄럼이 없기를,\n",
    "잎새에 이는 바람에도\n",
    "나는 괴로워했다.\"\"\"\n",
    "\n",
    "poem.splitlines()"
   ]
  },
  {
   "cell_type": "code",
   "execution_count": 34,
   "metadata": {},
   "outputs": [
    {
     "data": {
      "text/plain": [
       "True"
      ]
     },
     "execution_count": 34,
     "metadata": {},
     "output_type": "execute_result"
    }
   ],
   "source": [
    "('한글').isalpha()      # 문자열이 모두 문자인지 검사: 참"
   ]
  },
  {
   "cell_type": "code",
   "execution_count": 35,
   "metadata": {},
   "outputs": [
    {
     "data": {
      "text/plain": [
       "False"
      ]
     },
     "execution_count": 35,
     "metadata": {},
     "output_type": "execute_result"
    }
   ],
   "source": [
    "('1024').isalpha()      # 문자열이 모두 문자인지 검사: 거짓"
   ]
  },
  {
   "cell_type": "code",
   "execution_count": 36,
   "metadata": {},
   "outputs": [
    {
     "data": {
      "text/plain": [
       "True"
      ]
     },
     "execution_count": 36,
     "metadata": {},
     "output_type": "execute_result"
    }
   ],
   "source": [
    "('1024').isnumeric()    # 문자열이 모두 숫자인지 검사: 참"
   ]
  },
  {
   "cell_type": "code",
   "execution_count": 37,
   "metadata": {},
   "outputs": [
    {
     "data": {
      "text/plain": [
       "False"
      ]
     },
     "execution_count": 37,
     "metadata": {},
     "output_type": "execute_result"
    }
   ],
   "source": [
    "('3.1415').isnumeric()  # 문자열이 모두 숫자인지 검사: 거짓"
   ]
  },
  {
   "cell_type": "code",
   "execution_count": 38,
   "metadata": {},
   "outputs": [
    {
     "data": {
      "text/plain": [
       "True"
      ]
     },
     "execution_count": 38,
     "metadata": {},
     "output_type": "execute_result"
    }
   ],
   "source": [
    "('1학년').isalnum()     # 문자열이 모두 문자 또는 숫자인지 검사: 참"
   ]
  },
  {
   "cell_type": "markdown",
   "metadata": {},
   "source": [
    "#### quiz!"
   ]
  },
  {
   "cell_type": "markdown",
   "metadata": {},
   "source": [
    " - 손님들의 음료 주문 내용을 종에 적어 다음과 같이 문자열로 기록해 두었다.\n",
    " \n",
    " > order_memo = \"\"\"주문1: 아메리카노\n",
    " >\n",
    " > 주문2: 카페 라테\n",
    " >\n",
    " > 주문3: 아메리카노, 아메리카노\n",
    " >\n",
    " > 주문4: 아메리카노, 카페 라테\n",
    " >\n",
    " > 주문5: 카페 라테, 카페 라테\n",
    " >\n",
    " > \"\"\"\n",
    " \n",
    " - 이 메모에서 주문을 몇 번 받았는지, 아메리카노가 몇 잔 주문되었는지 각각 세어 화면에 출력하는 프로그램을 작성하라."
   ]
  },
  {
   "cell_type": "code",
   "execution_count": 47,
   "metadata": {},
   "outputs": [],
   "source": [
    "order_memo = \"\"\"주문1: 아메리카노\n",
    "주문2: 카페 라테\n",
    "주문3: 아메리카노, 아메리카노\n",
    "주문4: 아메리카노, 카페 라테\n",
    "주문5: 카페 라테, 카페 라테\n",
    "\"\"\""
   ]
  },
  {
   "cell_type": "code",
   "execution_count": 48,
   "metadata": {},
   "outputs": [
    {
     "data": {
      "text/plain": [
       "4"
      ]
     },
     "execution_count": 48,
     "metadata": {},
     "output_type": "execute_result"
    }
   ],
   "source": [
    "order_memo.count('아메리카노')"
   ]
  },
  {
   "cell_type": "code",
   "execution_count": 49,
   "metadata": {},
   "outputs": [
    {
     "data": {
      "text/plain": [
       "4"
      ]
     },
     "execution_count": 49,
     "metadata": {},
     "output_type": "execute_result"
    }
   ],
   "source": [
    "order_memo.count('아메')"
   ]
  },
  {
   "cell_type": "code",
   "execution_count": 50,
   "metadata": {},
   "outputs": [
    {
     "data": {
      "text/plain": [
       "5"
      ]
     },
     "execution_count": 50,
     "metadata": {},
     "output_type": "execute_result"
    }
   ],
   "source": [
    "order_memo.count('주문')"
   ]
  },
  {
   "cell_type": "code",
   "execution_count": 51,
   "metadata": {},
   "outputs": [
    {
     "data": {
      "text/plain": [
       "5"
      ]
     },
     "execution_count": 51,
     "metadata": {},
     "output_type": "execute_result"
    }
   ],
   "source": [
    "order_memo.count(':')"
   ]
  },
  {
   "cell_type": "code",
   "execution_count": 52,
   "metadata": {},
   "outputs": [
    {
     "data": {
      "text/plain": [
       "5"
      ]
     },
     "execution_count": 52,
     "metadata": {},
     "output_type": "execute_result"
    }
   ],
   "source": [
    "order_memo.count('\\n')"
   ]
  },
  {
   "cell_type": "markdown",
   "metadata": {},
   "source": [
    " - 'I think, therefore I am.' 이라는 문자열을 'I eat, therefore I am.'으로 치환하여 화면에 출력하는 프로그램을 작성하라."
   ]
  },
  {
   "cell_type": "code",
   "execution_count": 54,
   "metadata": {},
   "outputs": [],
   "source": [
    "who_i_am = 'I think, therefore I am.'"
   ]
  },
  {
   "cell_type": "code",
   "execution_count": 55,
   "metadata": {},
   "outputs": [
    {
     "data": {
      "text/plain": [
       "'I eat, therefore I am.'"
      ]
     },
     "execution_count": 55,
     "metadata": {},
     "output_type": "execute_result"
    }
   ],
   "source": [
    "who_i_am.replace('think', 'eat')"
   ]
  },
  {
   "cell_type": "code",
   "execution_count": null,
   "metadata": {},
   "outputs": [],
   "source": []
  }
 ],
 "metadata": {
  "kernelspec": {
   "display_name": "Python 3",
   "language": "python",
   "name": "python3"
  },
  "language_info": {
   "codemirror_mode": {
    "name": "ipython",
    "version": 3
   },
   "file_extension": ".py",
   "mimetype": "text/x-python",
   "name": "python",
   "nbconvert_exporter": "python",
   "pygments_lexer": "ipython3",
   "version": "3.6.8"
  }
 },
 "nbformat": 4,
 "nbformat_minor": 2
}
