{
 "cells": [
  {
   "cell_type": "markdown",
   "metadata": {},
   "source": [
    "### You're a square!\n",
    "\n",
    "- A square of squares\n",
    "\n",
    "**Task**\n",
    " \n",
    " - Given an integral number, determine if it's a square number:\n",
    "\n",
    " > In mathematics, a square number or perfect square is an integer that is the square of an integer; in other words, it is the product of some integer with itself.\n",
    "\n",
    " - The tests will always use some integral number, so don't worry about that in dynamic typed languages.\n",
    " \n",
    " - 어떤 integer를 받아 제곱수이면 true를 반환하는 함수를 작성하라\n",
    "\n",
    "**Examples**\n",
    " \n",
    " > isSquare(-1) returns  false\n",
    " >\n",
    " > isSquare(0) returns   true\n",
    " >\n",
    " > isSquare(3) returns   false\n",
    " >\n",
    " > isSquare(4) returns   true\n",
    " >\n",
    " > isSquare(25) returns  true  \n",
    " > \n",
    " > isSquare(26) returns  false"
   ]
  },
  {
   "cell_type": "code",
   "execution_count": null,
   "metadata": {},
   "outputs": [],
   "source": [
    "import math\n",
    "\n",
    "def is_square(n):  \n",
    "    if(n >= 0):\n",
    "        number_sqrt = math.sqrt(n)\n",
    "        if((number_sqrt - int(number_sqrt)) == 0.0):\n",
    "            return True\n",
    "    return False"
   ]
  },
  {
   "cell_type": "markdown",
   "metadata": {},
   "source": [
    "### Sum of Cubes\n",
    "\n",
    " - Write a function that takes a positive integer n, sums all the cubed values from 1 to n, and returns that sum.\n",
    "\n",
    " - Assume that the input n will always be a positive integer.\n",
    " \n",
    " - 어떤 integer값을 받는데 이는 3D cube들의 칸수의 합을 나타내는 함수이다\n",
    " \n",
    " - 예를 들어 2인 경우는 아래와 같이 생기게 되며 총 9개의 누적된 칸수를 가진다\n",
    " \n",
    " ```\n",
    "   ㅡㅡ\n",
    "  / / /  |\n",
    "  ㅡㅡ                          ㅡ\n",
    " / / / | |                    /  / |\n",
    " ㅡㅡ   /          +           ㅡ\n",
    "ㅣㅣㅣ/  |                    |  | /\n",
    " ㅡㅡ  | /                     ㅡ\n",
    "ㅣㅣㅣ /\n",
    " ㅡㅡ\n",
    " ```\n",
    "\n",
    " - Examples:\n",
    "\n",
    " > `sum_cubes(2)`\n",
    " >\n",
    " > `> 9 `\n",
    " >\n",
    " > `# sum of the cubes of 1 and 2 is 1 + 8`"
   ]
  },
  {
   "cell_type": "code",
   "execution_count": null,
   "metadata": {},
   "outputs": [],
   "source": [
    "def sum_cubes(n):\n",
    "    sum_of_cubes_num = 0\n",
    "    for i in range(n+1):\n",
    "        sum_of_cubes_num += i*i*i\n",
    "    return sum_of_cubes_num"
   ]
  }
 ],
 "metadata": {
  "kernelspec": {
   "display_name": "Python 3",
   "language": "python",
   "name": "python3"
  },
  "language_info": {
   "codemirror_mode": {
    "name": "ipython",
    "version": 3
   },
   "file_extension": ".py",
   "mimetype": "text/x-python",
   "name": "python",
   "nbconvert_exporter": "python",
   "pygments_lexer": "ipython3",
   "version": "3.6.8"
  }
 },
 "nbformat": 4,
 "nbformat_minor": 2
}
