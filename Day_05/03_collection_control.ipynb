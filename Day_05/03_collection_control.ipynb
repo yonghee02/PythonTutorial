{
 "cells": [
  {
   "cell_type": "markdown",
   "metadata": {},
   "source": [
    "### set 집합\n",
    "\n",
    " - ‘카페인이 든 음료들’이라는 컬렉션과 ‘가격이 3천 원 이하인 음료들’이라는 컬렉션에 모두 포함되어 있는 음료(교집합)을 구하는 방법?\n",
    " \n",
    " - ‘카페 라테’가 그 속에 포함되는지(소속 검사)를 알 수 있는 방법\n",
    " \n",
    " - 집합(set)을 이용하면 이런 문제를 더 쉽고 빠르게 해결할 수 있음"
   ]
  },
  {
   "cell_type": "markdown",
   "metadata": {},
   "source": [
    "### 원소를 묶어 둔 데이터 구조 : 집합\n",
    "\n",
    " - 집합은 그 속에 포함되어야 할 원소들을 묶어 놓은 데이터 구조\n",
    " \n",
    " - 데이터를 모아 둔 컬렉션이라는 점에서 집합은 다른 컬렉션(특히 시퀀스)과 비슷하지만 차이점이 있음\n",
    " \n",
    " - 집합은 원소에 순서(번호)나 키를 붙여 관리하지 않음 ... 그저 포함해야 할 원소를 원소를 담고 있을 뿐\n",
    " \n",
    " - 또, 시퀀스와 매핑은 동일한 값을 여러 개 중복으로 저장할 수 있지만 집합은 동일한 원소를 하나만 가질 수 있음\n",
    " \n",
    " - 그래서 어떤 원소가 집합에 포함되는지는 알 수 있어도, 그 원소가 몇 번째인지 또는 몇 개나 있는지는 알 수 없음\n",
    " \n",
    " - 집합의 특징은 아래와 같음\n",
    "\n",
    " > 순서나 키 없이, 포함되는 원소를 모아 둔 데이터 구조\n",
    " >\n",
    " > 원소를 중복으로 저장하지 않음\n",
    " >\n",
    " > 합집합, 교집합 같은 수학의 집합 연산이 가능\n",
    " >\n",
    " > 어떤 원소가 집합에 포함되었는지 검사할 수 있음"
   ]
  },
  {
   "cell_type": "markdown",
   "metadata": {},
   "source": [
    "### 집합을 표현\n",
    "\n",
    " - {1, 2, 3, 4}와 같이 중괄호({})를 이용해 데이터를 묶고, 각 원소를 쉼표로 구분\n",
    " \n",
    " - dict 사전과 비슷함 --> {키1: 값1, 키2: 값2}와 같이 사전을 표현하는 양식과는 차이, 콜론(:)으로 표현된 키-값 쌍을 담음\n",
    " \n",
    " ```\n",
    " \n",
    " 원소가 하나인 집합\n",
    "\n",
    " {원소1, 원소2, 원소3, …}\n",
    "\n",
    " 공집합\n",
    "\n",
    " set()\n",
    " \n",
    " ```"
   ]
  },
  {
   "cell_type": "code",
   "execution_count": 1,
   "metadata": {},
   "outputs": [],
   "source": [
    "# 정수의 집합\n",
    "정수집합 = {0, -127, 97, 1789}\n",
    "\n",
    "# 이메일 주소의 집합\n",
    "이메일집합 = {'bakyeono@gmail.com', 'i@bakyeono.net'}\n",
    "\n",
    "# 공집합\n",
    "공집합 = set()"
   ]
  },
  {
   "cell_type": "markdown",
   "metadata": {},
   "source": [
    "### 시퀀스를 집합으로 변환\n",
    "\n",
    " - 시퀀스는 순서와 중복이 있다는 점을 제외하면 집합과 형태가 유사\n",
    " \n",
    " - 따라서 집합을 시퀀스로 변환하거나 반대로 집합을 시퀀스로 변환할 수 있음\n",
    " \n",
    " - 단, 시퀀스를 집합으로 변환할 때는 원소의 순서와 중복된 원소가 사라진다는 점에 유의"
   ]
  },
  {
   "cell_type": "code",
   "execution_count": 2,
   "metadata": {},
   "outputs": [
    {
     "data": {
      "text/plain": [
       "{1, 2, 3, 4, 5, 6}"
      ]
     },
     "execution_count": 2,
     "metadata": {},
     "output_type": "execute_result"
    }
   ],
   "source": [
    "set([6, 1, 1, 2, 3, 3, 1, 5, 5, 4])      # 리스트를 집합으로"
   ]
  },
  {
   "cell_type": "code",
   "execution_count": 3,
   "metadata": {},
   "outputs": [
    {
     "data": {
      "text/plain": [
       "{'감', '바나나', '사과', '토마토'}"
      ]
     },
     "execution_count": 3,
     "metadata": {},
     "output_type": "execute_result"
    }
   ],
   "source": [
    "set(('사과', '토마토', '바나나', '감'))  # 튜플을 집합으로"
   ]
  },
  {
   "cell_type": "code",
   "execution_count": 4,
   "metadata": {},
   "outputs": [],
   "source": [
    "# 코드 5-62 레인지를 이용해 집합 정의하기\n",
    "\n",
    "짝수 = set(range(0, 10000, 2))\n",
    "홀수 = set(range(1, 10000, 2))"
   ]
  },
  {
   "cell_type": "code",
   "execution_count": 5,
   "metadata": {},
   "outputs": [
    {
     "data": {
      "text/plain": [
       "[1, 2, 3, 4, 5, 6]"
      ]
     },
     "execution_count": 5,
     "metadata": {},
     "output_type": "execute_result"
    }
   ],
   "source": [
    "# 리스트에서 중복 원소 제거하고 리스트로 받기\n",
    "\n",
    "list(set([6, 1, 1, 2, 3, 3, 1, 5, 5, 4]))"
   ]
  },
  {
   "cell_type": "markdown",
   "metadata": {},
   "source": [
    "### 집합 연산\n",
    "\n",
    " - 소속 검사, 합집합, 교집합, 여집합, 차집합, 부분집합 검사 등 수학의 집합 연산을 수행할 수 있음"
   ]
  },
  {
   "cell_type": "code",
   "execution_count": 6,
   "metadata": {},
   "outputs": [],
   "source": [
    "들짐승 = {'사자', '박쥐', '늑대', '곰'}\n",
    "날짐승 = {'독수리', '매', '박쥐'}\n",
    "바다생물 = {'참치', '상어', '문어 괴물'}"
   ]
  },
  {
   "cell_type": "code",
   "execution_count": 7,
   "metadata": {},
   "outputs": [
    {
     "data": {
      "text/plain": [
       "4"
      ]
     },
     "execution_count": 7,
     "metadata": {},
     "output_type": "execute_result"
    }
   ],
   "source": [
    "# 집합의 원소 개수 세기\n",
    "\n",
    "len(들짐승)"
   ]
  },
  {
   "cell_type": "code",
   "execution_count": 8,
   "metadata": {},
   "outputs": [
    {
     "data": {
      "text/plain": [
       "True"
      ]
     },
     "execution_count": 8,
     "metadata": {},
     "output_type": "execute_result"
    }
   ],
   "source": [
    "# 집합에서 소속 검사하기\n",
    "\n",
    "'늑대' in 들짐승"
   ]
  },
  {
   "cell_type": "code",
   "execution_count": 9,
   "metadata": {},
   "outputs": [
    {
     "data": {
      "text/plain": [
       "False"
      ]
     },
     "execution_count": 9,
     "metadata": {},
     "output_type": "execute_result"
    }
   ],
   "source": [
    "'곰' not in 들짐승"
   ]
  },
  {
   "cell_type": "code",
   "execution_count": 10,
   "metadata": {},
   "outputs": [
    {
     "data": {
      "text/plain": [
       "{'곰', '늑대', '독수리', '매', '박쥐', '사자'}"
      ]
     },
     "execution_count": 10,
     "metadata": {},
     "output_type": "execute_result"
    }
   ],
   "source": [
    "# 두 집합의 합집합 구하기\n",
    "\n",
    "짐승 = 들짐승.union(날짐승)  # 들짐승과 날짐승의 합집합\n",
    "짐승"
   ]
  },
  {
   "cell_type": "code",
   "execution_count": 11,
   "metadata": {},
   "outputs": [
    {
     "data": {
      "text/plain": [
       "{'곰', '늑대', '독수리', '매', '박쥐', '사자'}"
      ]
     },
     "execution_count": 11,
     "metadata": {},
     "output_type": "execute_result"
    }
   ],
   "source": [
    "# 연산자로 합집합 구하기\n",
    "\n",
    "들짐승 | 날짐승"
   ]
  },
  {
   "cell_type": "code",
   "execution_count": 12,
   "metadata": {},
   "outputs": [
    {
     "data": {
      "text/plain": [
       "{'곰', '늑대', '독수리', '매', '박쥐', '사자', '인간'}"
      ]
     },
     "execution_count": 12,
     "metadata": {},
     "output_type": "execute_result"
    }
   ],
   "source": [
    "들짐승 | 날짐승 | {'인간'}  # ❶ 여러 집합을 연달아 합할 때"
   ]
  },
  {
   "cell_type": "code",
   "execution_count": 13,
   "metadata": {},
   "outputs": [
    {
     "data": {
      "text/plain": [
       "{'박쥐'}"
      ]
     },
     "execution_count": 13,
     "metadata": {},
     "output_type": "execute_result"
    }
   ],
   "source": [
    "# 두 집합의 교집합 구하기\n",
    "\n",
    "들짐승.intersection(날짐승)  # 들짐승과 날짐승의 교집합"
   ]
  },
  {
   "cell_type": "code",
   "execution_count": 14,
   "metadata": {},
   "outputs": [
    {
     "data": {
      "text/plain": [
       "set()"
      ]
     },
     "execution_count": 14,
     "metadata": {},
     "output_type": "execute_result"
    }
   ],
   "source": [
    "들짐승.intersection(바다생물)  # 짐승과 바다생물의 교집합"
   ]
  },
  {
   "cell_type": "code",
   "execution_count": 15,
   "metadata": {},
   "outputs": [
    {
     "data": {
      "text/plain": [
       "{'곰', '늑대', '사자'}"
      ]
     },
     "execution_count": 15,
     "metadata": {},
     "output_type": "execute_result"
    }
   ],
   "source": [
    "# 차집합 구하기\n",
    "\n",
    "짐승.difference(날짐승)  # 짐승에서 날짐승을 뺀 집합"
   ]
  },
  {
   "cell_type": "code",
   "execution_count": 16,
   "metadata": {},
   "outputs": [
    {
     "data": {
      "text/plain": [
       "{'독수리', '매'}"
      ]
     },
     "execution_count": 16,
     "metadata": {},
     "output_type": "execute_result"
    }
   ],
   "source": [
    "# - 연산자로 차집합 구하기\n",
    "\n",
    "날짐승 - 들짐승  # 날짐승에서 들짐승을 뺀 집합"
   ]
  },
  {
   "cell_type": "code",
   "execution_count": 18,
   "metadata": {},
   "outputs": [
    {
     "data": {
      "text/plain": [
       "{'곰', '늑대', '독수리', '매', '사자'}"
      ]
     },
     "execution_count": 18,
     "metadata": {},
     "output_type": "execute_result"
    }
   ],
   "source": [
    "# ^ 연산자로 대칭차 구하기\n",
    "\n",
    "들짐승 ^ 날짐승  # 들짐승과 날짐승의 대칭차"
   ]
  },
  {
   "cell_type": "code",
   "execution_count": 19,
   "metadata": {},
   "outputs": [
    {
     "data": {
      "text/plain": [
       "True"
      ]
     },
     "execution_count": 19,
     "metadata": {},
     "output_type": "execute_result"
    }
   ],
   "source": [
    "# 부분집합 검사하기\n",
    "\n",
    "들짐승.issubset(짐승)    # 들짐승이 짐승의 부분집합인가?"
   ]
  },
  {
   "cell_type": "code",
   "execution_count": 20,
   "metadata": {},
   "outputs": [
    {
     "data": {
      "text/plain": [
       "True"
      ]
     },
     "execution_count": 20,
     "metadata": {},
     "output_type": "execute_result"
    }
   ],
   "source": [
    "# 부분집합 검사하기\n",
    "\n",
    "들짐승 <= 짐승"
   ]
  },
  {
   "cell_type": "code",
   "execution_count": 21,
   "metadata": {},
   "outputs": [
    {
     "data": {
      "text/plain": [
       "False"
      ]
     },
     "execution_count": 21,
     "metadata": {},
     "output_type": "execute_result"
    }
   ],
   "source": [
    "들짐승 <= 날짐승"
   ]
  },
  {
   "cell_type": "code",
   "execution_count": 22,
   "metadata": {},
   "outputs": [
    {
     "data": {
      "text/plain": [
       "False"
      ]
     },
     "execution_count": 22,
     "metadata": {},
     "output_type": "execute_result"
    }
   ],
   "source": [
    "# 서로소 집합 검사하기\n",
    "\n",
    "들짐승.isdisjoint(날짐승)"
   ]
  },
  {
   "cell_type": "code",
   "execution_count": 23,
   "metadata": {},
   "outputs": [
    {
     "data": {
      "text/plain": [
       "True"
      ]
     },
     "execution_count": 23,
     "metadata": {},
     "output_type": "execute_result"
    }
   ],
   "source": [
    "들짐승.isdisjoint(바다생물)"
   ]
  },
  {
   "cell_type": "markdown",
   "metadata": {},
   "source": [
    "### 원소 변경하기\n",
    "\n",
    " - 집합은 수정 가능한 데이터\n",
    " \n",
    " - 이미 정의한 집합에 원소를 추가하거나 삭제할 수 있음\n",
    " \n",
    " - 다음과 같은 메서드를 사용\n",
    "\n",
    " > - add(데이터): 데이터를 원소로 추가\n",
    " >\n",
    " > - discard(원소): 원소 제거\n",
    " >\n",
    " > - remove(원소): 원소 제거 (원소가 없으면 오류)\n",
    " >\n",
    " > - pop(): 아무 원소나 꺼낸다 (집합이 비어있으면 오류)\n",
    " >\n",
    " > - clear(): 모든 원소를 제거"
   ]
  },
  {
   "cell_type": "code",
   "execution_count": 24,
   "metadata": {},
   "outputs": [
    {
     "data": {
      "text/plain": [
       "{'곰', '늑대', '박쥐', '사자', '인간'}"
      ]
     },
     "execution_count": 24,
     "metadata": {},
     "output_type": "execute_result"
    }
   ],
   "source": [
    "# 집합 원소 수정하기\n",
    "\n",
    "들짐승.add('인간')      # 들짐승에 인간 추가\n",
    "들짐승"
   ]
  },
  {
   "cell_type": "code",
   "execution_count": 25,
   "metadata": {},
   "outputs": [
    {
     "data": {
      "text/plain": [
       "{'곰', '늑대', '박쥐', '사자'}"
      ]
     },
     "execution_count": 25,
     "metadata": {},
     "output_type": "execute_result"
    }
   ],
   "source": [
    "들짐승.discard('인간')  # 인간 제거\n",
    "들짐승"
   ]
  },
  {
   "cell_type": "code",
   "execution_count": 26,
   "metadata": {},
   "outputs": [
    {
     "data": {
      "text/plain": [
       "{'늑대', '박쥐', '사자'}"
      ]
     },
     "execution_count": 26,
     "metadata": {},
     "output_type": "execute_result"
    }
   ],
   "source": [
    "들짐승.remove('곰')     # 곰 제거\n",
    "들짐승"
   ]
  },
  {
   "cell_type": "code",
   "execution_count": 27,
   "metadata": {},
   "outputs": [
    {
     "data": {
      "text/plain": [
       "'사자'"
      ]
     },
     "execution_count": 27,
     "metadata": {},
     "output_type": "execute_result"
    }
   ],
   "source": [
    "들짐승.pop()            # 아무 원소나 꺼내기"
   ]
  },
  {
   "cell_type": "code",
   "execution_count": 29,
   "metadata": {},
   "outputs": [
    {
     "data": {
      "text/plain": [
       "{'늑대', '박쥐'}"
      ]
     },
     "execution_count": 29,
     "metadata": {},
     "output_type": "execute_result"
    }
   ],
   "source": [
    "들짐승"
   ]
  },
  {
   "cell_type": "code",
   "execution_count": 30,
   "metadata": {},
   "outputs": [
    {
     "data": {
      "text/plain": [
       "set()"
      ]
     },
     "execution_count": 30,
     "metadata": {},
     "output_type": "execute_result"
    }
   ],
   "source": [
    "들짐승.clear()          # 모든 원소 제거\n",
    "들짐승"
   ]
  },
  {
   "cell_type": "code",
   "execution_count": null,
   "metadata": {},
   "outputs": [],
   "source": []
  }
 ],
 "metadata": {
  "kernelspec": {
   "display_name": "Python 3",
   "language": "python",
   "name": "python3"
  },
  "language_info": {
   "codemirror_mode": {
    "name": "ipython",
    "version": 3
   },
   "file_extension": ".py",
   "mimetype": "text/x-python",
   "name": "python",
   "nbconvert_exporter": "python",
   "pygments_lexer": "ipython3",
   "version": "3.6.8"
  }
 },
 "nbformat": 4,
 "nbformat_minor": 2
}
