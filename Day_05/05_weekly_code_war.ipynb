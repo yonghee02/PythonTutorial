{
 "cells": [
  {
   "cell_type": "markdown",
   "metadata": {},
   "source": [
    "#### Maximum Product\n",
    "\n",
    " - **Task**\n",
    "\n",
    "  - Given an array of integers , Find the maximum product obtained from multiplying 2 adjacent numbers in the array.\n",
    "  \n",
    "  - list 데이터를 받아서 인접하는 2개의 수의 곱이 최대가 되는 결과를 반환하는 함수를 만들어라\n",
    "\n",
    " - **Notes**\n",
    "\n",
    "  - Array/list size is at least 2.\n",
    "\n",
    "  - Array/list numbers could be a mixture of positives, negatives also zeroes .\n",
    "\n",
    " - **Input >> Output Examples**\n",
    "\n",
    "  > adjacentElementsProduct([1, 2, 3]); ==> return 6\n",
    "\n",
    " - **Explanation:**\n",
    "\n",
    "  - The maximum product obtained from multiplying 2 * 3 = 6, and they're adjacent numbers in the array.\n",
    "\n",
    "  > adjacentElementsProduct([9, 5, 10, 2, 24, -1, -48]); ==> return 50\n",
    "\n",
    " - **Explanation:**\n",
    "\n",
    "  - Max product obtained from multiplying 5 * 10 = 50.\n",
    "\n",
    "  > adjacentElementsProduct([-23, 4, -5, 99, -27, 329, -2, 7, -921])  ==>  return -14\n",
    "\n",
    " - **Explanation:**\n",
    " \n",
    "  - The maximum product obtained from multiplying -2 * 7 = -14, and they're adjacent numbers in the array."
   ]
  },
  {
   "cell_type": "code",
   "execution_count": 16,
   "metadata": {},
   "outputs": [],
   "source": [
    "def adjacent_element_product(array):\n",
    "    array_1 = array[:]\n",
    "    array_2 = array[:]\n",
    "    \n",
    "    length_of_array = len(array)\n",
    "    \n",
    "    max_product = float(\"-inf\")\n",
    "    \n",
    "    for i in range(length_of_array):\n",
    "        if(i < length_of_array-1):\n",
    "            product = array_1[i] * array_1[i+1]\n",
    "            if(max_product < product):\n",
    "                max_product = product\n",
    "    \n",
    "    return max_product"
   ]
  },
  {
   "cell_type": "code",
   "execution_count": null,
   "metadata": {},
   "outputs": [],
   "source": [
    "def adjacent_element_product(array):\n",
    "    return max( a*b for a, b in zip(array, array[1:]) )"
   ]
  },
  {
   "cell_type": "code",
   "execution_count": null,
   "metadata": {},
   "outputs": [],
   "source": [
    "def adjacent_element_product(array):\n",
    "    return max(array[i]*array[i+1] for i in range(len(array)-1))"
   ]
  }
 ],
 "metadata": {
  "kernelspec": {
   "display_name": "Python 3",
   "language": "python",
   "name": "python3"
  },
  "language_info": {
   "codemirror_mode": {
    "name": "ipython",
    "version": 3
   },
   "file_extension": ".py",
   "mimetype": "text/x-python",
   "name": "python",
   "nbconvert_exporter": "python",
   "pygments_lexer": "ipython3",
   "version": "3.6.8"
  }
 },
 "nbformat": 4,
 "nbformat_minor": 2
}
