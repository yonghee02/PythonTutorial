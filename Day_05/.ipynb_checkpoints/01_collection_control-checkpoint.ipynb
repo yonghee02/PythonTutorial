{
 "cells": [
  {
   "cell_type": "markdown",
   "metadata": {},
   "source": [
    "### 변수만을 사용하여 데이터 관리하기?\n",
    "\n",
    " - 어떤 사람의 전화 번호를 기억해야 하는 경우 보통은 아래와 같이 기억\n",
    " \n",
    " > name = 이재용\n",
    " > \n",
    " > phone = 010-3333-3333\n",
    " \n",
    " - 위와 같이 관리를 한다면 새로운 번호를 기억하기 위해서는 이 정보를 지워야 할 것\n",
    " \n",
    " > name = 제이스\n",
    " > \n",
    " > phone = 010-3054-3054\n",
    " >\n",
    " > `# 지워진 전화번호와 이름...`\n",
    " \n",
    " - 이렇게 하지 않기 위해서는 또 아래와 같이 해야한다\n",
    " \n",
    " > `# 첫 번째 연락처`\n",
    " > \n",
    " > name_1  = '박연오'\n",
    " > \n",
    " > phone_1 = '01012345678'\n",
    " >\n",
    " > `# 두 번째 연락처`\n",
    " > \n",
    " > name_2  = '이진수'\n",
    " > \n",
    " > phone_2 = '01011001010'\n",
    " > \n",
    " > `# 세 번째 연락처 (비어 있는 자리)`\n",
    " > \n",
    " > name_3  = None\n",
    " > \n",
    " > phone_3 = None\n",
    " > \n",
    " > ... (계속)\n",
    " \n",
    " - 여러가지 문제점이 생길 수 있음\n",
    " \n",
    " > 1. 연락처가 생길 때마다 새로운 변수를 만들어야함\n",
    " >\n",
    " > 2. name과 phone은 연관된 변수인데 (~의 번호!) 따로따로 되어 있는 문제\n",
    " \n",
    " - 이러한 문제를 어떻게 다룰 수 있을까? --> collection을 사용!"
   ]
  },
  {
   "cell_type": "markdown",
   "metadata": {},
   "source": [
    "### collection 1 : 순서가 있는 자료 구조\n",
    "\n",
    " - 변수에 번호를 붙여 나열하여 다루는 자료 구조\n",
    " \n",
    " - 어떠한 물건들을 구매할 순서대로 나열한다면 아래와 같이 나열\n",
    " \n",
    " > 아이스크림, 커피, 설탕, 쿠키, 우유\n",
    " \n",
    " - 처음에는 아이스크림을 사고 다음은 커피를 사고 등등 ...\n",
    " \n",
    " - 이러한 자료 구조에서 4번째로 사야할 것이 무엇인지 묻는다면 쿠키라고 답할 수 있음\n",
    " \n",
    " - sequence 시퀀스를 가진다고 하며 하나하나 숫자를 붙여 나타낸 데이터 구조임\n",
    " \n",
    " - 특정 위치, 몇 번째 데이터인지를 가리킬 수 있음\n",
    " \n",
    " - 정렬과는 다른 의마로 사용됨 --> 정렬은 어떠한 규칙을 가져야하기 때문!\n",
    " \n",
    " - 이러한 시퀀스를 가지는 collection들은 아래와 같음\n",
    " \n",
    " > 1. 리스트 list\n",
    " >\n",
    " > 2. 튜플 tuple\n",
    " >\n",
    " > 3. 레인지 range\n",
    " >\n",
    " > 4. 문자열 string"
   ]
  },
  {
   "cell_type": "markdown",
   "metadata": {},
   "source": [
    "### list 리스트\n",
    "\n",
    " - 리스트는 한글로 목록이다\n",
    " \n",
    " - **다양한 데이터를 담을 수 있고 내용을 변경할 수 있는 시퀀스**\n",
    " \n",
    " - python의 시퀀스 중 가장 대표적임\n",
    " \n",
    " - 리스트는 대괄호([, ])를 이용해 표현할 수 있음"
   ]
  },
  {
   "cell_type": "code",
   "execution_count": 1,
   "metadata": {},
   "outputs": [],
   "source": [
    "# ❶ 빈 리스트\n",
    "a_list = []\n",
    "\n",
    "# ❷ 여러 유형의 데이터로 구성된 리스트\n",
    "b_list = [10, 'hi', True]\n",
    "\n",
    "# ❸ 숫자로 구성된 리스트\n",
    "c_list = [1, 2, 3, 4]"
   ]
  },
  {
   "cell_type": "markdown",
   "metadata": {},
   "source": [
    " - 리스트에서 요소와 요소는 콤마(,)로 구분한다\n",
    " \n",
    " - 리스트 변수의 이름을 잘 정하는 것이 중요 ... 일반적인 변수와는 다른 특징과 함수(메소드)들을 사용할 수 있기 때문\n",
    " \n",
    " - 컬렉션 변수는 아래와 같이 변수이름을 정하면 좋다\n",
    " \n",
    " > 복수형 이름: numbers, names 등\n",
    " >\n",
    " > 컬렉션의 종류를 접미사로 붙이기: _list, _dict, _set 등"
   ]
  },
  {
   "cell_type": "code",
   "execution_count": 2,
   "metadata": {},
   "outputs": [],
   "source": [
    "number_list = [1, 2, 3, 4, 5]\n",
    "alphabet_list = ['a', 'b', 'c', 'd', 'e', 'f', 'g', 'h']"
   ]
  },
  {
   "cell_type": "markdown",
   "metadata": {},
   "source": [
    " - 시퀀스에서 지원하는 여러 연산을 리스트에 사용해보자"
   ]
  },
  {
   "cell_type": "markdown",
   "metadata": {},
   "source": [
    " 1. 소속 검사"
   ]
  },
  {
   "cell_type": "code",
   "execution_count": 3,
   "metadata": {},
   "outputs": [
    {
     "data": {
      "text/plain": [
       "True"
      ]
     },
     "execution_count": 3,
     "metadata": {},
     "output_type": "execute_result"
    }
   ],
   "source": [
    "3 in number_list       # number_list에 3이 들어 있는지 검사"
   ]
  },
  {
   "cell_type": "code",
   "execution_count": 4,
   "metadata": {},
   "outputs": [
    {
     "data": {
      "text/plain": [
       "False"
      ]
     },
     "execution_count": 4,
     "metadata": {},
     "output_type": "execute_result"
    }
   ],
   "source": [
    "'z' in alphabet_list   # alphabet_list에 'z'가 들어 있는지 검사"
   ]
  },
  {
   "cell_type": "code",
   "execution_count": 5,
   "metadata": {},
   "outputs": [
    {
     "data": {
      "text/plain": [
       "True"
      ]
     },
     "execution_count": 5,
     "metadata": {},
     "output_type": "execute_result"
    }
   ],
   "source": [
    "0 not in number_list   # number_list에 0이 안 들어 있는지 검사"
   ]
  },
  {
   "cell_type": "markdown",
   "metadata": {},
   "source": [
    " 2. 길이 세기"
   ]
  },
  {
   "cell_type": "code",
   "execution_count": 6,
   "metadata": {},
   "outputs": [
    {
     "data": {
      "text/plain": [
       "5"
      ]
     },
     "execution_count": 6,
     "metadata": {},
     "output_type": "execute_result"
    }
   ],
   "source": [
    "len(number_list)"
   ]
  },
  {
   "cell_type": "code",
   "execution_count": 7,
   "metadata": {},
   "outputs": [
    {
     "data": {
      "text/plain": [
       "8"
      ]
     },
     "execution_count": 7,
     "metadata": {},
     "output_type": "execute_result"
    }
   ],
   "source": [
    "len(alphabet_list)"
   ]
  },
  {
   "cell_type": "markdown",
   "metadata": {},
   "source": [
    " 3. 연결과 반복\n",
    " \n",
    "  - 이전에 string 문자열에서 사용한 연산과 같음을 확인할 수 있으며 문자열 또한 시퀀스 컬렉션임을 확인할 수 있음"
   ]
  },
  {
   "cell_type": "code",
   "execution_count": 8,
   "metadata": {},
   "outputs": [
    {
     "data": {
      "text/plain": [
       "[1, 2, 3, 4, 5, 'a', 'b', 'c', 'd', 'e', 'f', 'g', 'h']"
      ]
     },
     "execution_count": 8,
     "metadata": {},
     "output_type": "execute_result"
    }
   ],
   "source": [
    "number_list + alphabet_list  # 리스트 연결하기"
   ]
  },
  {
   "cell_type": "code",
   "execution_count": 9,
   "metadata": {},
   "outputs": [
    {
     "data": {
      "text/plain": [
       "[1, 2, 3, 4, 5, 1, 2, 3, 4, 5]"
      ]
     },
     "execution_count": 9,
     "metadata": {},
     "output_type": "execute_result"
    }
   ],
   "source": [
    "number_list * 2              # 리스트 반복하기"
   ]
  },
  {
   "cell_type": "markdown",
   "metadata": {},
   "source": [
    " 4. 인덱싱: 특정 위치의 요소 가리키기\n",
    " \n",
    "  - 컬렉션에 들어 있는 특정 요소를 가리키는 것을 인덱싱(indexing) 연산이라고 함\n",
    " \n",
    "  - 컬렉션의 요소를 가리켜서 그 요소를 구하거나 다른 값으로 수정하는 등의 작업을 할 수 있음"
   ]
  },
  {
   "cell_type": "code",
   "execution_count": 10,
   "metadata": {},
   "outputs": [
    {
     "data": {
      "text/plain": [
       "'b'"
      ]
     },
     "execution_count": 10,
     "metadata": {},
     "output_type": "execute_result"
    }
   ],
   "source": [
    "alphabet_list[1]   # 1번 위치(두 번째)의 요소 가리키기"
   ]
  },
  {
   "cell_type": "code",
   "execution_count": 11,
   "metadata": {},
   "outputs": [
    {
     "data": {
      "text/plain": [
       "'h'"
      ]
     },
     "execution_count": 11,
     "metadata": {},
     "output_type": "execute_result"
    }
   ],
   "source": [
    "alphabet_list[-1]  # -1번 위치(뒤에서 첫 번째)의 요소 가리키기"
   ]
  },
  {
   "cell_type": "code",
   "execution_count": 12,
   "metadata": {},
   "outputs": [
    {
     "data": {
      "image/png": "[encoded data removed]",
      "text/plain": [
       "<IPython.core.display.Image object>"
      ]
     },
     "execution_count": 12,
     "metadata": {},
     "output_type": "execute_result"
    }
   ],
   "source": [
    "from IPython.display import Image\n",
    "Image(\"img/01_img.png\")"
   ]
  },
  {
   "cell_type": "code",
   "execution_count": 13,
   "metadata": {},
   "outputs": [
    {
     "data": {
      "text/plain": [
       "[1, 2, -3, 4, 5]"
      ]
     },
     "execution_count": 13,
     "metadata": {},
     "output_type": "execute_result"
    }
   ],
   "source": [
    "number_list[2] = -3  # 2번 위치(세번째) 요소를 교체\n",
    "number_list"
   ]
  },
  {
   "cell_type": "markdown",
   "metadata": {},
   "source": [
    " - **가변데이터와 불변 데이터**가 있음\n",
    " \n",
    " - 데이터 유형은 내용의 수정이 허용되는 것과 금지되는 것으로도 분류\n",
    " \n",
    " - 리스트는 값을 변경할 수 있는 가변(mutable) 데이터이며 number_list[2] = '-3'처럼 내용을 수정하는 연산이 가능\n",
    " \n",
    " - 값을 변경할 수 없는 불변(immutable) 데이터도 있으며 불변 데이터에는 수, 튜플, 문자열 등\n",
    " \n",
    " - number = 10을 저장한 후 number += 1을 실행하면 number의 값은 11로 변함\n",
    " \n",
    " - 하지만 number가 가리키는 값이 바뀌었을 뿐, 10이 11이 된 것은 아님"
   ]
  },
  {
   "cell_type": "code",
   "execution_count": 57,
   "metadata": {},
   "outputs": [
    {
     "data": {
      "text/plain": [
       "1778221456"
      ]
     },
     "execution_count": 57,
     "metadata": {},
     "output_type": "execute_result"
    }
   ],
   "source": [
    "number = 10\n",
    "id(number)"
   ]
  },
  {
   "cell_type": "code",
   "execution_count": 58,
   "metadata": {},
   "outputs": [
    {
     "data": {
      "text/plain": [
       "1778221488"
      ]
     },
     "execution_count": 58,
     "metadata": {},
     "output_type": "execute_result"
    }
   ],
   "source": [
    "number += 1\n",
    "id(number)"
   ]
  },
  {
   "cell_type": "code",
   "execution_count": 59,
   "metadata": {},
   "outputs": [
    {
     "data": {
      "image/png": "[encoded data removed]",
      "text/plain": [
       "<IPython.core.display.Image object>"
      ]
     },
     "execution_count": 59,
     "metadata": {},
     "output_type": "execute_result"
    }
   ],
   "source": [
    "Image(\"img/01_1_img.png\")"
   ]
  },
  {
   "cell_type": "markdown",
   "metadata": {},
   "source": [
    " 5. 슬라이싱: 범위를 정해 선택하기\n",
    " \n",
    "  - 일정 범위의 요소를 선택하고 다룸"
   ]
  },
  {
   "cell_type": "code",
   "execution_count": 14,
   "metadata": {},
   "outputs": [
    {
     "data": {
      "text/plain": [
       "['c', 'd', 'e', 'f']"
      ]
     },
     "execution_count": 14,
     "metadata": {},
     "output_type": "execute_result"
    }
   ],
   "source": [
    "alphabet_list[2:6]   # 2 이상 6 미만 위치의 범위 선택"
   ]
  },
  {
   "cell_type": "code",
   "execution_count": 15,
   "metadata": {},
   "outputs": [
    {
     "data": {
      "text/plain": [
       "['a', 'b', 'c']"
      ]
     },
     "execution_count": 15,
     "metadata": {},
     "output_type": "execute_result"
    }
   ],
   "source": [
    "alphabet_list[:3]    # 3 미만 위치의 범위 선택 (시작 위치 생략)"
   ]
  },
  {
   "cell_type": "code",
   "execution_count": 16,
   "metadata": {},
   "outputs": [
    {
     "data": {
      "text/plain": [
       "['f', 'g', 'h']"
      ]
     },
     "execution_count": 16,
     "metadata": {},
     "output_type": "execute_result"
    }
   ],
   "source": [
    "alphabet_list[5:]    # 5 이상 위치의 범위 선택 (종료 위치 생략)"
   ]
  },
  {
   "cell_type": "code",
   "execution_count": 17,
   "metadata": {},
   "outputs": [
    {
     "data": {
      "text/plain": [
       "['a', 'b', 'c', 'd', 'e', 'f', 'g', 'h']"
      ]
     },
     "execution_count": 17,
     "metadata": {},
     "output_type": "execute_result"
    }
   ],
   "source": [
    "alphabet_list[:]     # 전체 범위 선택 (시작, 종료 위치 모두 생략)"
   ]
  },
  {
   "cell_type": "code",
   "execution_count": 18,
   "metadata": {},
   "outputs": [
    {
     "data": {
      "image/png": "[encoded data removed]",
      "text/plain": [
       "<IPython.core.display.Image object>"
      ]
     },
     "execution_count": 18,
     "metadata": {},
     "output_type": "execute_result"
    }
   ],
   "source": [
    "Image(\"img/02_img.png\")"
   ]
  },
  {
   "cell_type": "code",
   "execution_count": 19,
   "metadata": {},
   "outputs": [
    {
     "data": {
      "text/plain": [
       "['a', 'c', 'e', 'g']"
      ]
     },
     "execution_count": 19,
     "metadata": {},
     "output_type": "execute_result"
    }
   ],
   "source": [
    "alphabet_list[::2]   # 전체 범위에서 두 요소마다 하나씩 선택"
   ]
  },
  {
   "cell_type": "code",
   "execution_count": 20,
   "metadata": {},
   "outputs": [
    {
     "data": {
      "text/plain": [
       "['b', 'd', 'f', 'h']"
      ]
     },
     "execution_count": 20,
     "metadata": {},
     "output_type": "execute_result"
    }
   ],
   "source": [
    "alphabet_list[1::2]  # 1 이상의 범위에서 두 요소마다 하나씩 선택"
   ]
  },
  {
   "cell_type": "code",
   "execution_count": 21,
   "metadata": {},
   "outputs": [
    {
     "data": {
      "text/plain": [
       "['h', 'g', 'f', 'e', 'd', 'c', 'b', 'a']"
      ]
     },
     "execution_count": 21,
     "metadata": {},
     "output_type": "execute_result"
    }
   ],
   "source": [
    "alphabet_list[::-1]  # 전체 범위에서 뒤에서부터 한 요소마다 하나씩 선택"
   ]
  },
  {
   "cell_type": "code",
   "execution_count": 22,
   "metadata": {},
   "outputs": [
    {
     "data": {
      "image/png": "[encoded data removed]",
      "text/plain": [
       "<IPython.core.display.Image object>"
      ]
     },
     "execution_count": 22,
     "metadata": {},
     "output_type": "execute_result"
    }
   ],
   "source": [
    "Image(\"img/03_img.png\")"
   ]
  },
  {
   "cell_type": "markdown",
   "metadata": {},
   "source": [
    " 6. 시퀀스 복제\n",
    " \n",
    "  - 복제한 시퀀스는 원본과 다른 독립적인 복사본"
   ]
  },
  {
   "cell_type": "code",
   "execution_count": 43,
   "metadata": {},
   "outputs": [
    {
     "data": {
      "text/plain": [
       "True"
      ]
     },
     "execution_count": 43,
     "metadata": {},
     "output_type": "execute_result"
    }
   ],
   "source": [
    "original_list = ['a', 'b', 'c', 'd'] \n",
    "copied_list = original_list[:]   # 리스트 복제하기\n",
    "copied_list == original_list     # 두 리스트의 내용은 동일하다"
   ]
  },
  {
   "cell_type": "code",
   "execution_count": 33,
   "metadata": {},
   "outputs": [
    {
     "data": {
      "text/plain": [
       "['A', 'b', 'c', 'd']"
      ]
     },
     "execution_count": 33,
     "metadata": {},
     "output_type": "execute_result"
    }
   ],
   "source": [
    "copied_list[0] = 'A'             # 사본의 요소 하나를 변경하면...\n",
    "copied_list                      # 사본의 내용은 수정되었다"
   ]
  },
  {
   "cell_type": "code",
   "execution_count": 34,
   "metadata": {},
   "outputs": [
    {
     "data": {
      "text/plain": [
       "['a', 'b', 'c', 'd']"
      ]
     },
     "execution_count": 34,
     "metadata": {},
     "output_type": "execute_result"
    }
   ],
   "source": [
    "original_list                    # 그러나 원본의 내용은 수정되지 않았다"
   ]
  },
  {
   "cell_type": "code",
   "execution_count": 35,
   "metadata": {},
   "outputs": [
    {
     "data": {
      "text/plain": [
       "False"
      ]
     },
     "execution_count": 35,
     "metadata": {},
     "output_type": "execute_result"
    }
   ],
   "source": [
    "copied_list == original_list     # 이제 두 리스트의 내용이 다르다"
   ]
  },
  {
   "cell_type": "code",
   "execution_count": 36,
   "metadata": {},
   "outputs": [
    {
     "data": {
      "text/plain": [
       "2386181420424"
      ]
     },
     "execution_count": 36,
     "metadata": {},
     "output_type": "execute_result"
    }
   ],
   "source": [
    "id(original_list)"
   ]
  },
  {
   "cell_type": "code",
   "execution_count": 37,
   "metadata": {},
   "outputs": [
    {
     "data": {
      "text/plain": [
       "2386181420104"
      ]
     },
     "execution_count": 37,
     "metadata": {},
     "output_type": "execute_result"
    }
   ],
   "source": [
    "id(copied_list)"
   ]
  },
  {
   "cell_type": "code",
   "execution_count": 38,
   "metadata": {},
   "outputs": [
    {
     "data": {
      "text/plain": [
       "['a', 'B', 'c', 'd']"
      ]
     },
     "execution_count": 38,
     "metadata": {},
     "output_type": "execute_result"
    }
   ],
   "source": [
    "assigned_list = original_list    # 리스트를 다른 변수에 대입\n",
    "assigned_list[1] = 'B'           # 대입한 리스트를 수정\n",
    "original_list                    # 원본 리스트의 내용이 변경되었다"
   ]
  },
  {
   "cell_type": "code",
   "execution_count": 39,
   "metadata": {},
   "outputs": [
    {
     "data": {
      "text/plain": [
       "2386181420424"
      ]
     },
     "execution_count": 39,
     "metadata": {},
     "output_type": "execute_result"
    }
   ],
   "source": [
    "id(assigned_list)"
   ]
  },
  {
   "cell_type": "code",
   "execution_count": 40,
   "metadata": {},
   "outputs": [
    {
     "data": {
      "text/plain": [
       "2386181420424"
      ]
     },
     "execution_count": 40,
     "metadata": {},
     "output_type": "execute_result"
    }
   ],
   "source": [
    "id(original_list)"
   ]
  },
  {
   "cell_type": "code",
   "execution_count": 46,
   "metadata": {},
   "outputs": [
    {
     "data": {
      "image/png": "[encoded data removed]",
      "text/plain": [
       "<IPython.core.display.Image object>"
      ]
     },
     "execution_count": 46,
     "metadata": {},
     "output_type": "execute_result"
    }
   ],
   "source": [
    "Image(\"img/04_img.png\")"
   ]
  },
  {
   "cell_type": "markdown",
   "metadata": {},
   "source": [
    " 7. 범위를 지정하여 수정하기"
   ]
  },
  {
   "cell_type": "code",
   "execution_count": 47,
   "metadata": {},
   "outputs": [
    {
     "data": {
      "text/plain": [
       "[1, 2, -3, 4, 5]"
      ]
     },
     "execution_count": 47,
     "metadata": {},
     "output_type": "execute_result"
    }
   ],
   "source": [
    "number_list"
   ]
  },
  {
   "cell_type": "code",
   "execution_count": 48,
   "metadata": {},
   "outputs": [
    {
     "data": {
      "text/plain": [
       "[1, 200, 300, 4, 5]"
      ]
     },
     "execution_count": 48,
     "metadata": {},
     "output_type": "execute_result"
    }
   ],
   "source": [
    "number_list[1:3] = [200, 300]  # 1 - 3 위치를 선택해 새로운 내용으로 수정\n",
    "number_list"
   ]
  },
  {
   "cell_type": "markdown",
   "metadata": {},
   "source": [
    " 8. 시퀀스를 다루는 여러 함수"
   ]
  },
  {
   "cell_type": "code",
   "execution_count": 49,
   "metadata": {},
   "outputs": [
    {
     "data": {
      "text/plain": [
       "510"
      ]
     },
     "execution_count": 49,
     "metadata": {},
     "output_type": "execute_result"
    }
   ],
   "source": [
    "sum(number_list)"
   ]
  },
  {
   "cell_type": "code",
   "execution_count": 50,
   "metadata": {},
   "outputs": [
    {
     "data": {
      "text/plain": [
       "1"
      ]
     },
     "execution_count": 50,
     "metadata": {},
     "output_type": "execute_result"
    }
   ],
   "source": [
    "min(number_list)          # 가장 작은 요소"
   ]
  },
  {
   "cell_type": "code",
   "execution_count": 51,
   "metadata": {},
   "outputs": [
    {
     "data": {
      "text/plain": [
       "300"
      ]
     },
     "execution_count": 51,
     "metadata": {},
     "output_type": "execute_result"
    }
   ],
   "source": [
    "max(number_list)          # 가장 큰 요소"
   ]
  },
  {
   "cell_type": "code",
   "execution_count": 53,
   "metadata": {},
   "outputs": [
    {
     "data": {
      "text/plain": [
       "'가'"
      ]
     },
     "execution_count": 53,
     "metadata": {},
     "output_type": "execute_result"
    }
   ],
   "source": [
    "min(['가', '나', '다'])    # 가장 작은 요소 (가나다순 비교)"
   ]
  },
  {
   "cell_type": "code",
   "execution_count": 54,
   "metadata": {},
   "outputs": [
    {
     "data": {
      "text/plain": [
       "'다'"
      ]
     },
     "execution_count": 54,
     "metadata": {},
     "output_type": "execute_result"
    }
   ],
   "source": [
    "max(['가', '나', '다'])   # 가장 큰 요소 (가나다순 비교)"
   ]
  },
  {
   "cell_type": "code",
   "execution_count": 55,
   "metadata": {},
   "outputs": [
    {
     "ename": "TypeError",
     "evalue": "'<' not supported between instances of 'str' and 'int'",
     "output_type": "error",
     "traceback": [
      "\u001b[1;31m---------------------------------------------------------------------------\u001b[0m",
      "\u001b[1;31mTypeError\u001b[0m                                 Traceback (most recent call last)",
      "\u001b[1;32m<ipython-input-55-d74043690db8>\u001b[0m in \u001b[0;36m<module>\u001b[1;34m\u001b[0m\n\u001b[1;32m----> 1\u001b[1;33m \u001b[0mmin\u001b[0m\u001b[1;33m(\u001b[0m\u001b[1;33m[\u001b[0m\u001b[1;36m1\u001b[0m\u001b[1;33m,\u001b[0m \u001b[1;36m2\u001b[0m\u001b[1;33m,\u001b[0m \u001b[1;36m3\u001b[0m\u001b[1;33m,\u001b[0m \u001b[1;34m'a'\u001b[0m\u001b[1;33m]\u001b[0m\u001b[1;33m)\u001b[0m   \u001b[1;31m# 잘못된 크기 비교\u001b[0m\u001b[1;33m\u001b[0m\u001b[1;33m\u001b[0m\u001b[0m\n\u001b[0m",
      "\u001b[1;31mTypeError\u001b[0m: '<' not supported between instances of 'str' and 'int'"
     ]
    }
   ],
   "source": [
    "min([1, 2, 3, 'a'])   # 잘못된 크기 비교"
   ]
  },
  {
   "cell_type": "markdown",
   "metadata": {},
   "source": [
    " ### 연습 문제\n",
    " \n",
    " 1. center() 함수를 정의하라\n",
    " \n",
    "  - 이 함수는 시퀀스를 하나 입력받아, 시퀀스에서 가운데에 있는 요소를 반환\n",
    "  \n",
    "  - 단, 이 함수에는 홀수 개의 요소를 가지는 시퀀스만을 입력하기로 약속\n",
    "  \n",
    "  - 다음은 함수를 호출한 예\n",
    "  \n",
    "  ```\n",
    "  >>> center(['가', '나', '다', '라', '마'])\n",
    "  '다'\n",
    "\n",
    "  >>> center([2, 4, 8, 16, 32])\n",
    "  8\n",
    "  ```"
   ]
  },
  {
   "cell_type": "code",
   "execution_count": 1,
   "metadata": {},
   "outputs": [
    {
     "name": "stdout",
     "output_type": "stream",
     "text": [
      "다\n",
      "8\n"
     ]
    }
   ],
   "source": [
    "def center(sq):\n",
    "    length_of_sq = len(sq)\n",
    "    return sq[int(length_of_sq/2)]\n",
    "\n",
    "print(center(['가', '나', '다', '라', '마']))\n",
    "print(center([2, 4, 8, 16, 32]))"
   ]
  },
  {
   "cell_type": "markdown",
   "metadata": {},
   "source": [
    " 2. mirror() 함수를 정의하라\n",
    " \n",
    "  - 이 함수는 시퀀스를 하나 입력받아 그 시퀀스를 뒤집은 시퀀스를 원본에 덧붙여 반환\n",
    "  \n",
    "  - 단, 원본 시퀀스의 마지막 요소는 덧붙이지 않음\n",
    "  \n",
    "  - 다음은 함수를 호출한 예\n",
    "  \n",
    "  ```\n",
    "  >>> mirror([1, 2, 3])\n",
    "  [1, 2, 3, 2, 1]\n",
    "\n",
    "  >>> mirror(['가', '져', '가', '라'])\n",
    "  ['가', '져', '가', '라', '가', '져', '가']\n",
    "  ```"
   ]
  },
  {
   "cell_type": "code",
   "execution_count": 28,
   "metadata": {},
   "outputs": [
    {
     "name": "stdout",
     "output_type": "stream",
     "text": [
      "[1, 2, 3, 2, 1]\n",
      "['가', '져', '가', '라', '가', '져', '가']\n"
     ]
    }
   ],
   "source": [
    "def mirror(sq):\n",
    "    reverse_sq = []\n",
    "    length_of_sq = len(sq)\n",
    "    for i in range(length_of_sq):\n",
    "        index = length_of_sq - (i+1)\n",
    "        reverse_sq.append(sq[index])\n",
    "    return sq + reverse_sq[1:]\n",
    "\n",
    "print(mirror([1, 2, 3]))\n",
    "print(mirror(['가', '져', '가', '라']))"
   ]
  },
  {
   "cell_type": "markdown",
   "metadata": {},
   "source": [
    " 3. 최대최솟값\n",
    " \n",
    "  -  minmax() 함수를 정의할 것\n",
    "  \n",
    "  - 이 함수는 전달받은 시퀀스의 최솟값과 최댓값을 리스트에 담아 반환\n",
    "  \n",
    "  - 다음은 함수를 호출한 예\n",
    "  \n",
    "  ```\n",
    "  >>> minmax([92, -21, 0, 104, 51, 76, -92])\n",
    "  [-92, 104]\n",
    "\n",
    "  >>> minmax(['파', '이', '썬', '프', '로', '그', '래', '밍'])\n",
    "  ['그', '프']\n",
    "  ```"
   ]
  },
  {
   "cell_type": "code",
   "execution_count": 29,
   "metadata": {},
   "outputs": [
    {
     "name": "stdout",
     "output_type": "stream",
     "text": [
      "[-92, 104]\n",
      "['그', '프']\n"
     ]
    }
   ],
   "source": [
    "def minmax(sq):\n",
    "    return [min(sq), max(sq)]\n",
    "\n",
    "print(minmax([92, -21, 0, 104, 51, 76, -92]))\n",
    "print(minmax(['파', '이', '썬', '프', '로', '그', '래', '밍']))"
   ]
  },
  {
   "cell_type": "markdown",
   "metadata": {},
   "source": [
    "### 시퀀스 조작 메서드\n",
    "\n",
    " - 지금 소개되는 메서드는 시퀀스의 내용을 수정하는 메서드\n",
    " \n",
    " - 따라서 튜플 등의 불변 시퀀스에는 적용할 수 없음\n",
    " \n",
    " - 가변 시퀀스인 리스트에 주로 사용"
   ]
  },
  {
   "cell_type": "code",
   "execution_count": 56,
   "metadata": {},
   "outputs": [
    {
     "data": {
      "image/png": "[encoded data removed]",
      "text/plain": [
       "<IPython.core.display.Image object>"
      ]
     },
     "execution_count": 56,
     "metadata": {},
     "output_type": "execute_result"
    }
   ],
   "source": [
    "Image(\"img/05_img.png\")"
   ]
  },
  {
   "cell_type": "markdown",
   "metadata": {},
   "source": [
    " 1. 요소 추가, 삽입 메서드"
   ]
  },
  {
   "cell_type": "code",
   "execution_count": 64,
   "metadata": {},
   "outputs": [
    {
     "data": {
      "text/plain": [
       "[10, 20, 30, 40, 100]"
      ]
     },
     "execution_count": 64,
     "metadata": {},
     "output_type": "execute_result"
    }
   ],
   "source": [
    "# append() 메서드 사용하기\n",
    "\n",
    "numbers = [10, 20, 30, 40]\n",
    "numbers.append(100)    # 시퀀스의 끝에 100을 추가\n",
    "numbers"
   ]
  },
  {
   "cell_type": "code",
   "execution_count": 65,
   "metadata": {},
   "outputs": [
    {
     "data": {
      "text/plain": [
       "[10, 20, 30, 40, 50, 100]"
      ]
     },
     "execution_count": 65,
     "metadata": {},
     "output_type": "execute_result"
    }
   ],
   "source": [
    "# insert() 메서드 사용하기\n",
    "\n",
    "numbers.insert(4, 50)  # 시퀀스의 4번 위치에 50을 삽입\n",
    "numbers"
   ]
  },
  {
   "cell_type": "code",
   "execution_count": 66,
   "metadata": {},
   "outputs": [
    {
     "data": {
      "text/plain": [
       "[10, 20, 30, 40, 50, 100, 101, 102, 103]"
      ]
     },
     "execution_count": 66,
     "metadata": {},
     "output_type": "execute_result"
    }
   ],
   "source": [
    "# extend() 메서드 사용하기\n",
    "\n",
    "numbers.extend([101, 102, 103])  # [101, 102, 103] 을 연결한다.\n",
    "numbers"
   ]
  },
  {
   "cell_type": "code",
   "execution_count": 67,
   "metadata": {},
   "outputs": [
    {
     "data": {
      "text/plain": [
       "103"
      ]
     },
     "execution_count": 67,
     "metadata": {},
     "output_type": "execute_result"
    }
   ],
   "source": [
    "# pop() 메서드 사용하기\n",
    "\n",
    "numbers.pop()  # 마지막 요소를 꺼내 확인하고 버린다"
   ]
  },
  {
   "cell_type": "code",
   "execution_count": 68,
   "metadata": {},
   "outputs": [
    {
     "data": {
      "text/plain": [
       "102"
      ]
     },
     "execution_count": 68,
     "metadata": {},
     "output_type": "execute_result"
    }
   ],
   "source": [
    "numbers.pop()  # 마지막 요소를 꺼내 확인하고 버린다"
   ]
  },
  {
   "cell_type": "code",
   "execution_count": 69,
   "metadata": {},
   "outputs": [
    {
     "data": {
      "text/plain": [
       "101"
      ]
     },
     "execution_count": 69,
     "metadata": {},
     "output_type": "execute_result"
    }
   ],
   "source": [
    "numbers.pop()  # 마지막 요소를 꺼내 확인하고 버린다"
   ]
  },
  {
   "cell_type": "code",
   "execution_count": 70,
   "metadata": {},
   "outputs": [
    {
     "data": {
      "text/plain": [
       "[10, 20, 30, 40, 50, 100]"
      ]
     },
     "execution_count": 70,
     "metadata": {},
     "output_type": "execute_result"
    }
   ],
   "source": [
    "numbers"
   ]
  },
  {
   "cell_type": "code",
   "execution_count": 71,
   "metadata": {},
   "outputs": [
    {
     "data": {
      "text/plain": [
       "[10, 20, 30, 50, 100]"
      ]
     },
     "execution_count": 71,
     "metadata": {},
     "output_type": "execute_result"
    }
   ],
   "source": [
    "# emove() 메서드 사용하기\n",
    "\n",
    "numbers.remove(40)  # 40을 찾아 삭제\n",
    "numbers"
   ]
  },
  {
   "cell_type": "code",
   "execution_count": 72,
   "metadata": {},
   "outputs": [
    {
     "ename": "ValueError",
     "evalue": "list.remove(x): x not in list",
     "output_type": "error",
     "traceback": [
      "\u001b[1;31m---------------------------------------------------------------------------\u001b[0m",
      "\u001b[1;31mValueError\u001b[0m                                Traceback (most recent call last)",
      "\u001b[1;32m<ipython-input-72-0b642961d375>\u001b[0m in \u001b[0;36m<module>\u001b[1;34m\u001b[0m\n\u001b[1;32m----> 1\u001b[1;33m \u001b[0mnumbers\u001b[0m\u001b[1;33m.\u001b[0m\u001b[0mremove\u001b[0m\u001b[1;33m(\u001b[0m\u001b[1;36m99\u001b[0m\u001b[1;33m)\u001b[0m  \u001b[1;31m# 데이터를 찾을 수 없는 경우에는 오류 발생\u001b[0m\u001b[1;33m\u001b[0m\u001b[1;33m\u001b[0m\u001b[0m\n\u001b[0m",
      "\u001b[1;31mValueError\u001b[0m: list.remove(x): x not in list"
     ]
    }
   ],
   "source": [
    "numbers.remove(99)  # 데이터를 찾을 수 없는 경우에는 오류 발생"
   ]
  },
  {
   "cell_type": "code",
   "execution_count": 73,
   "metadata": {},
   "outputs": [
    {
     "data": {
      "text/plain": [
       "[]"
      ]
     },
     "execution_count": 73,
     "metadata": {},
     "output_type": "execute_result"
    }
   ],
   "source": [
    "# clear() 메서드 사용하기\n",
    "\n",
    "numbers.clear()\n",
    "numbers"
   ]
  },
  {
   "cell_type": "code",
   "execution_count": 74,
   "metadata": {},
   "outputs": [
    {
     "name": "stdout",
     "output_type": "stream",
     "text": [
      "['서울', '수원', '대전', '동대구', '밀양', '부산']\n",
      "부산\n",
      "None\n",
      "['서울', '대전', '동대구', '밀양']\n"
     ]
    }
   ],
   "source": [
    "stations = []\n",
    "stations.append('서울')\n",
    "stations += (['수원', '대전'])\n",
    "stations.extend(['밀양', '부산'])\n",
    "stations.insert(3, '동대구')\n",
    "\n",
    "print(stations)                 # 출력 1\n",
    "print(stations.pop())           # 출력 2\n",
    "print(stations.remove('수원'))  # 출력 3\n",
    "print(stations)                 # 출력 4"
   ]
  },
  {
   "cell_type": "markdown",
   "metadata": {},
   "source": [
    "### 이 모든 것의 시작이었던 전화번호 관리하기\n",
    "\n",
    " - 컬렉션을 사용하지 않았던 코드 5-2에서는 name_1, phone_1, name_2, phone_2, … 하는 식을 사용\n",
    " \n",
    " - 프로그래머가 필요한 연락처 수만큼 변수를 하나하나 정의 --> 좋지 않음\n",
    " \n",
    " - 리스트를 사용하면 이 수많은 변수를 ‘이름 목록’과 ‘전화번호 목록’이라는 두 리스트로 줄일 수 있음"
   ]
  },
  {
   "cell_type": "code",
   "execution_count": 75,
   "metadata": {},
   "outputs": [],
   "source": [
    "name_list = []\n",
    "phone_list = []"
   ]
  },
  {
   "cell_type": "code",
   "execution_count": 76,
   "metadata": {},
   "outputs": [
    {
     "data": {
      "text/plain": [
       "2"
      ]
     },
     "execution_count": 76,
     "metadata": {},
     "output_type": "execute_result"
    }
   ],
   "source": [
    "name_list.append('박연오')        # 이름 목록에 추가\n",
    "phone_list.append('01012345678')  # 전화번호 목록에 추가\n",
    "name_list.append('이진수')\n",
    "phone_list.append('01011001010')\n",
    "len(name_list)                    # 저장된 연락처 개수 확인"
   ]
  },
  {
   "cell_type": "code",
   "execution_count": 77,
   "metadata": {},
   "outputs": [
    {
     "data": {
      "text/plain": [
       "'박연오 01012345678'"
      ]
     },
     "execution_count": 77,
     "metadata": {},
     "output_type": "execute_result"
    }
   ],
   "source": [
    "name_list[0] + ' ' + phone_list[0]    # 0번 연락처 확인"
   ]
  },
  {
   "cell_type": "markdown",
   "metadata": {},
   "source": [
    "### tuple 튜플\n",
    "\n",
    " - 튜플은 다양한 데이터를 담을 수 있고 내용을 변경할 수 **없는** 시퀀스\n",
    " \n",
    " - 리스트와 비슷하지만 한 번 담은 데이터를 바꿀 수 없다는 점이 다름\n",
    " \n",
    " - 튜플은 정의될 때부터 담을 데이터가 결정\n",
    " \n",
    " - 또한 그 뒤에는 데이터를 추가로 담거나 교체할 수 없음\n",
    " \n",
    " - 튜플을 표현하는 방법\n",
    " \n",
    " ```\n",
    " 빈 튜플: ()\n",
    " \n",
    " 요소가 하나인 튜플: (1,) 또는 1,\n",
    " \n",
    " 요소가 둘 이상인 튜플: (1, 2) 또는 1, 2\n",
    " ```"
   ]
  },
  {
   "cell_type": "code",
   "execution_count": 79,
   "metadata": {},
   "outputs": [
    {
     "data": {
      "text/plain": [
       "('일', '월', '화', '수', '목', '금', '토')"
      ]
     },
     "execution_count": 79,
     "metadata": {},
     "output_type": "execute_result"
    }
   ],
   "source": [
    "days = ('일', '월', '화', '수', '목', '금', '토')  # 튜플 정의하기\n",
    "days  # 튜플 내용 확인"
   ]
  },
  {
   "cell_type": "code",
   "execution_count": 80,
   "metadata": {},
   "outputs": [
    {
     "data": {
      "text/plain": [
       "7"
      ]
     },
     "execution_count": 80,
     "metadata": {},
     "output_type": "execute_result"
    }
   ],
   "source": [
    "len(days)    # 길이 세기"
   ]
  },
  {
   "cell_type": "code",
   "execution_count": 81,
   "metadata": {},
   "outputs": [
    {
     "data": {
      "text/plain": [
       "'일'"
      ]
     },
     "execution_count": 81,
     "metadata": {},
     "output_type": "execute_result"
    }
   ],
   "source": [
    "days[0]      # 인덱싱 연산"
   ]
  },
  {
   "cell_type": "code",
   "execution_count": 82,
   "metadata": {},
   "outputs": [
    {
     "data": {
      "text/plain": [
       "('토', '금', '목', '수', '화', '월', '일')"
      ]
     },
     "execution_count": 82,
     "metadata": {},
     "output_type": "execute_result"
    }
   ],
   "source": [
    "days[::-1]   # 슬라이싱 연산 (새 튜플 생성)"
   ]
  },
  {
   "cell_type": "code",
   "execution_count": 83,
   "metadata": {},
   "outputs": [
    {
     "data": {
      "text/plain": [
       "('일', '월', '화', '수', '목', '금', '토', '천', '해', '명')"
      ]
     },
     "execution_count": 83,
     "metadata": {},
     "output_type": "execute_result"
    }
   ],
   "source": [
    "days + ('천', '해', '명')  # 시퀀스 연결 (새 튜플 생성)"
   ]
  },
  {
   "cell_type": "code",
   "execution_count": 84,
   "metadata": {},
   "outputs": [
    {
     "ename": "TypeError",
     "evalue": "'tuple' object does not support item assignment",
     "output_type": "error",
     "traceback": [
      "\u001b[1;31m---------------------------------------------------------------------------\u001b[0m",
      "\u001b[1;31mTypeError\u001b[0m                                 Traceback (most recent call last)",
      "\u001b[1;32m<ipython-input-84-97424b028253>\u001b[0m in \u001b[0;36m<module>\u001b[1;34m\u001b[0m\n\u001b[1;32m----> 1\u001b[1;33m \u001b[0mdays\u001b[0m\u001b[1;33m[\u001b[0m\u001b[1;36m1\u001b[0m\u001b[1;33m]\u001b[0m \u001b[1;33m=\u001b[0m \u001b[1;34m'月'\u001b[0m     \u001b[1;31m# 요소 대입: 지원하지 않음!\u001b[0m\u001b[1;33m\u001b[0m\u001b[1;33m\u001b[0m\u001b[0m\n\u001b[0m",
      "\u001b[1;31mTypeError\u001b[0m: 'tuple' object does not support item assignment"
     ]
    }
   ],
   "source": [
    "days[1] = '月'     # 요소 대입: 지원하지 않음!"
   ]
  },
  {
   "cell_type": "code",
   "execution_count": 85,
   "metadata": {},
   "outputs": [
    {
     "ename": "AttributeError",
     "evalue": "'tuple' object has no attribute 'append'",
     "output_type": "error",
     "traceback": [
      "\u001b[1;31m---------------------------------------------------------------------------\u001b[0m",
      "\u001b[1;31mAttributeError\u001b[0m                            Traceback (most recent call last)",
      "\u001b[1;32m<ipython-input-85-697bc7a3ab8e>\u001b[0m in \u001b[0;36m<module>\u001b[1;34m\u001b[0m\n\u001b[1;32m----> 1\u001b[1;33m \u001b[0mdays\u001b[0m\u001b[1;33m.\u001b[0m\u001b[0mappend\u001b[0m\u001b[1;33m(\u001b[0m\u001b[1;34m'천'\u001b[0m\u001b[1;33m)\u001b[0m  \u001b[1;31m# append 메서드: 지원하지 않음!\u001b[0m\u001b[1;33m\u001b[0m\u001b[1;33m\u001b[0m\u001b[0m\n\u001b[0m",
      "\u001b[1;31mAttributeError\u001b[0m: 'tuple' object has no attribute 'append'"
     ]
    }
   ],
   "source": [
    "days.append('천')  # append 메서드: 지원하지 않음!"
   ]
  },
  {
   "cell_type": "markdown",
   "metadata": {},
   "source": [
    " - **파이썬에서 리스트와 튜플의 유일한 차이 = 값을 변경할 수 있는가 없는가**\n",
    " \n",
    " - 변수의 내용이 정해져 있는 경우라면 튜플이 매우 안전하고 효율적임!"
   ]
  },
  {
   "cell_type": "markdown",
   "metadata": {},
   "source": [
    "### 레인지 표현하기\n",
    " \n",
    " - 레인지를 표현할 때는 range() 함수를 사용\n",
    " \n",
    " - 매개변수를 1개 또는 2개 또는 3개 지정할 수 있음\n",
    " \n",
    " - 지정하는 매개변수의 수에 따라서 생성되는 레인지가 다음과 같이 차이가 있음\n",
    " \n",
    " > range(종료): 0 부터 종료값에 이르기 전의 1씩 증가하는 등차수열 시퀀스를 생성한다.\n",
    " > \n",
    " > range(시작, 종료): 시작값부터 종료값에 이르기 전의 1씩 증가하는 등차수열 시퀀스를 생성한다.\n",
    " >\n",
    " > range(시작, 종료, 간격)) 시작값부터, 종료값에 이르기 전의 간격만큼씩 증가하는 등차수열 시퀀스를 생성한다.\n",
    " \n",
    " - reference\n",
    " \n",
    " > https://www.w3schools.com/python/ref_func_range.asp"
   ]
  },
  {
   "cell_type": "code",
   "execution_count": 86,
   "metadata": {},
   "outputs": [
    {
     "data": {
      "text/plain": [
       "[0, 1, 2, 3, 4, 5, 6, 7, 8]"
      ]
     },
     "execution_count": 86,
     "metadata": {},
     "output_type": "execute_result"
    }
   ],
   "source": [
    "list(range(9))         # 0 이상, 9 미만의 1씩 증가하는 등차수열"
   ]
  },
  {
   "cell_type": "code",
   "execution_count": 87,
   "metadata": {},
   "outputs": [
    {
     "data": {
      "text/plain": [
       "[5, 6, 7, 8, 9, 10, 11]"
      ]
     },
     "execution_count": 87,
     "metadata": {},
     "output_type": "execute_result"
    }
   ],
   "source": [
    "list(range(5, 12))     # 5 이상, 12 미만의 1씩 증가하는 등차수열"
   ]
  },
  {
   "cell_type": "code",
   "execution_count": 88,
   "metadata": {},
   "outputs": [
    {
     "data": {
      "text/plain": [
       "[0, 2, 4, 6, 8, 10, 12, 14, 16, 18]"
      ]
     },
     "execution_count": 88,
     "metadata": {},
     "output_type": "execute_result"
    }
   ],
   "source": [
    "list(range(0, 20, 2))  # 0 이상, 20 미만의 2씩 증가하는 등차수열"
   ]
  },
  {
   "cell_type": "markdown",
   "metadata": {},
   "source": [
    " - 레인지는 요소를 필요한 시점에만 만들어냄"
   ]
  },
  {
   "cell_type": "code",
   "execution_count": 89,
   "metadata": {},
   "outputs": [
    {
     "data": {
      "text/plain": [
       "range(0, 9)"
      ]
     },
     "execution_count": 89,
     "metadata": {},
     "output_type": "execute_result"
    }
   ],
   "source": [
    "range(9)  # 내용 대신 range(0, 9)라는 표현만 출력된다"
   ]
  },
  {
   "cell_type": "code",
   "execution_count": 90,
   "metadata": {},
   "outputs": [
    {
     "data": {
      "text/plain": [
       "[0, 1, 2, 3, 4, 5, 6, 7, 8]"
      ]
     },
     "execution_count": 90,
     "metadata": {},
     "output_type": "execute_result"
    }
   ],
   "source": [
    "list(range(9))   # 리스트로 변환"
   ]
  },
  {
   "cell_type": "code",
   "execution_count": 91,
   "metadata": {},
   "outputs": [
    {
     "data": {
      "text/plain": [
       "(0, 1, 2, 3, 4, 5, 6, 7, 8)"
      ]
     },
     "execution_count": 91,
     "metadata": {},
     "output_type": "execute_result"
    }
   ],
   "source": [
    "tuple(range(9))  # 튜플로 변환"
   ]
  },
  {
   "cell_type": "code",
   "execution_count": 92,
   "metadata": {},
   "outputs": [
    {
     "data": {
      "text/plain": [
       "range(0, 10000000000000000)"
      ]
     },
     "execution_count": 92,
     "metadata": {},
     "output_type": "execute_result"
    }
   ],
   "source": [
    "경 = 10 ** 16    # 매우 큰 수\n",
    "range(경)        # 규칙만을 정의하므로, 레인지가 즉시 생성된다"
   ]
  },
  {
   "cell_type": "code",
   "execution_count": null,
   "metadata": {},
   "outputs": [],
   "source": [
    "주의!!!!!\n",
    "list(range(경))  # 시퀀스 요소를 모두 생성하므로, 메모리가 부족해 오류가 발생한다"
   ]
  },
  {
   "cell_type": "code",
   "execution_count": 93,
   "metadata": {},
   "outputs": [
    {
     "data": {
      "text/plain": [
       "9999999999999999"
      ]
     },
     "execution_count": 93,
     "metadata": {},
     "output_type": "execute_result"
    }
   ],
   "source": [
    "range(경)[-1]    # 요소 하나를 읽는 것은 문제 없다"
   ]
  },
  {
   "cell_type": "code",
   "execution_count": 94,
   "metadata": {},
   "outputs": [
    {
     "data": {
      "text/plain": [
       "20"
      ]
     },
     "execution_count": 94,
     "metadata": {},
     "output_type": "execute_result"
    }
   ],
   "source": [
    "range(0, 100, 2)[10]       # 인덱싱 연산"
   ]
  },
  {
   "cell_type": "code",
   "execution_count": 96,
   "metadata": {},
   "outputs": [
    {
     "ename": "TypeError",
     "evalue": "'range' object does not support item assignment",
     "output_type": "error",
     "traceback": [
      "\u001b[1;31m---------------------------------------------------------------------------\u001b[0m",
      "\u001b[1;31mTypeError\u001b[0m                                 Traceback (most recent call last)",
      "\u001b[1;32m<ipython-input-96-3a440206ed7e>\u001b[0m in \u001b[0;36m<module>\u001b[1;34m\u001b[0m\n\u001b[1;32m----> 1\u001b[1;33m \u001b[0mrange\u001b[0m\u001b[1;33m(\u001b[0m\u001b[1;36m0\u001b[0m\u001b[1;33m,\u001b[0m \u001b[1;36m100\u001b[0m\u001b[1;33m,\u001b[0m \u001b[1;36m2\u001b[0m\u001b[1;33m)\u001b[0m\u001b[1;33m[\u001b[0m\u001b[1;36m10\u001b[0m\u001b[1;33m]\u001b[0m \u001b[1;33m=\u001b[0m \u001b[1;36m50\u001b[0m  \u001b[1;31m# 요소 대입은 지원하지 않는다.\u001b[0m\u001b[1;33m\u001b[0m\u001b[1;33m\u001b[0m\u001b[0m\n\u001b[0m",
      "\u001b[1;31mTypeError\u001b[0m: 'range' object does not support item assignment"
     ]
    }
   ],
   "source": [
    "range(0, 100, 2)[10] = 50  # 요소 대입은 지원하지 않는다."
   ]
  },
  {
   "cell_type": "markdown",
   "metadata": {},
   "source": [
    "### 문자열은 시퀀스\n",
    "\n",
    " - 문자열은 시퀀스의 일종\n",
    " \n",
    " - 리스트와 튜플이 아무 데이터나 요소로 가질 수 있는 것는 반면, 문자열은 개별 문자만을 요소로 가짐\n",
    " \n",
    " - 문자열은 시퀀스이므로 시퀀스 연산이 가능\n",
    " \n",
    " - 그러나 불변 데이터이기 때문에 내용을 수정하는 것은 허용되지 않음"
   ]
  },
  {
   "cell_type": "code",
   "execution_count": 97,
   "metadata": {},
   "outputs": [],
   "source": [
    "message = '사막이 아름다운 것은 어딘가에 물을 감추고 있기 때문이야'"
   ]
  },
  {
   "cell_type": "code",
   "execution_count": 98,
   "metadata": {},
   "outputs": [
    {
     "data": {
      "text/plain": [
       "True"
      ]
     },
     "execution_count": 98,
     "metadata": {},
     "output_type": "execute_result"
    }
   ],
   "source": [
    "'물' in message     # 요소가 들어있는지 확인"
   ]
  },
  {
   "cell_type": "code",
   "execution_count": 99,
   "metadata": {},
   "outputs": [
    {
     "data": {
      "text/plain": [
       "'물'"
      ]
     },
     "execution_count": 99,
     "metadata": {},
     "output_type": "execute_result"
    }
   ],
   "source": [
    "message[17]         # 인덱싱 연산"
   ]
  },
  {
   "cell_type": "code",
   "execution_count": 100,
   "metadata": {},
   "outputs": [
    {
     "data": {
      "text/plain": [
       "'사막'"
      ]
     },
     "execution_count": 100,
     "metadata": {},
     "output_type": "execute_result"
    }
   ],
   "source": [
    "message[:2]         # 슬라이싱 연산"
   ]
  },
  {
   "cell_type": "code",
   "execution_count": 101,
   "metadata": {},
   "outputs": [
    {
     "ename": "TypeError",
     "evalue": "'str' object does not support item assignment",
     "output_type": "error",
     "traceback": [
      "\u001b[1;31m---------------------------------------------------------------------------\u001b[0m",
      "\u001b[1;31mTypeError\u001b[0m                                 Traceback (most recent call last)",
      "\u001b[1;32m<ipython-input-101-f340a70dab6c>\u001b[0m in \u001b[0;36m<module>\u001b[1;34m\u001b[0m\n\u001b[1;32m----> 1\u001b[1;33m \u001b[0mmessage\u001b[0m\u001b[1;33m[\u001b[0m\u001b[1;36m17\u001b[0m\u001b[1;33m]\u001b[0m \u001b[1;33m=\u001b[0m \u001b[1;34m'샘'\u001b[0m  \u001b[1;31m# 요소를 바꿀 수는 없다\u001b[0m\u001b[1;33m\u001b[0m\u001b[1;33m\u001b[0m\u001b[0m\n\u001b[0m",
      "\u001b[1;31mTypeError\u001b[0m: 'str' object does not support item assignment"
     ]
    }
   ],
   "source": [
    "message[17] = '샘'  # 요소를 바꿀 수는 없다"
   ]
  },
  {
   "cell_type": "code",
   "execution_count": 102,
   "metadata": {},
   "outputs": [
    {
     "data": {
      "text/plain": [
       "['파', '이', '썬']"
      ]
     },
     "execution_count": 102,
     "metadata": {},
     "output_type": "execute_result"
    }
   ],
   "source": [
    "list('파이썬')"
   ]
  },
  {
   "cell_type": "code",
   "execution_count": 103,
   "metadata": {},
   "outputs": [
    {
     "data": {
      "text/plain": [
       "('일', '월', '화', '수', '목', '금', '토')"
      ]
     },
     "execution_count": 103,
     "metadata": {},
     "output_type": "execute_result"
    }
   ],
   "source": [
    "tuple('일월화수목금토')"
   ]
  },
  {
   "cell_type": "code",
   "execution_count": 104,
   "metadata": {},
   "outputs": [
    {
     "data": {
      "text/plain": [
       "'가난하다고외로움을모르겠는가'"
      ]
     },
     "execution_count": 104,
     "metadata": {},
     "output_type": "execute_result"
    }
   ],
   "source": [
    "# join 메서드로 여러 개의 문자열 연결하기\n",
    "\n",
    "''.join(['가난하다고', '외로움을', '모르겠는가'])"
   ]
  },
  {
   "cell_type": "code",
   "execution_count": 105,
   "metadata": {},
   "outputs": [
    {
     "data": {
      "text/plain": [
       "'가난하다고/외로움을/모르겠는가'"
      ]
     },
     "execution_count": 105,
     "metadata": {},
     "output_type": "execute_result"
    }
   ],
   "source": [
    "'/'.join(('가난하다고', '외로움을', '모르겠는가'))"
   ]
  },
  {
   "cell_type": "code",
   "execution_count": 106,
   "metadata": {},
   "outputs": [
    {
     "data": {
      "text/plain": [
       "'가난하다고.외로움을.모르겠는가'"
      ]
     },
     "execution_count": 106,
     "metadata": {},
     "output_type": "execute_result"
    }
   ],
   "source": [
    "'.'.join('가난하다고 외로움을 모르겠는가'.split())"
   ]
  },
  {
   "cell_type": "code",
   "execution_count": 107,
   "metadata": {},
   "outputs": [
    {
     "data": {
      "text/plain": [
       "'일 - 월 - 화 - 수 - 목 - 금 - 토'"
      ]
     },
     "execution_count": 107,
     "metadata": {},
     "output_type": "execute_result"
    }
   ],
   "source": [
    "' - '.join('일월화수목금토') "
   ]
  },
  {
   "cell_type": "code",
   "execution_count": null,
   "metadata": {},
   "outputs": [],
   "source": []
  }
 ],
 "metadata": {
  "kernelspec": {
   "display_name": "Python 3",
   "language": "python",
   "name": "python3"
  },
  "language_info": {
   "codemirror_mode": {
    "name": "ipython",
    "version": 3
   },
   "file_extension": ".py",
   "mimetype": "text/x-python",
   "name": "python",
   "nbconvert_exporter": "python",
   "pygments_lexer": "ipython3",
   "version": "3.6.8"
  }
 },
 "nbformat": 4,
 "nbformat_minor": 2
}
