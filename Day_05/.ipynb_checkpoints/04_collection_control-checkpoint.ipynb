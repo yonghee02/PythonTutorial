{
 "cells": [
  {
   "cell_type": "markdown",
   "metadata": {},
   "source": [
    "### 패킹과 언패킹\n",
    "\n",
    " - packing : 여러 변수를 하나의 자료 구조로!\n",
    " \n",
    " - unpacking : 자료 구조를 여러 변수, 혹은 단일 변수로!"
   ]
  },
  {
   "cell_type": "markdown",
   "metadata": {},
   "source": [
    "### 대입문과 시퀀스\n",
    "\n",
    " - 변수 하나에는 데이터 하나만을 대입할 수 있음\n",
    " \n",
    " - 변수 하나가 여러 개의 데이터를 가리키도록 할 수 있는 방법 --> 데이터들을 컬렉션에 담고 그 컬렉션을 변수에 대입"
   ]
  },
  {
   "cell_type": "code",
   "execution_count": 1,
   "metadata": {},
   "outputs": [],
   "source": [
    "numbers = (1, 2, 3, 4, 5)"
   ]
  },
  {
   "cell_type": "code",
   "execution_count": 2,
   "metadata": {},
   "outputs": [
    {
     "data": {
      "text/plain": [
       "tuple"
      ]
     },
     "execution_count": 2,
     "metadata": {},
     "output_type": "execute_result"
    }
   ],
   "source": [
    "type(numbers)"
   ]
  },
  {
   "cell_type": "markdown",
   "metadata": {},
   "source": [
    "### 시퀀스의 데이터를 풀어 변수에 대입하기\n",
    "\n",
    " - 컬렉션으로 묶은 요소들을 풀어 여러 변수에 나눠 담아야 할 때도 있음\n",
    "\n",
    " - 이 작업을 수행하려면 꺼내려는 요소의 개수만큼 여러 행의 코드를 작성해야 하는 불편함이 존재"
   ]
  },
  {
   "cell_type": "code",
   "execution_count": 4,
   "metadata": {},
   "outputs": [
    {
     "name": "stdout",
     "output_type": "stream",
     "text": [
      "1 2 3 4 5\n"
     ]
    }
   ],
   "source": [
    "a = numbers[0]\n",
    "b = numbers[1]\n",
    "c = numbers[2]\n",
    "d = numbers[3]\n",
    "e = numbers[4]\n",
    "\n",
    "print(a, b, c, d, e)"
   ]
  },
  {
   "cell_type": "code",
   "execution_count": 5,
   "metadata": {},
   "outputs": [
    {
     "name": "stdout",
     "output_type": "stream",
     "text": [
      "1 2 3 4 5\n"
     ]
    }
   ],
   "source": [
    "# 변수의 튜플을 이용해, 시퀀스의 데이터 나누어 대입하기\n",
    "\n",
    "(a, b, c, d, e) = numbers  # ❶ 대입문의 좌변과 우변이 모두 시퀀스\n",
    "\n",
    "print(a, b, c, d, e)"
   ]
  },
  {
   "cell_type": "code",
   "execution_count": 6,
   "metadata": {},
   "outputs": [],
   "source": [
    "# 대입문에서는 튜플의 괄호를 생략하자\n",
    "\n",
    "numbers = 1, 2, 3, 4, 5  # 패킹\n",
    "a, b, c, d, e = numbers  # 언패킹"
   ]
  },
  {
   "cell_type": "code",
   "execution_count": 7,
   "metadata": {},
   "outputs": [
    {
     "ename": "ValueError",
     "evalue": "too many values to unpack (expected 3)",
     "output_type": "error",
     "traceback": [
      "\u001b[1;31m---------------------------------------------------------------------------\u001b[0m",
      "\u001b[1;31mValueError\u001b[0m                                Traceback (most recent call last)",
      "\u001b[1;32m<ipython-input-7-965f3bdf822a>\u001b[0m in \u001b[0;36m<module>\u001b[1;34m\u001b[0m\n\u001b[0;32m      1\u001b[0m \u001b[1;31m# 대입문에서 양 변의 시퀀스 길이는 일치해야 한다\u001b[0m\u001b[1;33m\u001b[0m\u001b[1;33m\u001b[0m\u001b[1;33m\u001b[0m\u001b[0m\n\u001b[0;32m      2\u001b[0m \u001b[1;33m\u001b[0m\u001b[0m\n\u001b[1;32m----> 3\u001b[1;33m \u001b[0ma\u001b[0m\u001b[1;33m,\u001b[0m \u001b[0mb\u001b[0m\u001b[1;33m,\u001b[0m \u001b[0mc\u001b[0m \u001b[1;33m=\u001b[0m \u001b[0mnumbers\u001b[0m        \u001b[1;31m# ❶ 대입문 양 변의 시퀀스의 길이가 서로 다르면 오류가 발생한다\u001b[0m\u001b[1;33m\u001b[0m\u001b[1;33m\u001b[0m\u001b[0m\n\u001b[0m",
      "\u001b[1;31mValueError\u001b[0m: too many values to unpack (expected 3)"
     ]
    }
   ],
   "source": [
    "# 대입문에서 양 변의 시퀀스 길이는 일치해야 한다\n",
    "\n",
    "a, b, c = numbers        # ❶ 대입문 양 변의 시퀀스의 길이가 서로 다르면 오류가 발생한다"
   ]
  },
  {
   "cell_type": "code",
   "execution_count": 8,
   "metadata": {},
   "outputs": [],
   "source": [
    "a, b, c, d, _ = numbers  # ❷ 필요 없는 요소를 _ 변수에 대입"
   ]
  },
  {
   "cell_type": "markdown",
   "metadata": {},
   "source": [
    "### 남은 요소 대입받기\n",
    "\n",
    " - 대입문에서 좌변의 변수 중 하나에 별 기호(*)를 붙이면, 남은 요소 전체를 리스트에 담아 대입"
   ]
  },
  {
   "cell_type": "code",
   "execution_count": 9,
   "metadata": {},
   "outputs": [
    {
     "name": "stdout",
     "output_type": "stream",
     "text": [
      "1 2 (3, 4, 5)\n"
     ]
    }
   ],
   "source": [
    "a = numbers[0]            # a = 1\n",
    "b = numbers[1]            # b = 2\n",
    "rest = numbers[2:]        # rest = (3, 4, 5)\n",
    "print(a, b, rest)"
   ]
  },
  {
   "cell_type": "code",
   "execution_count": 10,
   "metadata": {},
   "outputs": [
    {
     "name": "stdout",
     "output_type": "stream",
     "text": [
      "1 2 [3, 4, 5]\n"
     ]
    }
   ],
   "source": [
    "a, b, *rest = numbers     # 1, 2를 제외한 나머지를 rest에 대입\n",
    "print(a, b, rest)"
   ]
  },
  {
   "cell_type": "code",
   "execution_count": 11,
   "metadata": {},
   "outputs": [
    {
     "name": "stdout",
     "output_type": "stream",
     "text": [
      "[1, 2]\n"
     ]
    }
   ],
   "source": [
    "*rest, c, d, e = numbers  # 3, 4, 5를 제외한 나머지를 rest에 대입\n",
    "print(rest)"
   ]
  },
  {
   "cell_type": "code",
   "execution_count": 12,
   "metadata": {},
   "outputs": [
    {
     "name": "stdout",
     "output_type": "stream",
     "text": [
      "[2, 3, 4]\n"
     ]
    }
   ],
   "source": [
    "a, *rest, e = numbers     # 1, 5를 제외한 나머지를 rest에 대입\n",
    "print(rest)"
   ]
  },
  {
   "cell_type": "markdown",
   "metadata": {},
   "source": [
    "### 함수의 매개변수와 시퀀스 패킹·언패킹\n",
    "\n",
    " - 함수를 정의할 때, 인자를 전달받을 매개변수 목록을 정의해야 함\n",
    " \n",
    " - 예를 들어 세 개의 매개변수를 갖는 다음 함수를 생각해 보자."
   ]
  },
  {
   "cell_type": "code",
   "execution_count": 13,
   "metadata": {},
   "outputs": [],
   "source": [
    "def date_to_string(y, m, d):\n",
    "    \"\"\"년(y), 월(m), 일(d)을 입력받아,\n",
    "       'y년 m월 d일' 형태의 문자열을 반환한다.\"\"\"\n",
    "    return str(y) + '년 ' + str(m) + '월 ' + str(d) + '일'"
   ]
  },
  {
   "cell_type": "markdown",
   "metadata": {},
   "source": [
    " - 날짜 데이터를 (1917, 9, 4)와 같이 시퀀스로 정의하고 함수에 사용한다면 다음과 같음"
   ]
  },
  {
   "cell_type": "code",
   "execution_count": 14,
   "metadata": {},
   "outputs": [
    {
     "data": {
      "text/plain": [
       "'1917년 9월 4일'"
      ]
     },
     "execution_count": 14,
     "metadata": {},
     "output_type": "execute_result"
    }
   ],
   "source": [
    "# 시퀀스의 요소를 꺼내 함수에 전달하기\n",
    "\n",
    "date = (1917, 9, 4)\n",
    "date_to_string(date[0], date[1], date[2])"
   ]
  },
  {
   "cell_type": "code",
   "execution_count": 15,
   "metadata": {},
   "outputs": [
    {
     "data": {
      "text/plain": [
       "'1917년 9월 4일'"
      ]
     },
     "execution_count": 15,
     "metadata": {},
     "output_type": "execute_result"
    }
   ],
   "source": [
    "# 시퀀스를 풀어 함수 매개변수에 전달하기\n",
    "\n",
    "date_to_string(*date)  # ❶"
   ]
  },
  {
   "cell_type": "code",
   "execution_count": 16,
   "metadata": {},
   "outputs": [
    {
     "data": {
      "text/plain": [
       "'2001년 12월 31일'"
      ]
     },
     "execution_count": 16,
     "metadata": {},
     "output_type": "execute_result"
    }
   ],
   "source": [
    "date_to_string(*[2001, 12, 31])  # ❷"
   ]
  },
  {
   "cell_type": "code",
   "execution_count": 17,
   "metadata": {},
   "outputs": [
    {
     "data": {
      "text/plain": [
       "'2017년 9월 17일'"
      ]
     },
     "execution_count": 17,
     "metadata": {},
     "output_type": "execute_result"
    }
   ],
   "source": [
    "date_to_string(2017, *(9, 17))  # ❸"
   ]
  },
  {
   "cell_type": "markdown",
   "metadata": {},
   "source": [
    " - 함수를 호출할 때 ❶과 같이 함수에 전달할 시퀀스 앞에 별 기호를 붙이면 시퀀스의 요소를 풀어 전달할 수 있음\n",
    " \n",
    " - ❷처럼 변수에 대입하지 않은 시퀀스에도 적용이 가능\n",
    " \n",
    " - ❸과 같이 일부 매개변수에 다른 값을 전달한 뒤 남은 매개변수에 부분적으로 적용하는 것도 가능"
   ]
  },
  {
   "cell_type": "markdown",
   "metadata": {},
   "source": [
    "### 함수에서 임의의 개수의 데이터를 전달받기\n",
    "\n",
    " - 시퀀스를 풀어 매개변수에 할당하는 것과 반대로, 여러 개의 데이터를 시퀀스로 묶어 하나의 매개변수에 전달받을 수 있음\n",
    " \n",
    " - 여러 개의 데이터를 콤마로 구분해 전달받는 print() 함수가 이 기법을 활용하는 한 예로 볼 수 있음"
   ]
  },
  {
   "cell_type": "code",
   "execution_count": 18,
   "metadata": {},
   "outputs": [],
   "source": [
    "# 여러 개의 데이터를 시퀀스로 묶어 전달받기\n",
    "\n",
    "def mean(*args):  # ❶\n",
    "    \"\"\"여러 개의 수를 전달받아 산술평균을 계산한다.\"\"\"\n",
    "    return sum(args) / len(args)"
   ]
  },
  {
   "cell_type": "code",
   "execution_count": 19,
   "metadata": {},
   "outputs": [
    {
     "data": {
      "text/plain": [
       "1.0"
      ]
     },
     "execution_count": 19,
     "metadata": {},
     "output_type": "execute_result"
    }
   ],
   "source": [
    "mean(1)"
   ]
  },
  {
   "cell_type": "code",
   "execution_count": 20,
   "metadata": {},
   "outputs": [
    {
     "data": {
      "text/plain": [
       "3.0"
      ]
     },
     "execution_count": 20,
     "metadata": {},
     "output_type": "execute_result"
    }
   ],
   "source": [
    "mean(1, 2, 3, 4, 5)"
   ]
  },
  {
   "cell_type": "code",
   "execution_count": 24,
   "metadata": {},
   "outputs": [
    {
     "data": {
      "text/plain": [
       "3.0"
      ]
     },
     "execution_count": 24,
     "metadata": {},
     "output_type": "execute_result"
    }
   ],
   "source": [
    "numbers = 1, 2, 3, 4, 5                      # tuple 정의\n",
    "mean(numbers[0], numbers[1], numbers[2], numbers[3], numbers[4])  # ❶"
   ]
  },
  {
   "cell_type": "code",
   "execution_count": 25,
   "metadata": {},
   "outputs": [
    {
     "data": {
      "text/plain": [
       "3.0"
      ]
     },
     "execution_count": 25,
     "metadata": {},
     "output_type": "execute_result"
    }
   ],
   "source": [
    "mean(*numbers)  # ❷"
   ]
  },
  {
   "cell_type": "markdown",
   "metadata": {},
   "source": [
    " - ❶ mean() 함수에 numbers 튜플의 요소를 모두 전달하려면 시퀀스의 요소를 모두 나열해야 함\n",
    " \n",
    " - ❷ 조금전 배운 시퀀스 언패킹을 활용하면 간편"
   ]
  },
  {
   "cell_type": "markdown",
   "metadata": {},
   "source": [
    "### 필수 매개변수와 나머지 매개변수 정의"
   ]
  },
  {
   "cell_type": "code",
   "execution_count": 26,
   "metadata": {},
   "outputs": [],
   "source": [
    "# 필수 매개변수와 나머지 매개변수 정의하기\n",
    "\n",
    "def 가격계산(할인율, *구매가_목록):\n",
    "    \"\"\"구매가 목록을 합산하고 할인율을 반영해 가격을 계산한다.\"\"\"\n",
    "    return (1 - 할인율) * sum(구매가_목록)"
   ]
  },
  {
   "cell_type": "code",
   "execution_count": 27,
   "metadata": {},
   "outputs": [
    {
     "data": {
      "text/plain": [
       "75.0"
      ]
     },
     "execution_count": 27,
     "metadata": {},
     "output_type": "execute_result"
    }
   ],
   "source": [
    "가격계산(0.25, 100)"
   ]
  },
  {
   "cell_type": "code",
   "execution_count": 28,
   "metadata": {},
   "outputs": [
    {
     "data": {
      "text/plain": [
       "900.0"
      ]
     },
     "execution_count": 28,
     "metadata": {},
     "output_type": "execute_result"
    }
   ],
   "source": [
    "가격계산(0.25, 100, 200, 300, 400, 200)"
   ]
  },
  {
   "cell_type": "markdown",
   "metadata": {},
   "source": [
    "#### 연습문제 : 가장 큰 차이\n",
    "\n",
    " - 함수 gap()을 정의하라\n",
    " \n",
    " - 이 함수는 여러 개의 수를 전달받아, 인자 중 가장 큰 수와 가장 작은 수의 차이를 반환한다\n",
    " \n",
    " - 이 함수를 정의한 뒤 다음과 같이 테스트해 보아라.\n",
    "\n",
    "```\n",
    ">>> gap(100)\n",
    "0\n",
    "\n",
    ">>> gap(10, 20, 30, 40)\n",
    "30\n",
    "\n",
    ">>> ages = [19, 16, 24, 19, 23]\n",
    ">>> gap(*ages)\n",
    "8\n",
    "```"
   ]
  },
  {
   "cell_type": "code",
   "execution_count": 1,
   "metadata": {},
   "outputs": [
    {
     "name": "stdout",
     "output_type": "stream",
     "text": [
      "0\n",
      "30\n",
      "8\n"
     ]
    }
   ],
   "source": [
    "def gap(*num):\n",
    "    return (max(num) - min(num))\n",
    "\n",
    "print(gap(100))\n",
    "print(gap(10, 20, 30, 40))\n",
    "ages = [19, 16, 24, 19, 23]\n",
    "print(gap(*ages))"
   ]
  },
  {
   "cell_type": "markdown",
   "metadata": {},
   "source": [
    "### 함수의 매개변수와 매핑 패킹·언패킹\n",
    "\n",
    " - 함수를 호출할 때, 매핑에 담긴 데이터도 풀어 매개변수에 분배할 수 있음"
   ]
  },
  {
   "cell_type": "code",
   "execution_count": 29,
   "metadata": {},
   "outputs": [
    {
     "data": {
      "text/plain": [
       "'1917년 9월 4일'"
      ]
     },
     "execution_count": 29,
     "metadata": {},
     "output_type": "execute_result"
    }
   ],
   "source": [
    "# 매핑의 요소를 꺼내 함수에 전달하기\n",
    "\n",
    "date = {'y': 1917, 'm': 9, 'd': 4}\n",
    "date_to_string(date['y'], date['m'], date['d'])"
   ]
  },
  {
   "cell_type": "markdown",
   "metadata": {},
   "source": [
    " - 위의 예에서 매핑의 키(h, m, s)와 함수의 매개변수(h, m, s)가 이름이 서로 같음\n",
    " \n",
    " - 데이터를 풀어 이름이 같은 짝에 전달되도록 할 수 있음\n",
    " \n",
    " - 시퀀스를 풀때 별 기호(`*`)를 사용하는 것과 유사하게, 매핑은 별 기호 두 개(`**`)를 표기하여 언패킹을 할 수 있음"
   ]
  },
  {
   "cell_type": "code",
   "execution_count": 30,
   "metadata": {},
   "outputs": [
    {
     "data": {
      "text/plain": [
       "'1917년 9월 4일'"
      ]
     },
     "execution_count": 30,
     "metadata": {},
     "output_type": "execute_result"
    }
   ],
   "source": [
    "# 매핑을 풀어 함수 매개변수에 전달하기\n",
    "\n",
    "date_to_string(**date)"
   ]
  },
  {
   "cell_type": "markdown",
   "metadata": {},
   "source": [
    "### 함수에서 다양한 이름의 데이터를 전달받기\n",
    "\n",
    " - 매핑을 풀어 함수의 매개변수에 할당하는 것과 반대로, 함수에 전달된 데이터를 하나의 매핑으로 묶어 전달받을 수도 있음\n",
    " \n",
    " - 함수를 호출할 때 date_to_string(y=1917, m=10, d=26)과 같이 값을 전달할 매개변수를 지정할 수 있음\n",
    " \n",
    " - 단, 값을 전달받을 매개변수가 함수에 정의되어 있어야 함 --> 그렇지 않으면 오류가 발생"
   ]
  },
  {
   "cell_type": "code",
   "execution_count": 31,
   "metadata": {},
   "outputs": [
    {
     "data": {
      "text/plain": [
       "'1917년 10월 26일'"
      ]
     },
     "execution_count": 31,
     "metadata": {},
     "output_type": "execute_result"
    }
   ],
   "source": [
    "date_to_string(y=1917, m=10, d=26)"
   ]
  },
  {
   "cell_type": "code",
   "execution_count": 32,
   "metadata": {},
   "outputs": [
    {
     "ename": "TypeError",
     "evalue": "date_to_string() got an unexpected keyword argument 'h'",
     "output_type": "error",
     "traceback": [
      "\u001b[1;31m---------------------------------------------------------------------------\u001b[0m",
      "\u001b[1;31mTypeError\u001b[0m                                 Traceback (most recent call last)",
      "\u001b[1;32m<ipython-input-32-006904692fb5>\u001b[0m in \u001b[0;36m<module>\u001b[1;34m\u001b[0m\n\u001b[1;32m----> 1\u001b[1;33m \u001b[0mdate_to_string\u001b[0m\u001b[1;33m(\u001b[0m\u001b[0my\u001b[0m\u001b[1;33m=\u001b[0m\u001b[1;36m1917\u001b[0m\u001b[1;33m,\u001b[0m \u001b[0mm\u001b[0m\u001b[1;33m=\u001b[0m\u001b[1;36m10\u001b[0m\u001b[1;33m,\u001b[0m \u001b[0md\u001b[0m\u001b[1;33m=\u001b[0m\u001b[1;36m26\u001b[0m\u001b[1;33m,\u001b[0m \u001b[0mh\u001b[0m\u001b[1;33m=\u001b[0m\u001b[1;36m3\u001b[0m\u001b[1;33m)\u001b[0m\u001b[1;33m\u001b[0m\u001b[1;33m\u001b[0m\u001b[0m\n\u001b[0m",
      "\u001b[1;31mTypeError\u001b[0m: date_to_string() got an unexpected keyword argument 'h'"
     ]
    }
   ],
   "source": [
    "date_to_string(y=1917, m=10, d=26, h=3)"
   ]
  },
  {
   "cell_type": "markdown",
   "metadata": {},
   "source": [
    " - 함수에 정의되지 않은 이름을 향해 전달된 데이터도 전달받고자 할 때 --> 매핑으로 묶어 전달받으면 됨"
   ]
  },
  {
   "cell_type": "code",
   "execution_count": 47,
   "metadata": {},
   "outputs": [],
   "source": [
    "# 매개변수 목록에 정의되지 않은 데이터를 매핑으로 묶어 전달받기\n",
    "\n",
    "def date_to_string(y, m, d, **kwargs):  # ❶\n",
    "    \"\"\"날짜를 입력받아 문자열로 반환한다.\"\"\"\n",
    "    date_string = str(y) + '년 ' + str(m) + '월 ' + str(d) + '일'\n",
    "    \n",
    "    # 시(h) 매개변수가 전달된 경우 문자열에 덧붙인다\n",
    "    date_string += ' ' + str(kwargs.get('h')) + '시'  # ❷\n",
    "    \n",
    "    return date_string "
   ]
  },
  {
   "cell_type": "code",
   "execution_count": 48,
   "metadata": {},
   "outputs": [
    {
     "data": {
      "text/plain": [
       "'1917년 10월 26일 2시'"
      ]
     },
     "execution_count": 48,
     "metadata": {},
     "output_type": "execute_result"
    }
   ],
   "source": [
    "date_to_string(1917, 10, 26, h=2)  # ❸"
   ]
  },
  {
   "cell_type": "code",
   "execution_count": 49,
   "metadata": {},
   "outputs": [
    {
     "data": {
      "text/plain": [
       "'1917년 10월 26일 None시'"
      ]
     },
     "execution_count": 49,
     "metadata": {},
     "output_type": "execute_result"
    }
   ],
   "source": [
    "date_to_string(1917, 10, 26)       # ❹"
   ]
  },
  {
   "cell_type": "markdown",
   "metadata": {},
   "source": [
    " - ❶ `**kwargs`와 같이 별 기호를 두 개 붙여 매핑 패킹 매개변수를 정의할 수 있음\n",
    " \n",
    " - 매핑으로 묶은 데이터를 전달받았으면, ❷ 키로 값을 꺼내 사용할 수 있음\n",
    " \n",
    " - 함수를 호출할 때는 ❸ h 매개변수에 인자를 지정하여 호출할 수도 있고, ❹ 생략하여 호출할 수도 있음"
   ]
  },
  {
   "cell_type": "markdown",
   "metadata": {},
   "source": [
    "#### 연습 문제 : 문자열 연결\n",
    "\n",
    " - 여러 개의 문자열을 연결해 반환하는 함수 concatenate()를 정의하라\n",
    " \n",
    " - 이 함수는 seperator라는 이름으로 구분자 문자열을 전달받을 수 있음\n",
    " \n",
    " - 문자열을 연결할 때 구분자를 각 문자열 사이에 끼워넣어 반환한다\n",
    " \n",
    " - 예를 들면 다음과 같이 실행되어야 한다\n",
    "\n",
    " ```\n",
    " >>> concatenate('가난하다고', '해서', '외로움을', '모르겠는가', seperator='/')\n",
    " 가난하다고/해서/외로움을/모르겠는가\n",
    "\n",
    " >>> concatenate(*'월화수목금토일', seperator=' - ')\n",
    " '월 - 화 - 수 - 목 - 금 - 토 - 일'\n",
    "\n",
    " ```\n",
    "\n",
    " - 힌트: 5.2절에서 소개한 join() 메서드를 활용하자."
   ]
  },
  {
   "cell_type": "code",
   "execution_count": 4,
   "metadata": {},
   "outputs": [
    {
     "name": "stdout",
     "output_type": "stream",
     "text": [
      "가난하다고/해서/외로움을/모르겠는가\n",
      "월 - 화 - 수 - 목 - 금 - 토 - 일\n"
     ]
    }
   ],
   "source": [
    "def concatenate(*char, seperator):\n",
    "    return seperator.join(char)\n",
    "\n",
    "print(concatenate('가난하다고', '해서', '외로움을', '모르겠는가', seperator='/'))\n",
    "\n",
    "print(concatenate(*'월화수목금토일', seperator=' - '))"
   ]
  },
  {
   "cell_type": "code",
   "execution_count": null,
   "metadata": {},
   "outputs": [],
   "source": []
  }
 ],
 "metadata": {
  "kernelspec": {
   "display_name": "Python 3",
   "language": "python",
   "name": "python3"
  },
  "language_info": {
   "codemirror_mode": {
    "name": "ipython",
    "version": 3
   },
   "file_extension": ".py",
   "mimetype": "text/x-python",
   "name": "python",
   "nbconvert_exporter": "python",
   "pygments_lexer": "ipython3",
   "version": "3.6.8"
  }
 },
 "nbformat": 4,
 "nbformat_minor": 2
}
