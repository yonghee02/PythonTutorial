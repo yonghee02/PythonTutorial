{
 "cells": [
  {
   "cell_type": "markdown",
   "metadata": {},
   "source": [
    "### mapping 매핑\n",
    "\n",
    " - 매핑(mapping)은 키(key) 역할을 하는 데이터와 값(value) 역할을 하는 데이터를 하나씩 짝지어 저장하는 데이터 구조\n",
    " \n",
    " - **키는 저장된 데이터를 구별하고 가리키는 데 쓰임**\n",
    " \n",
    " - **값은 그 키와 연결되어 저장된 데이터가 됨**\n",
    " \n",
    " - 시퀀스와 비교할 때 가장 큰 차이는 저장된 데이터를 가리킬 때 순서가 아니라 키를 이용한다는 점\n",
    " \n",
    " - 데이터를 저장할 때 순서보다 좀 더 의미 있는 식별 방법이 필요하다면 매핑을 사용하는 것이 좋음\n",
    " \n",
    " - 예시\n",
    " \n",
    " > - 아메리카노: 2500, 카페 라테: 3000, 딸기 주스: 3500\n",
    " >\n",
    " > - cat: 고양이, hammer: 망치, rainbow: 무지개, book: 책"
   ]
  },
  {
   "cell_type": "markdown",
   "metadata": {},
   "source": [
    " - 매핑 컬렉션으로는 dict 사전이 있음\n",
    " \n",
    " - 다른 이름으로는‘해시 맵(hash map)’ 또는 ‘해시 태이블(hash table)’라고도 쓰임 in 다른 프로그래밍 언어\n",
    " \n",
    " - dict 사전의 정의는 아래와 같음\n",
    " \n",
    " ```\n",
    " {\n",
    "     키1: 값1,\n",
    "     키2: 값2,\n",
    "     키3: 값3,\n",
    "     ... \n",
    " }\n",
    " ```"
   ]
  },
  {
   "cell_type": "code",
   "execution_count": 2,
   "metadata": {},
   "outputs": [
    {
     "data": {
      "text/plain": [
       "{'아메리카노': 2500, '카페 라테': 3000, '딸기 주스': 3000}"
      ]
     },
     "execution_count": 2,
     "metadata": {},
     "output_type": "execute_result"
    }
   ],
   "source": [
    "벤티 = {\n",
    "    '아메리카노': 2500,\n",
    "    '카페 라테': 3000,\n",
    "    '딸기 주스': 3000,\n",
    "}\n",
    "\n",
    "벤티"
   ]
  },
  {
   "cell_type": "markdown",
   "metadata": {},
   "source": [
    "### 매핑 연산과 메서드"
   ]
  },
  {
   "cell_type": "code",
   "execution_count": 4,
   "metadata": {},
   "outputs": [
    {
     "data": {
      "text/plain": [
       "{'cat': '고양이', 'hammer': '망치', 'rainbow': '무지개', 'book': '책'}"
      ]
     },
     "execution_count": 4,
     "metadata": {},
     "output_type": "execute_result"
    }
   ],
   "source": [
    "word_dict = {\n",
    "     'cat': '고양이',\n",
    "     'hammer': '망치',\n",
    "     'rainbow': '무지개',\n",
    "     'book': '책',\n",
    " }\n",
    "\n",
    "word_dict  # 사전 내용 확인"
   ]
  },
  {
   "cell_type": "code",
   "execution_count": 5,
   "metadata": {},
   "outputs": [
    {
     "data": {
      "text/plain": [
       "True"
      ]
     },
     "execution_count": 5,
     "metadata": {},
     "output_type": "execute_result"
    }
   ],
   "source": [
    "# 사전에 키가 있는지 검사\n",
    "\n",
    "'cat' in word_dict      # word_dict에 'cat' 키가 있는지 검사"
   ]
  },
  {
   "cell_type": "code",
   "execution_count": 6,
   "metadata": {},
   "outputs": [
    {
     "data": {
      "text/plain": [
       "True"
      ]
     },
     "execution_count": 6,
     "metadata": {},
     "output_type": "execute_result"
    }
   ],
   "source": [
    "'dog' not in word_dict  # word_dict에 'dog' 키가 없음을 검사"
   ]
  },
  {
   "cell_type": "code",
   "execution_count": 7,
   "metadata": {},
   "outputs": [
    {
     "data": {
      "text/plain": [
       "False"
      ]
     },
     "execution_count": 7,
     "metadata": {},
     "output_type": "execute_result"
    }
   ],
   "source": [
    "'망치' in word_dict     # ❶ word_dict에 '망치' 키가 있는지 검사"
   ]
  },
  {
   "cell_type": "code",
   "execution_count": 8,
   "metadata": {},
   "outputs": [
    {
     "data": {
      "text/plain": [
       "0"
      ]
     },
     "execution_count": 8,
     "metadata": {},
     "output_type": "execute_result"
    }
   ],
   "source": [
    "# 요소(키-값 쌍)의 개수 세기\n",
    "\n",
    "len({})         # 빈 사전의 키-값 쌍의 개수"
   ]
  },
  {
   "cell_type": "code",
   "execution_count": 9,
   "metadata": {},
   "outputs": [
    {
     "data": {
      "text/plain": [
       "4"
      ]
     },
     "execution_count": 9,
     "metadata": {},
     "output_type": "execute_result"
    }
   ],
   "source": [
    "len(word_dict)  # word_dict의 키-값 쌍의 개수"
   ]
  },
  {
   "cell_type": "code",
   "execution_count": 10,
   "metadata": {},
   "outputs": [
    {
     "data": {
      "text/plain": [
       "'고양이'"
      ]
     },
     "execution_count": 10,
     "metadata": {},
     "output_type": "execute_result"
    }
   ],
   "source": [
    "# 인덱싱 연산으로 키에 해당하는 값 구하기\n",
    "\n",
    "word_dict['cat']  # 사전에서 'cat' 키와 연결된 값 구하기"
   ]
  },
  {
   "cell_type": "code",
   "execution_count": 11,
   "metadata": {},
   "outputs": [
    {
     "ename": "KeyError",
     "evalue": "'dog'",
     "output_type": "error",
     "traceback": [
      "\u001b[1;31m---------------------------------------------------------------------------\u001b[0m",
      "\u001b[1;31mKeyError\u001b[0m                                  Traceback (most recent call last)",
      "\u001b[1;32m<ipython-input-11-cd139d3e39a1>\u001b[0m in \u001b[0;36m<module>\u001b[1;34m\u001b[0m\n\u001b[1;32m----> 1\u001b[1;33m \u001b[0mword_dict\u001b[0m\u001b[1;33m[\u001b[0m\u001b[1;34m'dog'\u001b[0m\u001b[1;33m]\u001b[0m  \u001b[1;31m# 오류: 사전에 없는 키\u001b[0m\u001b[1;33m\u001b[0m\u001b[1;33m\u001b[0m\u001b[0m\n\u001b[0m",
      "\u001b[1;31mKeyError\u001b[0m: 'dog'"
     ]
    }
   ],
   "source": [
    "word_dict['dog']  # 오류: 사전에 없는 키"
   ]
  },
  {
   "cell_type": "code",
   "execution_count": 12,
   "metadata": {},
   "outputs": [
    {
     "data": {
      "text/plain": [
       "'고양이'"
      ]
     },
     "execution_count": 12,
     "metadata": {},
     "output_type": "execute_result"
    }
   ],
   "source": [
    "# get() 메서드로 값 구하기 ... [] 사용으로 인한 에러를 피하기!\n",
    "\n",
    "word_dict.get('cat')          # 키가 있을 경우"
   ]
  },
  {
   "cell_type": "code",
   "execution_count": 13,
   "metadata": {},
   "outputs": [],
   "source": [
    "word_dict.get('dog')          # 키가 없을 경우 None 반환"
   ]
  },
  {
   "cell_type": "code",
   "execution_count": 14,
   "metadata": {},
   "outputs": [
    {
     "data": {
      "text/plain": [
       "'동물'"
      ]
     },
     "execution_count": 14,
     "metadata": {},
     "output_type": "execute_result"
    }
   ],
   "source": [
    "word_dict.get('dog', '동물')  # 키가 없을 경우 반환할 기본값 지정"
   ]
  },
  {
   "cell_type": "code",
   "execution_count": 15,
   "metadata": {},
   "outputs": [
    {
     "data": {
      "text/plain": [
       "{'cat': '고양이', 'hammer': '망치', 'rainbow': '무지개', 'book': '책', 'moon': '달'}"
      ]
     },
     "execution_count": 15,
     "metadata": {},
     "output_type": "execute_result"
    }
   ],
   "source": [
    "# 요소 추가 / 값 수정하기\n",
    "\n",
    "word_dict['moon'] = '달'     # 새로운 키-값 쌍 추가\n",
    "word_dict"
   ]
  },
  {
   "cell_type": "code",
   "execution_count": 16,
   "metadata": {},
   "outputs": [
    {
     "data": {
      "text/plain": [
       "{'cat': '야옹이', 'hammer': '망치', 'rainbow': '무지개', 'book': '책', 'moon': '달'}"
      ]
     },
     "execution_count": 16,
     "metadata": {},
     "output_type": "execute_result"
    }
   ],
   "source": [
    "# 이미 존재하는 키에 값을 대입하면?\n",
    "\n",
    "word_dict['cat'] = '야옹이'  # 이미 존재하는 키에 새로운 값을 대입\n",
    "word_dict                    # 내용을 확인해보면..."
   ]
  },
  {
   "cell_type": "code",
   "execution_count": 17,
   "metadata": {},
   "outputs": [
    {
     "data": {
      "text/plain": [
       "{'cat': '야옹이', 'rainbow': '무지개', 'book': '책', 'moon': '달'}"
      ]
     },
     "execution_count": 17,
     "metadata": {},
     "output_type": "execute_result"
    }
   ],
   "source": [
    "# 요소(키-값 쌍) 삭제하기\n",
    "\n",
    "del word_dict['hammer']   # 'hammer' 키를 삭제\n",
    "word_dict "
   ]
  },
  {
   "cell_type": "code",
   "execution_count": 18,
   "metadata": {},
   "outputs": [
    {
     "data": {
      "text/plain": [
       "{}"
      ]
     },
     "execution_count": 18,
     "metadata": {},
     "output_type": "execute_result"
    }
   ],
   "source": [
    "# 모든 키 삭제하기\n",
    "\n",
    "word_dict.clear()   # 모든 키를 삭제\n",
    "word_dict "
   ]
  },
  {
   "cell_type": "markdown",
   "metadata": {},
   "source": [
    "### 시퀀스들을 서로 매핑하여 사전을 만들어보자\n",
    "\n",
    " - 음료의 이름과 가격은 따라다녀야 함\n",
    " \n",
    " - 사람과 전화번호도 따라다녀야 함\n",
    " \n",
    " - 이전에 보았던 리스트를 사전으로 만들려면?"
   ]
  },
  {
   "cell_type": "code",
   "execution_count": 19,
   "metadata": {},
   "outputs": [],
   "source": [
    "price_list = [2500, 3000, 3000]\n",
    "drink_list = ['아메리카노', '카페 라테', '딸기 주스']"
   ]
  },
  {
   "cell_type": "code",
   "execution_count": 20,
   "metadata": {},
   "outputs": [
    {
     "data": {
      "text/plain": [
       "{'아메리카노': 2500, '카페 라테': 3000, '딸기 주스': 3000}"
      ]
     },
     "execution_count": 20,
     "metadata": {},
     "output_type": "execute_result"
    }
   ],
   "source": [
    "menu_dict = dict(zip(drink_list, price_list))\n",
    "menu_dict"
   ]
  },
  {
   "cell_type": "code",
   "execution_count": 21,
   "metadata": {},
   "outputs": [
    {
     "data": {
      "text/plain": [
       "dict_keys(['아메리카노', '카페 라테', '딸기 주스'])"
      ]
     },
     "execution_count": 21,
     "metadata": {},
     "output_type": "execute_result"
    }
   ],
   "source": [
    "menu_dict.keys()   # 사전의 키 시퀀스"
   ]
  },
  {
   "cell_type": "code",
   "execution_count": 22,
   "metadata": {},
   "outputs": [
    {
     "data": {
      "text/plain": [
       "dict_values([2500, 3000, 3000])"
      ]
     },
     "execution_count": 22,
     "metadata": {},
     "output_type": "execute_result"
    }
   ],
   "source": [
    "menu_dict.values()   # 사전의 값 시퀀스"
   ]
  },
  {
   "cell_type": "code",
   "execution_count": 23,
   "metadata": {},
   "outputs": [
    {
     "data": {
      "text/plain": [
       "dict_items([('아메리카노', 2500), ('카페 라테', 3000), ('딸기 주스', 3000)])"
      ]
     },
     "execution_count": 23,
     "metadata": {},
     "output_type": "execute_result"
    }
   ],
   "source": [
    "menu_dict.items()  # 사전의 키-값 쌍 시퀀스"
   ]
  },
  {
   "cell_type": "code",
   "execution_count": 24,
   "metadata": {},
   "outputs": [],
   "source": [
    "contact_list = []  # 연락처를 담는 리스트\n",
    "contact_list.append({'name': '박연오', 'phone': '01012345678'})  # 새 연락처 추가\n",
    "contact_list.append({'name': '이진수', 'phone': '01011001010'})  # 새 연락처 추가"
   ]
  },
  {
   "cell_type": "code",
   "execution_count": 25,
   "metadata": {},
   "outputs": [
    {
     "data": {
      "text/plain": [
       "{'name': '박연오', 'phone': '01012345678'}"
      ]
     },
     "execution_count": 25,
     "metadata": {},
     "output_type": "execute_result"
    }
   ],
   "source": [
    "contact_list[0]    # 첫 번째 연락처 확인"
   ]
  },
  {
   "cell_type": "code",
   "execution_count": 26,
   "metadata": {},
   "outputs": [
    {
     "data": {
      "text/plain": [
       "'박연오'"
      ]
     },
     "execution_count": 26,
     "metadata": {},
     "output_type": "execute_result"
    }
   ],
   "source": [
    "contact_list[0]['name']  # 첫 번째 연락처의 이름 확인"
   ]
  },
  {
   "cell_type": "code",
   "execution_count": null,
   "metadata": {},
   "outputs": [],
   "source": []
  }
 ],
 "metadata": {
  "kernelspec": {
   "display_name": "Python 3",
   "language": "python",
   "name": "python3"
  },
  "language_info": {
   "codemirror_mode": {
    "name": "ipython",
    "version": 3
   },
   "file_extension": ".py",
   "mimetype": "text/x-python",
   "name": "python",
   "nbconvert_exporter": "python",
   "pygments_lexer": "ipython3",
   "version": "3.6.8"
  }
 },
 "nbformat": 4,
 "nbformat_minor": 2
}
