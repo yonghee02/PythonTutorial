{
 "cells": [
  {
   "cell_type": "markdown",
   "metadata": {},
   "source": [
    "### if 문\n",
    "\n",
    " - 여러 선택지 중 하나를 고르는 문장을 생각해보자\n",
    " \n",
    " > 1. 집에서 프로그램을 만들자.\n",
    " > \n",
    " > 2. 공원에서 스케이트보드를 타자.\n",
    " \n",
    " - 아래와 같이 조건이 추가된다면 어떤 일을 할지 결정할 수 있다\n",
    " \n",
    " > 1. 비가 오면, 집에서 프로그램을 만들자.\n",
    " > \n",
    " > 2. 비가 오지 않으면, 공원에서 스케이트보드를 타자.\n",
    " \n",
    " - 여러 선택지에 조건이 되고 어떤 조건을 만족하면 그것을 선택한다 (프로그래밍에서는 관련된 코드가 실행)\n",
    " \n",
    " - **코드에 흐름을 추가하는 부분에서 매우 중요**\n",
    " \n",
    " - 프로그래밍의 절반 이상을 차지(?)\n",
    " \n",
    " - 아래와 같이 실행\n",
    " \n",
    " ```\n",
    " if 조건:   # ❶ 첫 행 \n",
    "       본문   # ❷ 조건이 참일 때 실행할 코드 블록\n",
    " ```\n",
    " \n",
    " - ❶ 첫 행 : 조건 및 상황이 적혀있음\n",
    " \n",
    " - ❷ 조건이 참일 때 실행할 코드 블록 : ❶이 true이면 이것이 선택되어 실행된다"
   ]
  },
  {
   "cell_type": "code",
   "execution_count": 2,
   "metadata": {},
   "outputs": [
    {
     "name": "stdout",
     "output_type": "stream",
     "text": [
      "집에서 프로그램을 만들자.\n"
     ]
    }
   ],
   "source": [
    "날씨 = '비'\n",
    "\n",
    "if 날씨 == '비':\n",
    "    print('집에서 프로그램을 만들자.')"
   ]
  },
  {
   "cell_type": "code",
   "execution_count": 3,
   "metadata": {},
   "outputs": [
    {
     "name": "stdout",
     "output_type": "stream",
     "text": [
      "일요일 낮의 날씨를 입력해주세요:\n",
      "천둥번개\n",
      "공원에서 스케이트보드를 타자.\n"
     ]
    }
   ],
   "source": [
    "print('일요일 낮의 날씨를 입력해주세요:')\n",
    "날씨 = input()  # ❶\n",
    "\n",
    "if 날씨 == '비':  # ❷\n",
    "    print('집에서 프로그램을 만들자.')\n",
    "\n",
    "if 날씨 != '비':  # ❸\n",
    "    print('공원에서 스케이트보드를 타자.')"
   ]
  },
  {
   "cell_type": "markdown",
   "metadata": {},
   "source": [
    " - **선택의 조건은 여러 가능성이 있을 때 의미가 있음**\n",
    " \n",
    " - 아래의 예시를 보자\n",
    " \n",
    " > 1. 조건이 항상 참일 때: if 문의 본문이 항상 실행된다. if 문 없이 코드 본문을 작성하면 된다.\n",
    " >\n",
    " > 2. 조건이 항상 거짓일 때: if 문의 본문이 절대 실행되지 않는다. 코드를 작성할 필요가 없다.\n",
    " >\n",
    " > 3. 선택지가 하나뿐일 때: 조건을 따지지 않고 실행해야 할 코드다. if 문 없이 코드 본문을 작성하면 된다.\n",
    " >\n",
    " > ex) 10 < x and x < 5 ... 변수 x에 어떤 값이 대입되든지 항상 거짓이 되는 조건\n",
    " \n",
    " - 그림과 도표를 잘 그리자!! --> 내가 무엇을 하려고 하는지? (정확한 목적이 필요)"
   ]
  },
  {
   "cell_type": "code",
   "execution_count": 4,
   "metadata": {},
   "outputs": [
    {
     "name": "stdout",
     "output_type": "stream",
     "text": [
      "10의 절대값: 10\n",
      "-5의 절대값: 5\n"
     ]
    }
   ],
   "source": [
    "def 절대값(n):\n",
    "    \"\"\"수 n을 입력받아, 절대값을 반환한다.\"\"\"\n",
    "    if n >= 0:       # n이 0 이상이면 n을 반환한다\n",
    "        return n\n",
    "    if n < 0:        # n이 0 미만이면 -n을 반환한다\n",
    "        return -n\n",
    "\n",
    "print('10의 절대값:', 절대값(10))\n",
    "print('-5의 절대값:', 절대값(-5))"
   ]
  },
  {
   "cell_type": "markdown",
   "metadata": {},
   "source": [
    "### else:  그렇지 않다면\n",
    "\n",
    " - if는 조건이 True일 때만 본문의 내용을 실행\n",
    " \n",
    " - 조건이 false일 때 어떤 일을 하고 싶다면? --> else를 사용\n",
    " \n",
    " ```\n",
    " if 조건:\n",
    " \n",
    "     본문 1   # 조건이 참일 때 실행할 코드\n",
    " \n",
    " else:\n",
    " \n",
    "     본문 2   # 조건이 거짓일 때 실행할 코드\n",
    " ```\n",
    " \n",
    " - 서로 모순인 조건에 유용하다\n",
    " \n",
    " > 비가 온다(A) vs. 비가 오지 않는다(B)\n",
    " >\n",
    " > ... A가 맞다면 B가 가짜다 (그 반대도 마찬가지!)"
   ]
  },
  {
   "cell_type": "code",
   "execution_count": 5,
   "metadata": {},
   "outputs": [
    {
     "name": "stdout",
     "output_type": "stream",
     "text": [
      "일요일 낮의 날씨를 입력해주세요:\n",
      "비\n",
      "집에서 프로그램을 만들자.\n"
     ]
    }
   ],
   "source": [
    "print('일요일 낮의 날씨를 입력해주세요:')\n",
    "날씨 = input()\n",
    "\n",
    "if 날씨 == '비':\n",
    "    print('집에서 프로그램을 만들자.')\n",
    "else:  # ❶ 날씨 == '비'가 아닌 경우\n",
    "    print('공원에서 스케이트보드를 타자.')"
   ]
  },
  {
   "cell_type": "markdown",
   "metadata": {},
   "source": [
    "### pass 문: 코드 실행 생략하기\n",
    "\n",
    " - 파이썬에서는 아무것도하지 않고 다음 코드로 넘어가는 지시 명령이 있음 --> pass\n",
    " \n",
    " - if문과 else문과 같은 조건에서 사용할 수 있음"
   ]
  },
  {
   "cell_type": "code",
   "execution_count": 7,
   "metadata": {},
   "outputs": [],
   "source": [
    "if 날씨 == '비':\n",
    "    pass  # 조건이 참일 때는 아무 것도 실행하지 않는다\n",
    "else:\n",
    "    print('공원에서 스케이트보드를 타자.')"
   ]
  },
  {
   "cell_type": "markdown",
   "metadata": {},
   "source": [
    " - pass는 임시로 비워두기 위한 용도로도 사용\n",
    " \n",
    " > 코드 블록에서 본문에 아무 것도 적어두지 않으면 문법 오류가 발생\n",
    " >\n",
    " > --> def 문이나 if 문처럼 코드 블록을 본문으로 갖는 표현에서 본문을 비워 둘 때 사용"
   ]
  },
  {
   "cell_type": "markdown",
   "metadata": {},
   "source": [
    "### elif: 선택지가 여러 개일 때\n",
    "\n",
    " - 선택지 및 조건이 여러 개가 있다면? --> elif를 사용\n",
    " \n",
    " - 예시\n",
    " \n",
    " > 신호등이 빨간불이면...\n",
    " >\n",
    " > 신호등이 노란불이면...\n",
    " >\n",
    " > 신호등이 파란불이면..."
   ]
  },
  {
   "cell_type": "code",
   "execution_count": 8,
   "metadata": {},
   "outputs": [
    {
     "name": "stdout",
     "output_type": "stream",
     "text": [
      "일요일 낮의 기온을 입력해주세요:\n",
      "99999999999\n",
      "바닷가에서 더위를 피하자.\n"
     ]
    }
   ],
   "source": [
    "print('일요일 낮의 기온을 입력해주세요:')\n",
    "기온 = float(input())  # 입력받은 기온을 실수로 변환하자\n",
    "\n",
    "if 28.0 <= 기온:    # ❶ 첫 번째 선택지\n",
    "    print('바닷가에서 더위를 피하자.')\n",
    "\n",
    "elif 16.0 <= 기온:  # ❷ 위 조건이 거짓일 때 검사\n",
    "    print('공원에서 스케이트보드를 타자.')\n",
    "\n",
    "elif 8.0 <= 기온:   # ❸ 위 조건이 거짓일 때 검사\n",
    "    print('도서관에서 책을 읽자.')\n",
    "\n",
    "else:               # ❹ 모든 조건이 거짓일 때 실행\n",
    "    print('집에서 프로그램을 만들자.')"
   ]
  },
  {
   "cell_type": "markdown",
   "metadata": {},
   "source": [
    "### else와 elif없이 if만을 사용한다면???\n",
    "\n",
    " - if만 이용하여 여러 조건에 따른 선택지를 구현할 수 있다\n",
    " \n",
    " - 하지만... 아래를 보자"
   ]
  },
  {
   "cell_type": "code",
   "execution_count": 9,
   "metadata": {},
   "outputs": [
    {
     "name": "stdout",
     "output_type": "stream",
     "text": [
      "일요일 낮의 기온을 입력해주세요:\n",
      "17\n",
      "공원에서 스케이트보드를 타자.\n",
      "도서관에서 책을 읽자.\n"
     ]
    }
   ],
   "source": [
    "print('일요일 낮의 기온을 입력해주세요:')\n",
    "기온 = float(input())  # 입력받은 기온을 실수로 변환하자\n",
    "\n",
    "if 28.0 <= 기온:\n",
    "    print('바닷가에서 더위를 피하자.')\n",
    "\n",
    "if 16.0 <= 기온:  # ❶ \n",
    "    print('공원에서 스케이트보드를 타자.')\n",
    "\n",
    "if 8.0 <= 기온:   # ❷\n",
    "    print('도서관에서 책을 읽자.')\n",
    "else:\n",
    "    print('집에서 프로그램을 만들자.')"
   ]
  },
  {
   "cell_type": "markdown",
   "metadata": {},
   "source": [
    " - 기온이 17.0이면 ❶의 조건도 만족하고 ❷의 조건도 만족하기 때문에 문제가 발생\n",
    " \n",
    " - 명확하게 조건에 따른 선택지를 주기 위해서는 else와 elif가 필수!"
   ]
  },
  {
   "cell_type": "markdown",
   "metadata": {},
   "source": [
    "### 여러 조건에 따른 하나의 선택지\n",
    "\n",
    " - 두 조건을 만족할 때 선택해야하는 일이 있을 수도 있다\n",
    " \n",
    " - 예를 들면...\n",
    " \n",
    " > 휴대폰 가격이 90만원 이내이고, 제품이 출시된지 1년이내이면 ... 폰을 사겠다"
   ]
  },
  {
   "cell_type": "code",
   "execution_count": 10,
   "metadata": {},
   "outputs": [],
   "source": [
    "if (날씨 == '맑음') and (요일 == '일요일'):\n",
    "    print('공원에서 스케이트보드를 타자.')"
   ]
  },
  {
   "cell_type": "markdown",
   "metadata": {},
   "source": [
    " - if만 사용해서 구현하면 길어진다 --> 코드를 읽기 불편"
   ]
  },
  {
   "cell_type": "code",
   "execution_count": 11,
   "metadata": {},
   "outputs": [],
   "source": [
    "if 날씨 == '맑음':\n",
    "    if 요일 == '일요일':\n",
    "        print('공원에서 스케이트보드를 타자.')"
   ]
  },
  {
   "cell_type": "code",
   "execution_count": 13,
   "metadata": {},
   "outputs": [
    {
     "name": "stdout",
     "output_type": "stream",
     "text": [
      "여유로운 시간을 보내자.\n"
     ]
    }
   ],
   "source": [
    "요일 = '토요일'\n",
    "\n",
    "if (요일 == '토요일') or (요일 == '일요일'):\n",
    "    print('여유로운 시간을 보내자.')"
   ]
  },
  {
   "cell_type": "markdown",
   "metadata": {},
   "source": [
    "### 조건부 식\n",
    "\n",
    " - 카페에서 월요일에만 카페 라테를 1,000 원에 판매하기로 했다면 월요일에만 음료 가격을 다르게 하면됨 --> 어떻게?\n",
    " \n",
    " - *조건부 식(conditional expression)* 은 조건에 따라 값을 구하는 식\n",
    " \n",
    " > 참값 if 조건 else 거짓값"
   ]
  },
  {
   "cell_type": "code",
   "execution_count": 14,
   "metadata": {},
   "outputs": [],
   "source": [
    "가격 = 1000 if 요일 == '월요일' else 2500"
   ]
  },
  {
   "cell_type": "markdown",
   "metadata": {},
   "source": [
    " - 조건부 식이 없다면 코드가 길어진다"
   ]
  },
  {
   "cell_type": "code",
   "execution_count": 15,
   "metadata": {},
   "outputs": [],
   "source": [
    "if 요일 == '월요일':\n",
    "    가격 = 1000  # ❶ if 문의 본문에 대입문이 하나 필요하고...\n",
    "else:\n",
    "    가격 = 2500  # ❷ else 절의 본문에도 대입문이 하나 필요하다|"
   ]
  },
  {
   "cell_type": "markdown",
   "metadata": {},
   "source": [
    "##### 연습문제 6-1 할인된 가격 계산\n",
    "\n",
    " - 어떤 상점에서는 상품을 한꺼번에 많이 구매하면 다음과 같이 상품 가격을 할인해 준다.\n",
    "\n",
    " > 10개 미만: 상품 하나에 100원\n",
    " > \n",
    " > 10개 이상 30개 미만: 상품 하나에 95원\n",
    " >\n",
    " > 30개 이상 100개 미만: 상품 하나에 90원\n",
    " >\n",
    " > 100개 이상: 상품 하나에 85원\n",
    "\n",
    " - 이 쇼핑몰에서 구매할 상품 개수를 입력받아, 총 지불해야 할 가격을 계산하는 함수 price()를 정의하라.\n",
    "\n",
    " - 함수를 정의한 후에는 이 함수에 여러 상품 개수를 입력하여 결과가 올바른지 확인해 보아라."
   ]
  },
  {
   "cell_type": "code",
   "execution_count": 16,
   "metadata": {},
   "outputs": [
    {
     "data": {
      "text/plain": [
       "4050"
      ]
     },
     "execution_count": 16,
     "metadata": {},
     "output_type": "execute_result"
    }
   ],
   "source": [
    "def price(number_of_product):\n",
    "    price_of_all_product = 0\n",
    "    price_of_each_product = 100\n",
    "    if(number_of_product < 10):\n",
    "        price_of_all_product = price_of_each_product * number_of_product\n",
    "    elif((number_of_product >= 10) and (number_of_product < 30)):\n",
    "        price_of_all_product = (price_of_each_product - 5) * number_of_product\n",
    "    elif((number_of_product >= 30) and (number_of_product < 100)):\n",
    "        price_of_all_product = (price_of_each_product - 10) * number_of_product\n",
    "    elif(number_of_product >= 100):\n",
    "        price_of_all_product = (price_of_each_product - 15) * number_of_product\n",
    "        \n",
    "    return price_of_all_product\n",
    "\n",
    "price(45)"
   ]
  },
  {
   "cell_type": "markdown",
   "metadata": {},
   "source": [
    "##### 연습문제 6-2 윤년 계산\n",
    "\n",
    " - 연을 매개변수로 입력받아 그 해가 윤년인지 아닌지를 True 또는 False로 반환하는 함수 is_leap_year()를 정의하라.\n",
    "\n",
    " - 윤년이란 1년이 365일이 아니라 366일로 이뤄진 해다. \n",
    " \n",
    " - 윤년에는 2월이 28일까지가 아니라 29일까지 있다. \n",
    " \n",
    " - 어떤 해가 윤년인지 아닌지를 판단하는 규칙은 다음과 같다.\n",
    "\n",
    " > 그 해의 수가 4로 나누어 떨어지면 윤년이다. (예: 1996년은 윤년이다)\n",
    " > \n",
    " > 단, 그 해의 수가 100로 나누어 떨어지면 윤년이 아니다. (예: 1900년은 윤년이 아니다.)\n",
    " >\n",
    " > 단, 그 해의 수가 400으로 나누어 떨어지면 윤년이다. (예: 2000년은 윤년이다.)"
   ]
  },
  {
   "cell_type": "code",
   "execution_count": 17,
   "metadata": {},
   "outputs": [
    {
     "name": "stdout",
     "output_type": "stream",
     "text": [
      "False\n",
      "True\n",
      "True\n"
     ]
    }
   ],
   "source": [
    "def is_leap_year(year):\n",
    "    if(year%4 == 0):\n",
    "        if(year % 100 == 0):\n",
    "            if(year % 400 == 0):\n",
    "                return True\n",
    "            return False\n",
    "        return True\n",
    "    \n",
    "print(is_leap_year(1900))\n",
    "print(is_leap_year(2000))\n",
    "print(is_leap_year(2020))"
   ]
  },
  {
   "cell_type": "markdown",
   "metadata": {},
   "source": [
    "##### 연습문제 6-3 한 달의 길이\n",
    "\n",
    " - 연과 월을 매개변수로 입력받아, 그 달이 며칠까지 있는지 반환하는 함수 days_in_month()를 작성하라. \n",
    " \n",
    " - 이 때, 2월의 길이는 윤년인지 아닌지에 따라 다르다. 윤년 계산을 위해 연습문제 6-2에서 만든 함수를 활용하라."
   ]
  },
  {
   "cell_type": "code",
   "execution_count": 18,
   "metadata": {},
   "outputs": [
    {
     "name": "stdout",
     "output_type": "stream",
     "text": [
      "28\n",
      "29\n",
      "31\n",
      "30\n"
     ]
    }
   ],
   "source": [
    "def days_in_month(year, month):\n",
    "    days = 0\n",
    "    \n",
    "    if(month <= 7):\n",
    "        if(month % 2 == 1):\n",
    "            days = 31\n",
    "        else:\n",
    "            if(month == 2):\n",
    "                if(is_leap_year(year)):\n",
    "                    days = 29\n",
    "                else:\n",
    "                    days = 28\n",
    "            else:\n",
    "                days = 30\n",
    "    elif((month > 7) and (month <= 12)):\n",
    "        if(month % 2 == 1):\n",
    "            days = 30\n",
    "        else:\n",
    "            days = 31\n",
    "    \n",
    "    return days\n",
    "\n",
    "print(days_in_month(2019, 2))\n",
    "print(days_in_month(2020, 2))\n",
    "print(days_in_month(2019, 12))\n",
    "print(days_in_month(2019, 11))"
   ]
  },
  {
   "cell_type": "markdown",
   "metadata": {},
   "source": [
    "##### 연습문제 6-4 비만도 검사\n",
    "\n",
    " - 사용자로부터 키와 몸무게를 입력받아 비만 정도를 알려주는 프로그램을 작성하라.\n",
    "\n",
    " - 비만도를 측정하는 방법:\n",
    "\n",
    " > 1. 체질량 지수를 구한다. --> 키가 t 미터, 체중이 w 킬로그램일 때, 체질량 지수는 w / (t * t) 다.\n",
    " > \n",
    " > 2. 1에서 구한 체질량 지수가 18.5 미만이면 저체중, 18.5 이상 23 미만이면 정상, 23 이상 25 미만이면 과체중, 25 이상이면 비만이다.\n",
    "\n",
    " - 실행 예:\n",
    "\n",
    " > 키를 입력하세요(m): 1.75\n",
    " >\n",
    " > 몸무게를 입력하세요(kg): 65\n",
    " >\n",
    " > 정상입니다.\n",
    "\n",
    " - 힌트: 문제를 필요한 만큼 여러 단계로 나누어, 여러 개의 함수를 정의하여 해결하자."
   ]
  },
  {
   "cell_type": "code",
   "execution_count": 13,
   "metadata": {},
   "outputs": [
    {
     "name": "stdout",
     "output_type": "stream",
     "text": [
      "키를 입력하세요(m): 1.75\n",
      "몸무게를 입력하세요(kg): 65\n",
      "정상입니다\n"
     ]
    }
   ],
   "source": [
    "def cal_body_mass_index(height, weight):\n",
    "    return weight / (height * height)\n",
    "\n",
    "def check_body_condition(BMI):\n",
    "    condition_text_kor = ' '\n",
    "    \n",
    "    if(BMI < 18.5):\n",
    "        condition_text_kor = '저체중'\n",
    "    elif((BMI >= 18.5) and (BMI < 23)):\n",
    "        condition_text_kor = '정상'\n",
    "    elif((BMI >= 23) and (BMI < 25)):\n",
    "        condition_text_kor = '과체중'\n",
    "    elif(BMI >= 25):\n",
    "        condition_text_kor = '비만'\n",
    "        \n",
    "    return condition_text_kor\n",
    "\n",
    "def check_your_BMI():\n",
    "    h = float(input(\"키를 입력하세요(m): \"))\n",
    "    w = float(input(\"몸무게를 입력하세요(kg): \"))\n",
    "    status = check_body_condition(cal_body_mass_index(h, w))\n",
    "    print(status + \"입니다\")\n",
    "    \n",
    "check_your_BMI()"
   ]
  },
  {
   "cell_type": "markdown",
   "metadata": {},
   "source": [
    "##### 연습문제 6-5 절대값\n",
    "\n",
    " - 절대값을 구하는 함수 absolute_number()를 if 문을 사용하지 않고 조건부 식을 활용해 작성하라. \n",
    "\n",
    " - abs() 함수를 사용해서는 안 된다."
   ]
  },
  {
   "cell_type": "code",
   "execution_count": 14,
   "metadata": {},
   "outputs": [
    {
     "name": "stdout",
     "output_type": "stream",
     "text": [
      "243\n",
      "23\n"
     ]
    }
   ],
   "source": [
    "def absolute_number(num):\n",
    "    return -num if num < 0  else num\n",
    "\n",
    "print(absolute_number(-243))\n",
    "print(absolute_number(23))"
   ]
  },
  {
   "cell_type": "code",
   "execution_count": null,
   "metadata": {},
   "outputs": [],
   "source": []
  }
 ],
 "metadata": {
  "kernelspec": {
   "display_name": "Python 3",
   "language": "python",
   "name": "python3"
  },
  "language_info": {
   "codemirror_mode": {
    "name": "ipython",
    "version": 3
   },
   "file_extension": ".py",
   "mimetype": "text/x-python",
   "name": "python",
   "nbconvert_exporter": "python",
   "pygments_lexer": "ipython3",
   "version": "3.6.8"
  }
 },
 "nbformat": 4,
 "nbformat_minor": 2
}
