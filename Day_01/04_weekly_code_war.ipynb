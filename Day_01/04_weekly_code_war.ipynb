{
 "cells": [
  {
   "cell_type": "markdown",
   "metadata": {},
   "source": [
    "### issue description\n",
    "\n",
    " - The goal of this exercise is to convert a string to a new string where each character in the new string is \"(\" if that character appears only once in the original string, or \")\" if that character appears more than once in the original string. \n",
    " - Ignore capitalization when determining if a character is a duplicate.\n",
    "\n",
    " - Examples\n",
    "  \n",
    " > \"din\"      =>  \"(((\"\n",
    " > \n",
    " > \"recede\"   =>  \"()()()\"\n",
    " > \n",
    " > \"Success\"  =>  \")())())\"\n",
    " > \n",
    " > \"(( @\"     =>  \"))((\" \n",
    "\n",
    "- Notes : Assertion messages may be unclear about what they display in some languages. If you read \"...It Should encode XXX\", the \"XXX\" is the expected result, not the input!"
   ]
  },
  {
   "cell_type": "code",
   "execution_count": null,
   "metadata": {},
   "outputs": [],
   "source": []
  },
  {
   "cell_type": "code",
   "execution_count": null,
   "metadata": {},
   "outputs": [],
   "source": []
  },
  {
   "cell_type": "code",
   "execution_count": null,
   "metadata": {},
   "outputs": [],
   "source": []
  },
  {
   "cell_type": "code",
   "execution_count": null,
   "metadata": {},
   "outputs": [],
   "source": []
  },
  {
   "cell_type": "markdown",
   "metadata": {},
   "source": [
    "#### 정답"
   ]
  },
  {
   "cell_type": "code",
   "execution_count": 1,
   "metadata": {},
   "outputs": [],
   "source": [
    "data_str1 = \"din\"\n",
    "data_str2 = \"recede\"\n",
    "data_str3 = \"Success\"\n",
    "data_str4 = \"(( @\""
   ]
  },
  {
   "cell_type": "code",
   "execution_count": 2,
   "metadata": {},
   "outputs": [],
   "source": [
    "def duplicate_encode(word):\n",
    "    \n",
    "    list_data_str = list(word)\n",
    "    count_duplicated_word = []\n",
    "    encoded_word_list = []\n",
    "    encoded_word = \"\"\n",
    "    \n",
    "    list_count = len(list_data_str)\n",
    "    \n",
    "    for i in range(list_count):\n",
    "        count_duplicated_word.append(0)\n",
    "    \n",
    "    for i in range(list_count):\n",
    "        for j in range(list_count):\n",
    "            # print(\"test \" + str(j))\n",
    "            # print(list_data_str[i].upper() + \" \" + list_data_str[j].upper())\n",
    "            if(list_data_str[i].upper() == list_data_str[j].upper()):\n",
    "                count_duplicated_word[i] = count_duplicated_word[i] + 1\n",
    "                \n",
    "    # print(count_duplicated_word)\n",
    "                \n",
    "    for i in range(list_count):\n",
    "        if(count_duplicated_word[i] >= 2):\n",
    "            encoded_word_list.append(')')\n",
    "        else:\n",
    "            encoded_word_list.append('(')\n",
    "    \n",
    "    # print(encoded_word_list)\n",
    "    \n",
    "    for i in range(list_count):\n",
    "        encoded_word += encoded_word_list[i]\n",
    "\n",
    "    return encoded_word"
   ]
  },
  {
   "cell_type": "code",
   "execution_count": 3,
   "metadata": {},
   "outputs": [],
   "source": [
    "r1 = duplicate_encode(data_str1)\n",
    "r2 = duplicate_encode(data_str2)\n",
    "r3 = duplicate_encode(data_str3)\n",
    "r4 = duplicate_encode(data_str4)"
   ]
  },
  {
   "cell_type": "markdown",
   "metadata": {},
   "source": [
    "#### 또 다른 정답"
   ]
  },
  {
   "cell_type": "code",
   "execution_count": 4,
   "metadata": {},
   "outputs": [],
   "source": [
    "def duplicate_encode(word):\n",
    "    return \"\".join([\"(\" if word.lower().count(c) == 1 else \")\" for c in word.lower()])"
   ]
  }
 ],
 "metadata": {
  "kernelspec": {
   "display_name": "Python 3",
   "language": "python",
   "name": "python3"
  },
  "language_info": {
   "codemirror_mode": {
    "name": "ipython",
    "version": 3
   },
   "file_extension": ".py",
   "mimetype": "text/x-python",
   "name": "python",
   "nbconvert_exporter": "python",
   "pygments_lexer": "ipython3",
   "version": "3.6.8"
  }
 },
 "nbformat": 4,
 "nbformat_minor": 2
}
