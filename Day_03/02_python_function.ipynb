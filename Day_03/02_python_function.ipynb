{
 "cells": [
  {
   "cell_type": "markdown",
   "metadata": {},
   "source": [
    "### python에서 함수를 정의하기\n",
    "\n",
    " - def 문을 사용\n",
    " \n",
    " - def는 ‘정의하다’라는 뜻의 영어 단어 define에서 앞 글자를 딴 것\n",
    " \n",
    " - 아래와 같이 사용\n",
    " \n",
    " ```\n",
    " def 함수이름():   # ❶ 첫 행, :을 사용\n",
    " \n",
    "     본문          # ❷ 함수를 호출했을 때 실행할 코드 블록, 4줄 띄어쓰기\n",
    " ```\n",
    " \n",
    " 1. def 예약어로 시작하는 첫 행에는 함수의 이름을 작성\n",
    " \n",
    " 2. 함수의 이름은 의미를 알 수 있게 작성 \n",
    " \n",
    " 3. 함수 이름 뒤에는 괄호와 :(콜론)을 붙임\n",
    "\n",
    " 4. 함수의 본문은 함수를 호출했을 때 실행할 파이썬 코드\n",
    " \n",
    " 5. 원하는 만큼 여러 행의 코드를 작성 가능\n",
    " \n",
    " 6. 각 행의 앞에 띄어쓰기를 네 번씩 해야 함 (들여쓰기)\n",
    " \n",
    " 7. 들여쓰기는 코드의 블록(구역)을 형성\n",
    " \n",
    " 8. 나란히 들여쓰기된 코드 블록은 하나의 def 문 안에 포함된 코드임\n",
    " \n",
    " 9. 들여쓰기가 끝나면, 그 함수의 정의가 끝"
   ]
  },
  {
   "cell_type": "code",
   "execution_count": 1,
   "metadata": {},
   "outputs": [],
   "source": [
    "def order():                             # 끝에 콜론(:)을 빠트리지 않도록 주의\n",
    "    print('주문하실 메뉴를 알려주세요')  # 이 블록은\n",
    "    menu = input()                       # 앞에서부터 네 칸씩\n",
    "    print(menu, '주문 완료!')            # 들여쓰기한다"
   ]
  },
  {
   "cell_type": "code",
   "execution_count": 2,
   "metadata": {},
   "outputs": [
    {
     "name": "stdout",
     "output_type": "stream",
     "text": [
      "주문하실 메뉴를 알려주세요\n",
      "커피\n",
      "커피 주문 완료!\n"
     ]
    }
   ],
   "source": [
    "order()                                  # 여기에는 들여쓰기 하지 않는다"
   ]
  },
  {
   "cell_type": "markdown",
   "metadata": {},
   "source": [
    "### 이 함수가 무슨 함수이냐...\n",
    "\n",
    " - 함수를 이름만으로 딱딱 맞추면 참 좋음 굿굿 아주 굿 베리 굿\n",
    " \n",
    " - 하지만 다양한 함수를 만들어 사용하는 경우 당연히 헷갈리고 기억하기도 어려움\n",
    " \n",
    " - docstring(독스트링)이라는 것을 사용하여 어떤 함수인지 내용을 작성이 가능\n",
    " \n",
    " - 아래와 같이 사용\n",
    " \n",
    " ```\n",
    " def 함수이름():\n",
    " \n",
    "     \"\"\"독스트링\"\"\"\n",
    " \n",
    "     본문\n",
    " ```"
   ]
  },
  {
   "cell_type": "code",
   "execution_count": 4,
   "metadata": {},
   "outputs": [],
   "source": [
    "def order():\n",
    "    \"\"\"\n",
    "    사용자로부터 \n",
    "    주문할 메뉴를 입력받아,\n",
    "    주문 사항을 \n",
    "    화면에 출력\n",
    "    \"\"\"\n",
    "    print('주문하실 메뉴를 알려주세요')\n",
    "    drink = input()\n",
    "    print(drink, '주문 완료!')"
   ]
  },
  {
   "cell_type": "markdown",
   "metadata": {},
   "source": [
    "### 매개변수를 사용하는 함수\n",
    "\n",
    " - 매개변수는 함수에 던져주는 재료와 같은 것\n",
    " \n",
    " - 냄비에 면과 물과 라면스프를 넣으면 라면이 되는 냄비()라는 함수\n",
    " \n",
    " - 이때 인자는 라면의 재료가 된다고 볼 수 있음\n",
    " \n",
    " - 있는 말로 정리하면 아래와 같음\n",
    " \n",
    " > 인자: 함수를 호출할 때 함수에 전달하는 데이터\n",
    " > \n",
    " > 매개변수: 함수에 전달된 데이터가 대입되는 변수\n",
    " > \n",
    " > 함수를 호출할 때, 인자·매개변수의 개수·순서가 서로 같아야 한다."
   ]
  },
  {
   "cell_type": "code",
   "execution_count": 7,
   "metadata": {},
   "outputs": [],
   "source": [
    "def print_price(num_ramen):                         # ❶ 매개변수(num_ramen) 정의\n",
    "    \"\"\"\n",
    "    라면의 개수(num_ramen)를 전달받아,\n",
    "    가격을 화면에 출력\n",
    "    \"\"\"\n",
    "    price_per_ramen = 2500                          # 한개당 가격\n",
    "    total_price = num_ramen * price_per_ramen       # ❷ num_ramen에 전달된 값 사용\n",
    "    print('라면', num_ramen, '개수:', total_price)  # ❸"
   ]
  },
  {
   "cell_type": "code",
   "execution_count": 9,
   "metadata": {},
   "outputs": [
    {
     "name": "stdout",
     "output_type": "stream",
     "text": [
      "라면 3 개수: 7500\n"
     ]
    }
   ],
   "source": [
    "print_price(3)                                      # ❹ 인자(3)를 전달하여 호출"
   ]
  },
  {
   "cell_type": "code",
   "execution_count": 10,
   "metadata": {},
   "outputs": [],
   "source": [
    "def print_order(drink, cake):            # ❶ 콤마(,)로 구분해 매개변수 여러 개 정의\n",
    "    \"\"\"음료(drink)와 케익을(cake)를 전달받아,\n",
    "    주문 내용을 화면에 출력한다.\"\"\"\n",
    "    print('음료:', drink, '/', '케익:', cake)"
   ]
  },
  {
   "cell_type": "code",
   "execution_count": 11,
   "metadata": {},
   "outputs": [
    {
     "name": "stdout",
     "output_type": "stream",
     "text": [
      "음료: 카페라테 / 케익: 치즈케익\n",
      "음료: 당근케익 / 케익: 우유\n"
     ]
    }
   ],
   "source": [
    "print_order('카페라테', '치즈케익')      # ❷ 함수에 여러 개의 인자를 전달하여 호출하기\n",
    "print_order('당근케익', '우유')          # ❸ 전달하는 인자의 순서에 주의하자!"
   ]
  },
  {
   "cell_type": "markdown",
   "metadata": {},
   "source": [
    "### return 반환\n",
    "\n",
    " - 위와 같이 냄비는 면, 물, 라면스프는 라면을 return하는 하는 함수\n",
    " \n",
    " - 실제로는 라면을 준다기보다는 \"라면\"이라는 글자를 출력(output)\n",
    " \n",
    " - 음료와 케익이 아니라 \"음료\"와 \"케익\"이라는 글자를 출력 ... 마치 영수증을 보는 것과 같은?\n",
    " \n",
    " - 음료, 케익, 라면을 받기 위해서는 이러한 데이터를 함수로부터 반환 받아야 함\n",
    " \n",
    " - 함수 내에 return을 사용하면 return 뒤의 것을 return (반환)\n",
    " \n",
    " - return의 사용 방법은 아래와 같음\n",
    " \n",
    " ```\n",
    " def 함수이름:\n",
    "     함수의 내용\n",
    "     return 반환값\n",
    " ```"
   ]
  },
  {
   "cell_type": "code",
   "execution_count": 12,
   "metadata": {},
   "outputs": [
    {
     "name": "stdout",
     "output_type": "stream",
     "text": [
      "가격: 7500\n"
     ]
    }
   ],
   "source": [
    "def price(num_drink):\n",
    "    \"\"\"음료의 잔 수(num_drink)을 전달받아,\n",
    "    가격을 반환한다.\"\"\"\n",
    "    price_per_drink = 2500\n",
    "    total_price = num_drink * price_per_drink\n",
    "    return total_price                         # ❶ 계산한 값 반환하기\n",
    "\n",
    "result = price(3)                              # ❷ 함수 호출하고 반환값 저장하기\n",
    "print('가격:', result)"
   ]
  },
  {
   "cell_type": "markdown",
   "metadata": {},
   "source": [
    "### 매개변수의 기본 세팅\n",
    "\n",
    " - 매개변수는 느으~을 받아서 사용하는 것은 아님\n",
    " \n",
    " - 미리 정의된 매개변수를 사용할 수도 있음"
   ]
  },
  {
   "cell_type": "code",
   "execution_count": 3,
   "metadata": {},
   "outputs": [
    {
     "data": {
      "text/plain": [
       "3"
      ]
     },
     "execution_count": 3,
     "metadata": {},
     "output_type": "execute_result"
    }
   ],
   "source": [
    "round(3.1415)     # 매개변수를 하나만 전달"
   ]
  },
  {
   "cell_type": "code",
   "execution_count": 2,
   "metadata": {},
   "outputs": [
    {
     "data": {
      "text/plain": [
       "3.14"
      ]
     },
     "execution_count": 2,
     "metadata": {},
     "output_type": "execute_result"
    }
   ],
   "source": [
    "round(3.1415, 2)  # 두 번째 매개변수로 반올림 자리 지정"
   ]
  },
  {
   "cell_type": "code",
   "execution_count": 4,
   "metadata": {},
   "outputs": [],
   "source": [
    "def divide(number, by=2):                             # ❶ 매개변수 by의 기본값을 2로 정의\n",
    "    \"\"\"수(number)를 나눌 수(by)로 나눈다.\"\"\"\n",
    "    return number / by"
   ]
  },
  {
   "cell_type": "code",
   "execution_count": 7,
   "metadata": {},
   "outputs": [
    {
     "data": {
      "text/plain": [
       "2.5"
      ]
     },
     "execution_count": 7,
     "metadata": {},
     "output_type": "execute_result"
    }
   ],
   "source": [
    "divide(5)"
   ]
  },
  {
   "cell_type": "code",
   "execution_count": 8,
   "metadata": {},
   "outputs": [
    {
     "data": {
      "text/plain": [
       "1.0"
      ]
     },
     "execution_count": 8,
     "metadata": {},
     "output_type": "execute_result"
    }
   ],
   "source": [
    "divide(5, 5)"
   ]
  },
  {
   "cell_type": "code",
   "execution_count": 5,
   "metadata": {},
   "outputs": [
    {
     "ename": "SyntaxError",
     "evalue": "non-default argument follows default argument (<ipython-input-5-67a6d3d00dde>, line 1)",
     "output_type": "error",
     "traceback": [
      "\u001b[1;36m  File \u001b[1;32m\"<ipython-input-5-67a6d3d00dde>\"\u001b[1;36m, line \u001b[1;32m1\u001b[0m\n\u001b[1;33m    def multiply(a=2, b):  # ❶ 첫번째 매개변수에만 기본값을 정의했다\u001b[0m\n\u001b[1;37m                ^\u001b[0m\n\u001b[1;31mSyntaxError\u001b[0m\u001b[1;31m:\u001b[0m non-default argument follows default argument\n"
     ]
    }
   ],
   "source": [
    "def multiply(a=2, b):                                 # ❶ 첫번째 매개변수에만 기본값을 정의했다\n",
    "    \"\"\"a와 b의 곱을 계산한다.\"\"\"\n",
    "    return a * b\n",
    "\n",
    "# --> SyntaxError: non-default argument follows default argument"
   ]
  },
  {
   "cell_type": "code",
   "execution_count": 9,
   "metadata": {},
   "outputs": [],
   "source": [
    "def multiply(a=2, b=4):\n",
    "    \"\"\"a와 b의 곱을 계산한다.\"\"\"\n",
    "    return a * b"
   ]
  },
  {
   "cell_type": "code",
   "execution_count": 10,
   "metadata": {},
   "outputs": [
    {
     "data": {
      "text/plain": [
       "8"
      ]
     },
     "execution_count": 10,
     "metadata": {},
     "output_type": "execute_result"
    }
   ],
   "source": [
    "multiply()       # 두 매개변수 모두 생략"
   ]
  },
  {
   "cell_type": "code",
   "execution_count": 11,
   "metadata": {},
   "outputs": [
    {
     "data": {
      "text/plain": [
       "32"
      ]
     },
     "execution_count": 11,
     "metadata": {},
     "output_type": "execute_result"
    }
   ],
   "source": [
    "multiply(8)      # 두 번째 매개변수 생략"
   ]
  },
  {
   "cell_type": "code",
   "execution_count": 12,
   "metadata": {},
   "outputs": [
    {
     "data": {
      "text/plain": [
       "128"
      ]
     },
     "execution_count": 12,
     "metadata": {},
     "output_type": "execute_result"
    }
   ],
   "source": [
    "multiply(8, 16)  # 값을 모두 지정"
   ]
  },
  {
   "cell_type": "code",
   "execution_count": 13,
   "metadata": {},
   "outputs": [],
   "source": [
    "def 동전계산(오백원=0, 백원=0, 오십원=0, 십원=0):\n",
    "    \"\"\"동전의 개수를 입력받아 돈의 합계를 계산한다.\"\"\"\n",
    "    return 오백원 * 500 + 백원 * 100 + 오십원 * 50 + 십원 * 10"
   ]
  },
  {
   "cell_type": "code",
   "execution_count": 15,
   "metadata": {},
   "outputs": [
    {
     "data": {
      "text/plain": [
       "0"
      ]
     },
     "execution_count": 15,
     "metadata": {},
     "output_type": "execute_result"
    }
   ],
   "source": [
    "동전계산()                   # 기본값은 모두 0"
   ]
  },
  {
   "cell_type": "code",
   "execution_count": 16,
   "metadata": {},
   "outputs": [
    {
     "data": {
      "text/plain": [
       "2500"
      ]
     },
     "execution_count": 16,
     "metadata": {},
     "output_type": "execute_result"
    }
   ],
   "source": [
    "동전계산(1, 10, 0, 100)      # 값을 순서대로 전달"
   ]
  },
  {
   "cell_type": "code",
   "execution_count": 17,
   "metadata": {},
   "outputs": [
    {
     "data": {
      "text/plain": [
       "2200"
      ]
     },
     "execution_count": 17,
     "metadata": {},
     "output_type": "execute_result"
    }
   ],
   "source": [
    "동전계산(십원=220)           # 십원짜리만 220개"
   ]
  },
  {
   "cell_type": "code",
   "execution_count": 18,
   "metadata": {},
   "outputs": [
    {
     "data": {
      "text/plain": [
       "400"
      ]
     },
     "execution_count": 18,
     "metadata": {},
     "output_type": "execute_result"
    }
   ],
   "source": [
    "동전계산(백원=3, 오십원=2)   # 백원 3개, 오십원 2개"
   ]
  },
  {
   "cell_type": "code",
   "execution_count": 19,
   "metadata": {},
   "outputs": [
    {
     "data": {
      "text/plain": [
       "5900"
      ]
     },
     "execution_count": 19,
     "metadata": {},
     "output_type": "execute_result"
    }
   ],
   "source": [
    "동전계산(백원=9, 오백원=10)  # 백원 9개, 오백원 10개"
   ]
  },
  {
   "cell_type": "code",
   "execution_count": null,
   "metadata": {},
   "outputs": [],
   "source": []
  }
 ],
 "metadata": {
  "kernelspec": {
   "display_name": "Python 3",
   "language": "python",
   "name": "python3"
  },
  "language_info": {
   "codemirror_mode": {
    "name": "ipython",
    "version": 3
   },
   "file_extension": ".py",
   "mimetype": "text/x-python",
   "name": "python",
   "nbconvert_exporter": "python",
   "pygments_lexer": "ipython3",
   "version": "3.6.8"
  }
 },
 "nbformat": 4,
 "nbformat_minor": 2
}
