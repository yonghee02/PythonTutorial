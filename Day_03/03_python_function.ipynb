{
 "cells": [
  {
   "cell_type": "markdown",
   "metadata": {},
   "source": [
    "### 전역변수와 지역변수\n",
    "\n",
    " - 프로그램을 작성하면서 여러 가지 데이터에 여러 가지 이름을 붙임 --> 이름을 알아야하니까!\n",
    " \n",
    " - 이름과 단어는 문맥에 따라 다른 의미를 가질 수 있음\n",
    " \n",
    " - 예시\n",
    " \n",
    " > 오른쪽 : right / 맞음 : right\n",
    " > \n",
    " > 키보드에서 key는 입력 / 자물쇠 앞에서 key는 열쇠\n",
    " \n",
    " - 프로그래밍에서는‘이름공간(namespace)’이라는 개념을 이용해서 이름의 문맥을 구별\n",
    " \n",
    " - 프로그램 어디서든 부를 수 있는 이름을 전역변수(global variable)\n",
    " \n",
    " - 지역 이름공간에 정의되어, 그 문맥 속에서만 부를 수 있는 이름을 지역변수(local variable)"
   ]
  },
  {
   "cell_type": "code",
   "execution_count": 1,
   "metadata": {},
   "outputs": [
    {
     "name": "stdout",
     "output_type": "stream",
     "text": [
      "180\n"
     ]
    },
    {
     "ename": "NameError",
     "evalue": "name 'seconds' is not defined",
     "output_type": "error",
     "traceback": [
      "\u001b[1;31m---------------------------------------------------------------------------\u001b[0m",
      "\u001b[1;31mNameError\u001b[0m                                 Traceback (most recent call last)",
      "\u001b[1;32m<ipython-input-1-d715f953c262>\u001b[0m in \u001b[0;36m<module>\u001b[1;34m\u001b[0m\n\u001b[0;32m      7\u001b[0m \u001b[1;33m\u001b[0m\u001b[0m\n\u001b[0;32m      8\u001b[0m \u001b[0mprint\u001b[0m\u001b[1;33m(\u001b[0m\u001b[0mminutes_to_seconds\u001b[0m\u001b[1;33m(\u001b[0m\u001b[1;36m3\u001b[0m\u001b[1;33m)\u001b[0m\u001b[1;33m)\u001b[0m                               \u001b[1;31m# 화면에 180이 출력된다\u001b[0m\u001b[1;33m\u001b[0m\u001b[1;33m\u001b[0m\u001b[0m\n\u001b[1;32m----> 9\u001b[1;33m \u001b[0mprint\u001b[0m\u001b[1;33m(\u001b[0m\u001b[0mseconds\u001b[0m\u001b[1;33m)\u001b[0m                                             \u001b[1;31m# ❸ 오류! 함수 밖에서 지역변수를 불렀다\u001b[0m\u001b[1;33m\u001b[0m\u001b[1;33m\u001b[0m\u001b[0m\n\u001b[0m",
      "\u001b[1;31mNameError\u001b[0m: name 'seconds' is not defined"
     ]
    }
   ],
   "source": [
    "seconds_per_minute = 60                                    # 1분은 60초 ❶\n",
    "\n",
    "def minutes_to_seconds(minutes):\n",
    "    \"\"\"분을 입력받아 같은 시간만큼의 초를 반환한다.\"\"\"\n",
    "    seconds = minutes * seconds_per_minute                 # ❷ 전역 변수를 함수 내에서 사용\n",
    "    return seconds\n",
    "\n",
    "print(minutes_to_seconds(3))                               # 화면에 180이 출력된다\n",
    "print(seconds)                                             # ❸ 오류! 함수 밖에서 지역변수를 불렀다"
   ]
  },
  {
   "cell_type": "markdown",
   "metadata": {},
   "source": [
    "### 전역변수와 지역변수의 특징 정리\n",
    "\n",
    " - 전역변수: 함수 밖, 전역 이름공간에 정의된 변수\n",
    " \n",
    " - 지역변수: 함수 안, 지역 이름공간에 정의된 변수\n",
    " \n",
    " - 지역변수는 그 변수가 정의된 함수 안에서만 읽을 수 있다.\n",
    " \n",
    " - 전역변수는 프로그램 어디서든 읽을 수 있다. 단, 함수 안에서 전역변수에 새로운 값을 대입할 수는 없다."
   ]
  },
  {
   "cell_type": "code",
   "execution_count": 2,
   "metadata": {},
   "outputs": [],
   "source": [
    "from IPython.display import Image"
   ]
  },
  {
   "cell_type": "code",
   "execution_count": 4,
   "metadata": {},
   "outputs": [
    {
     "data": {
      "image/png": "[encoded data removed]",
      "text/plain": [
       "<IPython.core.display.Image object>"
      ]
     },
     "execution_count": 4,
     "metadata": {},
     "output_type": "execute_result"
    }
   ],
   "source": [
    "Image(\"img/00_img.png\")"
   ]
  },
  {
   "cell_type": "code",
   "execution_count": 5,
   "metadata": {},
   "outputs": [
    {
     "name": "stdout",
     "output_type": "stream",
     "text": [
      "785.3981633974483\n"
     ]
    }
   ],
   "source": [
    "pi = 3.141592653589793\n",
    "\n",
    "def area_of_circle(radius):\n",
    "    \"\"\"원의 반지름(radius)을 입력받아 넓이를 반환한다.\"\"\"\n",
    "    area = radius * radius * pi\n",
    "    return area\n",
    "\n",
    "def volume_of_cylinder(radius, height):\n",
    "    \"\"\"원기둥의 반지름(radius)과 높이(height)를 입력받아\n",
    "    부피를 반환한다.\"\"\"\n",
    "    top_area = area_of_circle(radius)\n",
    "    volume = top_area * height\n",
    "    return volume\n",
    "\n",
    "result = volume_of_cylinder(5, 10)\n",
    "print(result)"
   ]
  },
  {
   "cell_type": "markdown",
   "metadata": {},
   "source": [
    "### 지역변수의 운명\n",
    "\n",
    " - 지역변수는 함수가 실행될 때마다 새로 만들어지고, 함수의 실행이 종료되면 삭제\n",
    " \n",
    " - 즉, 함수를 실행할 때마다 함수가 이전에 계산했던 내용을 다 잊어버린 채 새로 실행\n",
    " \n",
    " - 함수의 이전 실행 결과를 기억해야 한다면 함수의 밖에서 결과를 보관 --> 전역변수로 바꾸어 주어야 함\n",
    " \n",
    " \n",
    " \n",
    "### 지역변수와 전역변수의 예절(?), 도덕(?)\n",
    "\n",
    " - 지역변수를 이용해 그 데이터와 관련된 문제를 함수 내부의 문제로 scopic\n",
    " \n",
    " - 전역변수를 함수 안에서 수정하는 것은 좋지 않음 --> 여러 함수에서 전역변수를 건드리면 누가 건드렸는지 알 수가 없음\n",
    " \n",
    " - 그럼에도 불구하고 기억을 해야만하는 값은 아래와 같이 사용이 가능"
   ]
  },
  {
   "cell_type": "code",
   "execution_count": 7,
   "metadata": {},
   "outputs": [
    {
     "ename": "UnboundLocalError",
     "evalue": "local variable 'num_stamp' referenced before assignment",
     "output_type": "error",
     "traceback": [
      "\u001b[1;31m---------------------------------------------------------------------------\u001b[0m",
      "\u001b[1;31mUnboundLocalError\u001b[0m                         Traceback (most recent call last)",
      "\u001b[1;32m<ipython-input-7-d8aa072788cb>\u001b[0m in \u001b[0;36m<module>\u001b[1;34m\u001b[0m\n\u001b[0;32m      6\u001b[0m     \u001b[0mprint\u001b[0m\u001b[1;33m(\u001b[0m\u001b[0mnum_stamp\u001b[0m\u001b[1;33m)\u001b[0m\u001b[1;33m\u001b[0m\u001b[1;33m\u001b[0m\u001b[0m\n\u001b[0;32m      7\u001b[0m \u001b[1;33m\u001b[0m\u001b[0m\n\u001b[1;32m----> 8\u001b[1;33m \u001b[0mstamp\u001b[0m\u001b[1;33m(\u001b[0m\u001b[1;33m)\u001b[0m\u001b[1;33m\u001b[0m\u001b[1;33m\u001b[0m\u001b[0m\n\u001b[0m",
      "\u001b[1;32m<ipython-input-7-d8aa072788cb>\u001b[0m in \u001b[0;36mstamp\u001b[1;34m()\u001b[0m\n\u001b[0;32m      3\u001b[0m \u001b[1;32mdef\u001b[0m \u001b[0mstamp\u001b[0m\u001b[1;33m(\u001b[0m\u001b[1;33m)\u001b[0m\u001b[1;33m:\u001b[0m\u001b[1;33m\u001b[0m\u001b[1;33m\u001b[0m\u001b[0m\n\u001b[0;32m      4\u001b[0m     \u001b[1;34m\"\"\"쿠폰 스탬프가 찍힌 횟수를 증가시키고, 화면에 출력한다.\"\"\"\u001b[0m\u001b[1;33m\u001b[0m\u001b[1;33m\u001b[0m\u001b[0m\n\u001b[1;32m----> 5\u001b[1;33m     \u001b[0mnum_stamp\u001b[0m \u001b[1;33m=\u001b[0m \u001b[0mnum_stamp\u001b[0m \u001b[1;33m+\u001b[0m \u001b[1;36m1\u001b[0m                                   \u001b[1;31m# ❶ 전역변수를 수정하려고 시도함 --> 위에서 설명한 것과 같이 no!\u001b[0m\u001b[1;33m\u001b[0m\u001b[1;33m\u001b[0m\u001b[0m\n\u001b[0m\u001b[0;32m      6\u001b[0m     \u001b[0mprint\u001b[0m\u001b[1;33m(\u001b[0m\u001b[0mnum_stamp\u001b[0m\u001b[1;33m)\u001b[0m\u001b[1;33m\u001b[0m\u001b[1;33m\u001b[0m\u001b[0m\n\u001b[0;32m      7\u001b[0m \u001b[1;33m\u001b[0m\u001b[0m\n",
      "\u001b[1;31mUnboundLocalError\u001b[0m: local variable 'num_stamp' referenced before assignment"
     ]
    }
   ],
   "source": [
    "num_stamp = 0                                                    # 쿠폰 스탬프가 찍힌 횟수 (전역변수)\n",
    "\n",
    "def stamp():\n",
    "    \"\"\"쿠폰 스탬프가 찍힌 횟수를 증가시키고, 화면에 출력한다.\"\"\"\n",
    "    num_stamp = num_stamp + 1                                   # ❶ 전역변수를 수정하려고 시도함 --> 위에서 설명한 것과 같이 no!\n",
    "    print(num_stamp)\n",
    "    \n",
    "stamp()"
   ]
  },
  {
   "cell_type": "code",
   "execution_count": 8,
   "metadata": {},
   "outputs": [
    {
     "name": "stdout",
     "output_type": "stream",
     "text": [
      "1\n",
      "2\n"
     ]
    }
   ],
   "source": [
    "num_stamp = 0  # 쿠폰 스탬프가 찍힌 횟수 (전역변수)\n",
    "\n",
    "def stamp():\n",
    "    \"\"\"쿠폰 스탬프가 찍힌 횟수를 증가시키고, 화면에 출력한다.\"\"\"\n",
    "    global num_stamp           # ❶ num_stamp는 전역변수다\n",
    "    num_stamp = num_stamp + 1  # 이제 오류가 발생하지 않는다\n",
    "    print(num_stamp)\n",
    "\n",
    "stamp()  # 화면에 1이 출력된다\n",
    "stamp()  # 화면에 2가 출력된다"
   ]
  },
  {
   "cell_type": "code",
   "execution_count": 9,
   "metadata": {},
   "outputs": [
    {
     "name": "stdout",
     "output_type": "stream",
     "text": [
      "1\n",
      "2\n"
     ]
    }
   ],
   "source": [
    "num_stamp = 0  # ❶ 쿠폰 스탬프가 찍힌 횟수 (전역변수)\n",
    "\n",
    "def stamp(num_stamp):  # ❷ 지역변수(매개변수) num_stamp\n",
    "    \"\"\"쿠폰 스탬프가 찍힌 횟수를 증가시키고, 화면에 출력한다.\"\"\"\n",
    "    num_stamp = num_stamp + 1\n",
    "    print(num_stamp)\n",
    "    return num_stamp\n",
    "\n",
    "num_stamp = stamp(num_stamp)  # ❸ 전역변수에 함수의 반환값을 대입한다\n",
    "num_stamp = stamp(num_stamp)"
   ]
  },
  {
   "cell_type": "markdown",
   "metadata": {},
   "source": [
    "### 이름이 없는 함수\n",
    "\n",
    " - 너무너무너무 간단해서 def를쓰기가 낭비인 친구가 있을 수 있음\n",
    " \n",
    " - 이를 lambda 식이라고 부름\n",
    " \n",
    " - 코드를 간략화할 때 좋음\n",
    " \n",
    " - 간단한 일회용 함수를 만들 때는 람다 식을 이용하면 좋음 ... 일회용품 : 코드라는 자연환경에 썩 좋지는 않음\n",
    " \n",
    " - 아래와 같이 사용\n",
    " \n",
    " > lambda 매개변수: 반환값"
   ]
  },
  {
   "cell_type": "code",
   "execution_count": 10,
   "metadata": {},
   "outputs": [
    {
     "data": {
      "text/plain": [
       "80"
      ]
     },
     "execution_count": 10,
     "metadata": {},
     "output_type": "execute_result"
    }
   ],
   "source": [
    "두_수의_곱 = lambda a, b: a * b\n",
    "두_수의_곱(10, 8)"
   ]
  },
  {
   "cell_type": "code",
   "execution_count": null,
   "metadata": {},
   "outputs": [],
   "source": []
  }
 ],
 "metadata": {
  "kernelspec": {
   "display_name": "Python 3",
   "language": "python",
   "name": "python3"
  },
  "language_info": {
   "codemirror_mode": {
    "name": "ipython",
    "version": 3
   },
   "file_extension": ".py",
   "mimetype": "text/x-python",
   "name": "python",
   "nbconvert_exporter": "python",
   "pygments_lexer": "ipython3",
   "version": "3.6.8"
  }
 },
 "nbformat": 4,
 "nbformat_minor": 2
}
