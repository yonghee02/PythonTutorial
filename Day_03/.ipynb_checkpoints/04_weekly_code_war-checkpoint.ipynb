{
 "cells": [
  {
   "cell_type": "markdown",
   "metadata": {},
   "source": [
    "#### A wolf in sheep's clothing\n",
    "\n",
    " - Wolves have been reintroduced to Great Britain. \n",
    " \n",
    " - You are a sheep farmer, and are now plagued by wolves which pretend to be sheep. \n",
    " \n",
    " - Fortunately, you are good at spotting them.\n",
    "\n",
    " - Warn the sheep in front of the wolf that it is about to be eaten. \n",
    " \n",
    " - Remember that you are standing at the front of the queue which is at the end of the array:\n",
    "\n",
    "```\n",
    "[sheep, sheep, sheep, sheep, sheep, wolf, sheep, sheep]      (YOU ARE HERE AT THE FRONT OF THE QUEUE)\n",
    "\n",
    "  7      6      5      4      3            2      1\n",
    "```\n",
    " \n",
    " - If the wolf is the closest animal to you, return \"Pls go away and stop eating my sheep\". \n",
    " \n",
    " - Otherwise, return \"Oi! Sheep number N! You are about to be eaten by a wolf!\" where N is the sheep's position in the queue.\n",
    "\n",
    " - Note: there will always be exactly one wolf in the array.\n",
    "\n",
    " - Examples\n",
    " \n",
    " > warn_the_sheep([\"sheep\", \"sheep\", \"sheep\", \"wolf\", \"sheep\"]) == 'Oi! Sheep number 1! You are about to be eaten by a wolf!'\n",
    " > \n",
    " > warn_the_sheep(['sheep', 'sheep', 'wolf']) == 'Pls go away and stop eating my sheep'\n",
    " \n",
    " - 늑대가 양을 얼마나 잡아먹을 수 있는지 경고하는 함수를 만들고자 함\n",
    " \n",
    " - 늑대와 양의 위치를 알 수 있는 string 값의 list를 함수의 input으로 받음\n",
    " \n",
    " - 함수의 output으로 늑대가 양을 얼마나 잡아 먹었는지 혹은 안 잡아 먹혔으니 위험하다는 string을 출력하는 함수를 만들어 보자\n",
    " \n",
    " - 위의 예제를 참조"
   ]
  },
  {
   "cell_type": "code",
   "execution_count": null,
   "metadata": {},
   "outputs": [],
   "source": [
    "def warn_the_sheep(queue):\n",
    "    # code"
   ]
  },
  {
   "cell_type": "markdown",
   "metadata": {},
   "source": [
    "#### Grasshopper - Personalized Message \n",
    "\n",
    " - Personalized greeting\n",
    "\n",
    " - Create a function that gives a personalized greeting. This function takes two parameters: name and owner.\n",
    "\n",
    " - Use conditionals to return the proper message:\n",
    "  \n",
    "| case | return |\n",
    "| :------: | :------: |\n",
    "| name equals owner | 'Hello boss' |\n",
    "| otherwise | 'Hello guest' |\n",
    " \n",
    " - 개인화된 인사 함수를 만들어보자\n",
    " \n",
    " - 이 함수는 2개의 string 을 input으로 받음\n",
    " \n",
    " - 2개의 string이 서로 같으면 'Hello boss'를 출력\n",
    " \n",
    " - 다르면 'Hello guest'를 출력"
   ]
  },
  {
   "cell_type": "code",
   "execution_count": null,
   "metadata": {},
   "outputs": [],
   "source": [
    "def greet(name, owner):\n",
    "    # code"
   ]
  },
  {
   "cell_type": "code",
   "execution_count": null,
   "metadata": {},
   "outputs": [],
   "source": []
  },
  {
   "cell_type": "code",
   "execution_count": null,
   "metadata": {},
   "outputs": [],
   "source": []
  },
  {
   "cell_type": "code",
   "execution_count": null,
   "metadata": {},
   "outputs": [],
   "source": []
  },
  {
   "cell_type": "markdown",
   "metadata": {},
   "source": [
    "#### wolf in sheep'sclothing 정답\n",
    "\n",
    "warn_the_sheep([\"sheep\", \"sheep\", \"sheep\", \"wolf\", \"sheep\"]) == 'Oi! Sheep number 1! You are about to be eaten by a wolf!'\n",
    "\n",
    "warn_the_sheep(['sheep', 'sheep', 'wolf']) == 'Pls go away and stop eating my sheep'"
   ]
  },
  {
   "cell_type": "code",
   "execution_count": 16,
   "metadata": {},
   "outputs": [],
   "source": [
    "def warn_the_sheep(queue):\n",
    "    length_list = len(queue)-1\n",
    "    for i in range(length_list):\n",
    "        if queue[i] == 'wolf':\n",
    "            return ('Oi! Sheep number {}! You are about to be eaten by a wolf!'.format(length_list-i))\n",
    "    \n",
    "    return 'Pls go away and stop eating my sheep'"
   ]
  },
  {
   "cell_type": "code",
   "execution_count": null,
   "metadata": {},
   "outputs": [],
   "source": [
    "def warn_the_sheep(queue):\n",
    "    n = len(queue) - queue.index('wolf') - 1\n",
    "    return f'Oi! Sheep number {n}! You are about to be eaten by a wolf!' if n else 'Pls go away and stop eating my sheep'"
   ]
  },
  {
   "cell_type": "markdown",
   "metadata": {},
   "source": [
    "#### Personalized greeting : 정답"
   ]
  },
  {
   "cell_type": "code",
   "execution_count": 1,
   "metadata": {},
   "outputs": [],
   "source": [
    "def greet(name, owner):\n",
    "    if(name == owner):\n",
    "        return 'Hello boss'\n",
    "    else:\n",
    "        return 'Hello guest' "
   ]
  },
  {
   "cell_type": "code",
   "execution_count": null,
   "metadata": {},
   "outputs": [],
   "source": [
    "def greet(name, owner):\n",
    "    return \"Hello boss\" if name == owner else \"Hello guest\""
   ]
  }
 ],
 "metadata": {
  "kernelspec": {
   "display_name": "Python 3",
   "language": "python",
   "name": "python3"
  },
  "language_info": {
   "codemirror_mode": {
    "name": "ipython",
    "version": 3
   },
   "file_extension": ".py",
   "mimetype": "text/x-python",
   "name": "python",
   "nbconvert_exporter": "python",
   "pygments_lexer": "ipython3",
   "version": "3.6.8"
  }
 },
 "nbformat": 4,
 "nbformat_minor": 2
}
